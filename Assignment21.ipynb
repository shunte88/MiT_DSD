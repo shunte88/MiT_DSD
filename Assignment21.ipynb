{
  "cells": [
    {
      "cell_type": "markdown",
      "metadata": {
        "deletable": false,
        "editable": false,
        "id": "pLgwRLZiMVJv",
        "nbgrader": {
          "checksum": "4b220c408d9ad83ded4ce03d707e956f",
          "grade": false,
          "grade_id": "cell-6ff916a5697a4710",
          "locked": true,
          "schema_version": 1,
          "solution": false
        }
      },
      "source": [
        "# Deep Learning for Text - Encoder Models"
      ]
    },
    {
      "cell_type": "markdown",
      "metadata": {
        "deletable": false,
        "editable": false,
        "id": "3899YULkO2is",
        "nbgrader": {
          "checksum": "202b1526349291d5b462d9698dcb7f7f",
          "grade": false,
          "grade_id": "cell-991cfe2ef217d300",
          "locked": true,
          "schema_version": 1,
          "solution": false
        }
      },
      "source": [
        "## Data Preprocessing\n"
      ]
    },
    {
      "cell_type": "markdown",
      "metadata": {
        "deletable": false,
        "editable": false,
        "id": "xgv9-wh2i-eg",
        "nbgrader": {
          "checksum": "e841f6255d99649ca03496667ea4fe2f",
          "grade": false,
          "grade_id": "cell-4b987f312bc09df1",
          "locked": true,
          "schema_version": 1,
          "solution": false
        }
      },
      "source": [
        "\n",
        "Let's begin extracting the data from the ATIS dataset and turning into a form that we can use in our Deep Learning models.\n",
        "\n",
        "The ATIS dataset is standard benchmark dataset widely used to build models for intent classification and slot filling tasks (we will explain all this shortly). You can find a very detailed explanation [here](https://catalog.ldc.upenn.edu/docs/LDC93S4B/corpus.html).\n",
        "\n",
        "We will begin by loading the file and then partitioning into a test and a training set."
      ]
    },
    {
      "cell_type": "code",
      "execution_count": 15,
      "metadata": {
        "deletable": false,
        "editable": false,
        "id": "7rJh-xXx4jgD",
        "nbgrader": {
          "checksum": "ec7d490bb52dc1759e267746f769ef91",
          "grade": false,
          "grade_id": "cell-ca423d34261a7199",
          "locked": true,
          "schema_version": 1,
          "solution": false
        }
      },
      "outputs": [],
      "source": [
        "import pandas as pd\n",
        "import numpy as np\n",
        "import pickle\n",
        "import os\n",
        "import matplotlib.pyplot as plt\n",
        "import warnings\n",
        "\n",
        "import tensorflow as tf\n",
        "from tensorflow import keras\n",
        "\n",
        "\n",
        "tf.random.set_seed(42)\n",
        "warnings.simplefilter(action=\"ignore\", category=FutureWarning)"
      ]
    },
    {
      "cell_type": "code",
      "execution_count": 16,
      "metadata": {
        "deletable": false,
        "nbgrader": {
          "checksum": "782328bb16467f10a024c47e7cb196cc",
          "grade": false,
          "grade_id": "cell-1f82a84e23534653",
          "locked": false,
          "schema_version": 1,
          "solution": true
        },
        "id": "OsAClGqdfxIa"
      },
      "outputs": [],
      "source": [
        "# Read in the training and testing data\n",
        "df_train = pd.read_csv('sample_data/atis_train_data.csv')\n",
        "df_test = pd.read_csv('sample_data/atis_test_data.csv')"
      ]
    },
    {
      "cell_type": "code",
      "execution_count": 16,
      "metadata": {
        "deletable": false,
        "editable": false,
        "id": "muYUY4P67rma",
        "nbgrader": {
          "checksum": "2256c6caf7b3634f463f37b7f79eda7d",
          "grade": true,
          "grade_id": "cell-0881c6c636f05f3c",
          "locked": true,
          "points": 1,
          "schema_version": 1,
          "solution": false
        }
      },
      "outputs": [],
      "source": []
    },
    {
      "cell_type": "markdown",
      "metadata": {
        "deletable": false,
        "editable": false,
        "id": "WBciCu0YP_Sg",
        "nbgrader": {
          "checksum": "1ed359018f4424875a6d269949e54a69",
          "grade": false,
          "grade_id": "cell-5d04969236981a71",
          "locked": true,
          "schema_version": 1,
          "solution": false
        }
      },
      "source": [
        "Let's visualize all of this on a dataframe. Below we display an example query for each intent class in a nice layout.\n",
        "\n",
        "The first column of the Dataframe below contains the actual query that was asked. The second column indicates the intent (flight, flight time, etc), whereas the last column contains the slot filling structure."
      ]
    },
    {
      "cell_type": "code",
      "execution_count": 17,
      "metadata": {
        "deletable": false,
        "nbgrader": {
          "checksum": "00214ef688603776717a26fb40b10e0b",
          "grade": false,
          "grade_id": "cell-ab7aa1b0a9b6bcfe",
          "locked": false,
          "schema_version": 1,
          "solution": true
        },
        "colab": {
          "base_uri": "https://localhost:8080/",
          "height": 896
        },
        "id": "0EjOBAr1fxIb",
        "outputId": "6a58c66e-a18b-4355-9d98-773ed492654c"
      },
      "outputs": [
        {
          "output_type": "execute_result",
          "data": {
            "text/plain": [
              "                                                                                                                                                                     query  \\\n",
              "0                                                                                         i want to fly from boston at 838 am and arrive in denver at 1110 in the morning    \n",
              "1                                                                                      what is the arrival time in san francisco for the 755 am flight leaving washington    \n",
              "2                                                                                                                                 cheapest airfare from tacoma to orlando    \n",
              "3                                                                                                      what kind of aircraft is used on a flight from cleveland to dallas    \n",
              "4                                                                                                               what kind of ground transportation is available in denver    \n",
              "5                                                                                                                                          what 's the airport at orlando    \n",
              "6                                                                                                                      which airline serves denver pittsburgh and atlanta    \n",
              "7                                                                                                                           how far is it from orlando airport to orlando    \n",
              "8                                                                                                                                                     what is fare code h    \n",
              "9                                                                                                              how much does the limousine service cost within pittsburgh    \n",
              "10                                                                                               please tell me how many nonstop flights there are from boston to atlanta    \n",
              "11                                                                                                                                        what city is the airport mco in    \n",
              "12                                                                                                                   flight numbers from columbus to minneapolis tomorrow    \n",
              "13                                                                                                                                                how many seats in a 100    \n",
              "14                                                                                  give me the flights and fares on december twenty seventh from indianapolis to orlando    \n",
              "15                                                                                                                show me all meals on flights from atlanta to washington    \n",
              "16                                                                     what are the air restrictions on flights from pittsburgh to atlanta for the airfare of 416 dollars    \n",
              "17                                                                                                                 airline and flight number from columbus to minneapolis    \n",
              "18                                                              what ground transportation is available from the pittsburgh airport to downtown and how much does it cost    \n",
              "19                                                                                                  show me the costs and times for flights from san francisco to atlanta    \n",
              "20                                                                                                                              show me the cheapest fare in the database    \n",
              "21   i want to fly from detroit to st. petersburg on northwest airlines and leave around 9 am tell me what aircraft are used by this flight and tell me the flight number    \n",
              "\n",
              "                        intent  \\\n",
              "0                       flight   \n",
              "1                  flight_time   \n",
              "2                      airfare   \n",
              "3                     aircraft   \n",
              "4               ground_service   \n",
              "5                      airport   \n",
              "6                      airline   \n",
              "7                     distance   \n",
              "8                 abbreviation   \n",
              "9                  ground_fare   \n",
              "10                    quantity   \n",
              "11                        city   \n",
              "12                   flight_no   \n",
              "13                    capacity   \n",
              "14              flight+airfare   \n",
              "15                        meal   \n",
              "16                 restriction   \n",
              "17           airline+flight_no   \n",
              "18  ground_service+ground_fare   \n",
              "19         airfare+flight_time   \n",
              "20                    cheapest   \n",
              "21   aircraft+flight+flight_no   \n",
              "\n",
              "                                                                                                                                                                                                 slot filling  \n",
              "0                                                         O O O O O B-fromloc.city_name O B-depart_time.time I-depart_time.time O O O B-toloc.city_name O B-arrive_time.time O O B-arrive_time.period_of_day   \n",
              "1                                                              O O O B-flight_time I-flight_time O B-fromloc.city_name I-fromloc.city_name O O B-depart_time.time I-depart_time.time O O B-fromloc.city_name   \n",
              "2                                                                                                                                                B-cost_relative O O B-fromloc.city_name O B-toloc.city_name   \n",
              "3                                                                                                                                                O O O O O O O O O O B-fromloc.city_name O B-toloc.city_name   \n",
              "4                                                                                                                                                                                O O O O O O O O B-city_name   \n",
              "5                                                                                                                                                                                      O O O O O B-city_name   \n",
              "6                                                                                                                                        O O O B-fromloc.city_name B-fromloc.city_name O B-fromloc.city_name   \n",
              "7                                                                                                                                O O O O O B-fromloc.airport_name I-fromloc.airport_name O B-toloc.city_name   \n",
              "8                                                                                                                                                                                  O O O O B-fare_basis_code   \n",
              "9                                                                                                                                                                 O O O O B-transport_type O O O B-city_name   \n",
              "10                                                                                                                                   O O O O O B-flight_stop O O O O B-fromloc.city_name O B-toloc.city_name   \n",
              "11                                                                                                                                                                        O O O O O B-fromloc.airport_code O   \n",
              "12                                                                                                                                O O O B-fromloc.city_name O B-toloc.city_name B-depart_date.today_relative   \n",
              "13                                                                                                                                                                                 O O O O O B-aircraft_code   \n",
              "14                                                                        O O O O O O O B-depart_date.month_name B-depart_date.day_number I-depart_date.day_number O B-fromloc.city_name O B-toloc.city_name   \n",
              "15                                                                                                                                                O O O B-meal O O O B-fromloc.city_name O B-toloc.city_name   \n",
              "16                                                                                                               O O O O O O O O B-fromloc.city_name O B-toloc.city_name O O O O B-fare_amount I-fare_amount   \n",
              "17                                                                                                                                                         O O O O O B-fromloc.city_name O B-toloc.city_name   \n",
              "18                                                                                                                               O O O O O O O B-fromloc.airport_name I-fromloc.airport_name O O O O O O O O   \n",
              "19                                                                                                                 O O O O O B-flight_time O O O B-fromloc.city_name I-fromloc.city_name O B-toloc.city_name   \n",
              "20                                                                                                                                                                             O O O B-cost_relative O O O O   \n",
              "21   O O O O O B-fromloc.city_name O B-toloc.city_name I-toloc.city_name O B-airline_name I-airline_name O O B-depart_time.time_relative B-depart_time.time I-depart_time.time O O O O O O O O O O O O O O O   "
            ],
            "text/html": [
              "\n",
              "  <div id=\"df-4a522511-5db6-471d-9b50-954585bb4a11\" class=\"colab-df-container\">\n",
              "    <div>\n",
              "<style scoped>\n",
              "    .dataframe tbody tr th:only-of-type {\n",
              "        vertical-align: middle;\n",
              "    }\n",
              "\n",
              "    .dataframe tbody tr th {\n",
              "        vertical-align: top;\n",
              "    }\n",
              "\n",
              "    .dataframe thead th {\n",
              "        text-align: right;\n",
              "    }\n",
              "</style>\n",
              "<table border=\"1\" class=\"dataframe\">\n",
              "  <thead>\n",
              "    <tr style=\"text-align: right;\">\n",
              "      <th></th>\n",
              "      <th>query</th>\n",
              "      <th>intent</th>\n",
              "      <th>slot filling</th>\n",
              "    </tr>\n",
              "  </thead>\n",
              "  <tbody>\n",
              "    <tr>\n",
              "      <th>0</th>\n",
              "      <td>i want to fly from boston at 838 am and arrive in denver at 1110 in the morning</td>\n",
              "      <td>flight</td>\n",
              "      <td>O O O O O B-fromloc.city_name O B-depart_time.time I-depart_time.time O O O B-toloc.city_name O B-arrive_time.time O O B-arrive_time.period_of_day</td>\n",
              "    </tr>\n",
              "    <tr>\n",
              "      <th>1</th>\n",
              "      <td>what is the arrival time in san francisco for the 755 am flight leaving washington</td>\n",
              "      <td>flight_time</td>\n",
              "      <td>O O O B-flight_time I-flight_time O B-fromloc.city_name I-fromloc.city_name O O B-depart_time.time I-depart_time.time O O B-fromloc.city_name</td>\n",
              "    </tr>\n",
              "    <tr>\n",
              "      <th>2</th>\n",
              "      <td>cheapest airfare from tacoma to orlando</td>\n",
              "      <td>airfare</td>\n",
              "      <td>B-cost_relative O O B-fromloc.city_name O B-toloc.city_name</td>\n",
              "    </tr>\n",
              "    <tr>\n",
              "      <th>3</th>\n",
              "      <td>what kind of aircraft is used on a flight from cleveland to dallas</td>\n",
              "      <td>aircraft</td>\n",
              "      <td>O O O O O O O O O O B-fromloc.city_name O B-toloc.city_name</td>\n",
              "    </tr>\n",
              "    <tr>\n",
              "      <th>4</th>\n",
              "      <td>what kind of ground transportation is available in denver</td>\n",
              "      <td>ground_service</td>\n",
              "      <td>O O O O O O O O B-city_name</td>\n",
              "    </tr>\n",
              "    <tr>\n",
              "      <th>5</th>\n",
              "      <td>what 's the airport at orlando</td>\n",
              "      <td>airport</td>\n",
              "      <td>O O O O O B-city_name</td>\n",
              "    </tr>\n",
              "    <tr>\n",
              "      <th>6</th>\n",
              "      <td>which airline serves denver pittsburgh and atlanta</td>\n",
              "      <td>airline</td>\n",
              "      <td>O O O B-fromloc.city_name B-fromloc.city_name O B-fromloc.city_name</td>\n",
              "    </tr>\n",
              "    <tr>\n",
              "      <th>7</th>\n",
              "      <td>how far is it from orlando airport to orlando</td>\n",
              "      <td>distance</td>\n",
              "      <td>O O O O O B-fromloc.airport_name I-fromloc.airport_name O B-toloc.city_name</td>\n",
              "    </tr>\n",
              "    <tr>\n",
              "      <th>8</th>\n",
              "      <td>what is fare code h</td>\n",
              "      <td>abbreviation</td>\n",
              "      <td>O O O O B-fare_basis_code</td>\n",
              "    </tr>\n",
              "    <tr>\n",
              "      <th>9</th>\n",
              "      <td>how much does the limousine service cost within pittsburgh</td>\n",
              "      <td>ground_fare</td>\n",
              "      <td>O O O O B-transport_type O O O B-city_name</td>\n",
              "    </tr>\n",
              "    <tr>\n",
              "      <th>10</th>\n",
              "      <td>please tell me how many nonstop flights there are from boston to atlanta</td>\n",
              "      <td>quantity</td>\n",
              "      <td>O O O O O B-flight_stop O O O O B-fromloc.city_name O B-toloc.city_name</td>\n",
              "    </tr>\n",
              "    <tr>\n",
              "      <th>11</th>\n",
              "      <td>what city is the airport mco in</td>\n",
              "      <td>city</td>\n",
              "      <td>O O O O O B-fromloc.airport_code O</td>\n",
              "    </tr>\n",
              "    <tr>\n",
              "      <th>12</th>\n",
              "      <td>flight numbers from columbus to minneapolis tomorrow</td>\n",
              "      <td>flight_no</td>\n",
              "      <td>O O O B-fromloc.city_name O B-toloc.city_name B-depart_date.today_relative</td>\n",
              "    </tr>\n",
              "    <tr>\n",
              "      <th>13</th>\n",
              "      <td>how many seats in a 100</td>\n",
              "      <td>capacity</td>\n",
              "      <td>O O O O O B-aircraft_code</td>\n",
              "    </tr>\n",
              "    <tr>\n",
              "      <th>14</th>\n",
              "      <td>give me the flights and fares on december twenty seventh from indianapolis to orlando</td>\n",
              "      <td>flight+airfare</td>\n",
              "      <td>O O O O O O O B-depart_date.month_name B-depart_date.day_number I-depart_date.day_number O B-fromloc.city_name O B-toloc.city_name</td>\n",
              "    </tr>\n",
              "    <tr>\n",
              "      <th>15</th>\n",
              "      <td>show me all meals on flights from atlanta to washington</td>\n",
              "      <td>meal</td>\n",
              "      <td>O O O B-meal O O O B-fromloc.city_name O B-toloc.city_name</td>\n",
              "    </tr>\n",
              "    <tr>\n",
              "      <th>16</th>\n",
              "      <td>what are the air restrictions on flights from pittsburgh to atlanta for the airfare of 416 dollars</td>\n",
              "      <td>restriction</td>\n",
              "      <td>O O O O O O O O B-fromloc.city_name O B-toloc.city_name O O O O B-fare_amount I-fare_amount</td>\n",
              "    </tr>\n",
              "    <tr>\n",
              "      <th>17</th>\n",
              "      <td>airline and flight number from columbus to minneapolis</td>\n",
              "      <td>airline+flight_no</td>\n",
              "      <td>O O O O O B-fromloc.city_name O B-toloc.city_name</td>\n",
              "    </tr>\n",
              "    <tr>\n",
              "      <th>18</th>\n",
              "      <td>what ground transportation is available from the pittsburgh airport to downtown and how much does it cost</td>\n",
              "      <td>ground_service+ground_fare</td>\n",
              "      <td>O O O O O O O B-fromloc.airport_name I-fromloc.airport_name O O O O O O O O</td>\n",
              "    </tr>\n",
              "    <tr>\n",
              "      <th>19</th>\n",
              "      <td>show me the costs and times for flights from san francisco to atlanta</td>\n",
              "      <td>airfare+flight_time</td>\n",
              "      <td>O O O O O B-flight_time O O O B-fromloc.city_name I-fromloc.city_name O B-toloc.city_name</td>\n",
              "    </tr>\n",
              "    <tr>\n",
              "      <th>20</th>\n",
              "      <td>show me the cheapest fare in the database</td>\n",
              "      <td>cheapest</td>\n",
              "      <td>O O O B-cost_relative O O O O</td>\n",
              "    </tr>\n",
              "    <tr>\n",
              "      <th>21</th>\n",
              "      <td>i want to fly from detroit to st. petersburg on northwest airlines and leave around 9 am tell me what aircraft are used by this flight and tell me the flight number</td>\n",
              "      <td>aircraft+flight+flight_no</td>\n",
              "      <td>O O O O O B-fromloc.city_name O B-toloc.city_name I-toloc.city_name O B-airline_name I-airline_name O O B-depart_time.time_relative B-depart_time.time I-depart_time.time O O O O O O O O O O O O O O O</td>\n",
              "    </tr>\n",
              "  </tbody>\n",
              "</table>\n",
              "</div>\n",
              "    <div class=\"colab-df-buttons\">\n",
              "\n",
              "  <div class=\"colab-df-container\">\n",
              "    <button class=\"colab-df-convert\" onclick=\"convertToInteractive('df-4a522511-5db6-471d-9b50-954585bb4a11')\"\n",
              "            title=\"Convert this dataframe to an interactive table.\"\n",
              "            style=\"display:none;\">\n",
              "\n",
              "  <svg xmlns=\"http://www.w3.org/2000/svg\" height=\"24px\" viewBox=\"0 -960 960 960\">\n",
              "    <path d=\"M120-120v-720h720v720H120Zm60-500h600v-160H180v160Zm220 220h160v-160H400v160Zm0 220h160v-160H400v160ZM180-400h160v-160H180v160Zm440 0h160v-160H620v160ZM180-180h160v-160H180v160Zm440 0h160v-160H620v160Z\"/>\n",
              "  </svg>\n",
              "    </button>\n",
              "\n",
              "  <style>\n",
              "    .colab-df-container {\n",
              "      display:flex;\n",
              "      gap: 12px;\n",
              "    }\n",
              "\n",
              "    .colab-df-convert {\n",
              "      background-color: #E8F0FE;\n",
              "      border: none;\n",
              "      border-radius: 50%;\n",
              "      cursor: pointer;\n",
              "      display: none;\n",
              "      fill: #1967D2;\n",
              "      height: 32px;\n",
              "      padding: 0 0 0 0;\n",
              "      width: 32px;\n",
              "    }\n",
              "\n",
              "    .colab-df-convert:hover {\n",
              "      background-color: #E2EBFA;\n",
              "      box-shadow: 0px 1px 2px rgba(60, 64, 67, 0.3), 0px 1px 3px 1px rgba(60, 64, 67, 0.15);\n",
              "      fill: #174EA6;\n",
              "    }\n",
              "\n",
              "    .colab-df-buttons div {\n",
              "      margin-bottom: 4px;\n",
              "    }\n",
              "\n",
              "    [theme=dark] .colab-df-convert {\n",
              "      background-color: #3B4455;\n",
              "      fill: #D2E3FC;\n",
              "    }\n",
              "\n",
              "    [theme=dark] .colab-df-convert:hover {\n",
              "      background-color: #434B5C;\n",
              "      box-shadow: 0px 1px 3px 1px rgba(0, 0, 0, 0.15);\n",
              "      filter: drop-shadow(0px 1px 2px rgba(0, 0, 0, 0.3));\n",
              "      fill: #FFFFFF;\n",
              "    }\n",
              "  </style>\n",
              "\n",
              "    <script>\n",
              "      const buttonEl =\n",
              "        document.querySelector('#df-4a522511-5db6-471d-9b50-954585bb4a11 button.colab-df-convert');\n",
              "      buttonEl.style.display =\n",
              "        google.colab.kernel.accessAllowed ? 'block' : 'none';\n",
              "\n",
              "      async function convertToInteractive(key) {\n",
              "        const element = document.querySelector('#df-4a522511-5db6-471d-9b50-954585bb4a11');\n",
              "        const dataTable =\n",
              "          await google.colab.kernel.invokeFunction('convertToInteractive',\n",
              "                                                    [key], {});\n",
              "        if (!dataTable) return;\n",
              "\n",
              "        const docLinkHtml = 'Like what you see? Visit the ' +\n",
              "          '<a target=\"_blank\" href=https://colab.research.google.com/notebooks/data_table.ipynb>data table notebook</a>'\n",
              "          + ' to learn more about interactive tables.';\n",
              "        element.innerHTML = '';\n",
              "        dataTable['output_type'] = 'display_data';\n",
              "        await google.colab.output.renderOutput(dataTable, element);\n",
              "        const docLink = document.createElement('div');\n",
              "        docLink.innerHTML = docLinkHtml;\n",
              "        element.appendChild(docLink);\n",
              "      }\n",
              "    </script>\n",
              "  </div>\n",
              "\n",
              "\n",
              "<div id=\"df-3481dc22-cdee-4212-87d4-64706c23ce17\">\n",
              "  <button class=\"colab-df-quickchart\" onclick=\"quickchart('df-3481dc22-cdee-4212-87d4-64706c23ce17')\"\n",
              "            title=\"Suggest charts\"\n",
              "            style=\"display:none;\">\n",
              "\n",
              "<svg xmlns=\"http://www.w3.org/2000/svg\" height=\"24px\"viewBox=\"0 0 24 24\"\n",
              "     width=\"24px\">\n",
              "    <g>\n",
              "        <path d=\"M19 3H5c-1.1 0-2 .9-2 2v14c0 1.1.9 2 2 2h14c1.1 0 2-.9 2-2V5c0-1.1-.9-2-2-2zM9 17H7v-7h2v7zm4 0h-2V7h2v10zm4 0h-2v-4h2v4z\"/>\n",
              "    </g>\n",
              "</svg>\n",
              "  </button>\n",
              "\n",
              "<style>\n",
              "  .colab-df-quickchart {\n",
              "      --bg-color: #E8F0FE;\n",
              "      --fill-color: #1967D2;\n",
              "      --hover-bg-color: #E2EBFA;\n",
              "      --hover-fill-color: #174EA6;\n",
              "      --disabled-fill-color: #AAA;\n",
              "      --disabled-bg-color: #DDD;\n",
              "  }\n",
              "\n",
              "  [theme=dark] .colab-df-quickchart {\n",
              "      --bg-color: #3B4455;\n",
              "      --fill-color: #D2E3FC;\n",
              "      --hover-bg-color: #434B5C;\n",
              "      --hover-fill-color: #FFFFFF;\n",
              "      --disabled-bg-color: #3B4455;\n",
              "      --disabled-fill-color: #666;\n",
              "  }\n",
              "\n",
              "  .colab-df-quickchart {\n",
              "    background-color: var(--bg-color);\n",
              "    border: none;\n",
              "    border-radius: 50%;\n",
              "    cursor: pointer;\n",
              "    display: none;\n",
              "    fill: var(--fill-color);\n",
              "    height: 32px;\n",
              "    padding: 0;\n",
              "    width: 32px;\n",
              "  }\n",
              "\n",
              "  .colab-df-quickchart:hover {\n",
              "    background-color: var(--hover-bg-color);\n",
              "    box-shadow: 0 1px 2px rgba(60, 64, 67, 0.3), 0 1px 3px 1px rgba(60, 64, 67, 0.15);\n",
              "    fill: var(--button-hover-fill-color);\n",
              "  }\n",
              "\n",
              "  .colab-df-quickchart-complete:disabled,\n",
              "  .colab-df-quickchart-complete:disabled:hover {\n",
              "    background-color: var(--disabled-bg-color);\n",
              "    fill: var(--disabled-fill-color);\n",
              "    box-shadow: none;\n",
              "  }\n",
              "\n",
              "  .colab-df-spinner {\n",
              "    border: 2px solid var(--fill-color);\n",
              "    border-color: transparent;\n",
              "    border-bottom-color: var(--fill-color);\n",
              "    animation:\n",
              "      spin 1s steps(1) infinite;\n",
              "  }\n",
              "\n",
              "  @keyframes spin {\n",
              "    0% {\n",
              "      border-color: transparent;\n",
              "      border-bottom-color: var(--fill-color);\n",
              "      border-left-color: var(--fill-color);\n",
              "    }\n",
              "    20% {\n",
              "      border-color: transparent;\n",
              "      border-left-color: var(--fill-color);\n",
              "      border-top-color: var(--fill-color);\n",
              "    }\n",
              "    30% {\n",
              "      border-color: transparent;\n",
              "      border-left-color: var(--fill-color);\n",
              "      border-top-color: var(--fill-color);\n",
              "      border-right-color: var(--fill-color);\n",
              "    }\n",
              "    40% {\n",
              "      border-color: transparent;\n",
              "      border-right-color: var(--fill-color);\n",
              "      border-top-color: var(--fill-color);\n",
              "    }\n",
              "    60% {\n",
              "      border-color: transparent;\n",
              "      border-right-color: var(--fill-color);\n",
              "    }\n",
              "    80% {\n",
              "      border-color: transparent;\n",
              "      border-right-color: var(--fill-color);\n",
              "      border-bottom-color: var(--fill-color);\n",
              "    }\n",
              "    90% {\n",
              "      border-color: transparent;\n",
              "      border-bottom-color: var(--fill-color);\n",
              "    }\n",
              "  }\n",
              "</style>\n",
              "\n",
              "  <script>\n",
              "    async function quickchart(key) {\n",
              "      const quickchartButtonEl =\n",
              "        document.querySelector('#' + key + ' button');\n",
              "      quickchartButtonEl.disabled = true;  // To prevent multiple clicks.\n",
              "      quickchartButtonEl.classList.add('colab-df-spinner');\n",
              "      try {\n",
              "        const charts = await google.colab.kernel.invokeFunction(\n",
              "            'suggestCharts', [key], {});\n",
              "      } catch (error) {\n",
              "        console.error('Error during call to suggestCharts:', error);\n",
              "      }\n",
              "      quickchartButtonEl.classList.remove('colab-df-spinner');\n",
              "      quickchartButtonEl.classList.add('colab-df-quickchart-complete');\n",
              "    }\n",
              "    (() => {\n",
              "      let quickchartButtonEl =\n",
              "        document.querySelector('#df-3481dc22-cdee-4212-87d4-64706c23ce17 button');\n",
              "      quickchartButtonEl.style.display =\n",
              "        google.colab.kernel.accessAllowed ? 'block' : 'none';\n",
              "    })();\n",
              "  </script>\n",
              "</div>\n",
              "\n",
              "  <div id=\"id_4dcf4bb6-ce0d-43ce-82e7-bd28532e437f\">\n",
              "    <style>\n",
              "      .colab-df-generate {\n",
              "        background-color: #E8F0FE;\n",
              "        border: none;\n",
              "        border-radius: 50%;\n",
              "        cursor: pointer;\n",
              "        display: none;\n",
              "        fill: #1967D2;\n",
              "        height: 32px;\n",
              "        padding: 0 0 0 0;\n",
              "        width: 32px;\n",
              "      }\n",
              "\n",
              "      .colab-df-generate:hover {\n",
              "        background-color: #E2EBFA;\n",
              "        box-shadow: 0px 1px 2px rgba(60, 64, 67, 0.3), 0px 1px 3px 1px rgba(60, 64, 67, 0.15);\n",
              "        fill: #174EA6;\n",
              "      }\n",
              "\n",
              "      [theme=dark] .colab-df-generate {\n",
              "        background-color: #3B4455;\n",
              "        fill: #D2E3FC;\n",
              "      }\n",
              "\n",
              "      [theme=dark] .colab-df-generate:hover {\n",
              "        background-color: #434B5C;\n",
              "        box-shadow: 0px 1px 3px 1px rgba(0, 0, 0, 0.15);\n",
              "        filter: drop-shadow(0px 1px 2px rgba(0, 0, 0, 0.3));\n",
              "        fill: #FFFFFF;\n",
              "      }\n",
              "    </style>\n",
              "    <button class=\"colab-df-generate\" onclick=\"generateWithVariable('df_small')\"\n",
              "            title=\"Generate code using this dataframe.\"\n",
              "            style=\"display:none;\">\n",
              "\n",
              "  <svg xmlns=\"http://www.w3.org/2000/svg\" height=\"24px\"viewBox=\"0 0 24 24\"\n",
              "       width=\"24px\">\n",
              "    <path d=\"M7,19H8.4L18.45,9,17,7.55,7,17.6ZM5,21V16.75L18.45,3.32a2,2,0,0,1,2.83,0l1.4,1.43a1.91,1.91,0,0,1,.58,1.4,1.91,1.91,0,0,1-.58,1.4L9.25,21ZM18.45,9,17,7.55Zm-12,3A5.31,5.31,0,0,0,4.9,8.1,5.31,5.31,0,0,0,1,6.5,5.31,5.31,0,0,0,4.9,4.9,5.31,5.31,0,0,0,6.5,1,5.31,5.31,0,0,0,8.1,4.9,5.31,5.31,0,0,0,12,6.5,5.46,5.46,0,0,0,6.5,12Z\"/>\n",
              "  </svg>\n",
              "    </button>\n",
              "    <script>\n",
              "      (() => {\n",
              "      const buttonEl =\n",
              "        document.querySelector('#id_4dcf4bb6-ce0d-43ce-82e7-bd28532e437f button.colab-df-generate');\n",
              "      buttonEl.style.display =\n",
              "        google.colab.kernel.accessAllowed ? 'block' : 'none';\n",
              "\n",
              "      buttonEl.onclick = () => {\n",
              "        google.colab.notebook.generateWithVariable('df_small');\n",
              "      }\n",
              "      })();\n",
              "    </script>\n",
              "  </div>\n",
              "\n",
              "    </div>\n",
              "  </div>\n"
            ],
            "application/vnd.google.colaboratory.intrinsic+json": {
              "type": "dataframe",
              "variable_name": "df_small",
              "summary": "{\n  \"name\": \"df_small\",\n  \"rows\": 22,\n  \"fields\": [\n    {\n      \"column\": \"query\",\n      \"properties\": {\n        \"dtype\": \"string\",\n        \"num_unique_values\": 22,\n        \"samples\": [\n          \" i want to fly from boston at 838 am and arrive in denver at 1110 in the morning \",\n          \" how many seats in a 100 \",\n          \" what is fare code h \"\n        ],\n        \"semantic_type\": \"\",\n        \"description\": \"\"\n      }\n    },\n    {\n      \"column\": \"intent\",\n      \"properties\": {\n        \"dtype\": \"string\",\n        \"num_unique_values\": 22,\n        \"samples\": [\n          \"flight\",\n          \"capacity\",\n          \"abbreviation\"\n        ],\n        \"semantic_type\": \"\",\n        \"description\": \"\"\n      }\n    },\n    {\n      \"column\": \"slot filling\",\n      \"properties\": {\n        \"dtype\": \"string\",\n        \"num_unique_values\": 22,\n        \"samples\": [\n          \" O O O O O B-fromloc.city_name O B-depart_time.time I-depart_time.time O O O B-toloc.city_name O B-arrive_time.time O O B-arrive_time.period_of_day \",\n          \" O O O O O B-aircraft_code \",\n          \" O O O O B-fare_basis_code \"\n        ],\n        \"semantic_type\": \"\",\n        \"description\": \"\"\n      }\n    }\n  ]\n}"
            }
          },
          "metadata": {},
          "execution_count": 17
        }
      ],
      "source": [
        "# create the sample dataframe with examples of intent to df_small so you can visualize the training inputs\n",
        "##df_small = df_test.filter(['query','intent','slot filling'])\n",
        "pd.set_option('display.max_colwidth', None)  # fix -1 -> None\n",
        "df_small = pd.DataFrame(columns=['query','intent','slot filling'])\n",
        "j = 0\n",
        "for i in df_train.intent.unique():\n",
        "  df_small.loc[j] = df_train[df_train.intent==i].iloc[0]\n",
        "  j += 1\n",
        "df_small"
      ]
    },
    {
      "cell_type": "code",
      "execution_count": 17,
      "metadata": {
        "deletable": false,
        "editable": false,
        "id": "vLhrFAkw4yTF",
        "nbgrader": {
          "checksum": "72842d574a796661beae01ffd6b39a45",
          "grade": true,
          "grade_id": "cell-744b3a712d57ff0c",
          "locked": true,
          "points": 1,
          "schema_version": 1,
          "solution": false
        }
      },
      "outputs": [],
      "source": []
    },
    {
      "cell_type": "markdown",
      "metadata": {
        "deletable": false,
        "editable": false,
        "id": "HIJ-iSTLoM7Z",
        "nbgrader": {
          "checksum": "aeca382735ff5ba1ffad547bbcd1edfb",
          "grade": false,
          "grade_id": "cell-8f4d3077f3138b00",
          "locked": true,
          "schema_version": 1,
          "solution": false
        }
      },
      "source": [
        "Let's see how many different types of \"intent\" are present in the data."
      ]
    },
    {
      "cell_type": "code",
      "execution_count": 18,
      "metadata": {
        "deletable": false,
        "nbgrader": {
          "checksum": "78de28df7ef90b9b419007a17f398009",
          "grade": false,
          "grade_id": "cell-cc82f0f6bb3e64c3",
          "locked": false,
          "schema_version": 1,
          "solution": true
        },
        "colab": {
          "base_uri": "https://localhost:8080/"
        },
        "id": "Lqy5rPkPfxIc",
        "outputId": "e7f4b157-b2c7-41eb-fe14-c9720c2d0a66"
      },
      "outputs": [
        {
          "output_type": "execute_result",
          "data": {
            "text/plain": [
              "intent\n",
              "flight                        3666\n",
              "airfare                        423\n",
              "ground_service                 255\n",
              "airline                        157\n",
              "abbreviation                   147\n",
              "aircraft                        81\n",
              "flight_time                     54\n",
              "quantity                        51\n",
              "flight+airfare                  21\n",
              "airport                         20\n",
              "distance                        20\n",
              "city                            19\n",
              "ground_fare                     18\n",
              "capacity                        16\n",
              "flight_no                       12\n",
              "meal                             6\n",
              "restriction                      6\n",
              "airline+flight_no                2\n",
              "ground_service+ground_fare       1\n",
              "airfare+flight_time              1\n",
              "cheapest                         1\n",
              "aircraft+flight+flight_no        1\n",
              "Name: count, dtype: int64"
            ]
          },
          "metadata": {},
          "execution_count": 18
        }
      ],
      "source": [
        "# Get the counts for all intents of the train datasets and\n",
        "# assign it to variable \"intent_counts\" to be printed\n",
        "intent_counts = df_train['intent'].value_counts()\n",
        "intent_counts"
      ]
    },
    {
      "cell_type": "code",
      "execution_count": 18,
      "metadata": {
        "deletable": false,
        "editable": false,
        "id": "L8URpFrloX9b",
        "nbgrader": {
          "checksum": "439f7d94fa6d6023f44a71e1c97fba4a",
          "grade": true,
          "grade_id": "cell-b3bd09fcbbc89d1b",
          "locked": true,
          "points": 1,
          "schema_version": 1,
          "solution": false
        }
      },
      "outputs": [],
      "source": []
    },
    {
      "cell_type": "code",
      "execution_count": 19,
      "metadata": {
        "deletable": false,
        "nbgrader": {
          "checksum": "fc4fbeda487ff04cdc2cc610737911b2",
          "grade": false,
          "grade_id": "cell-73f19e232d0f915f",
          "locked": false,
          "schema_version": 1,
          "solution": true
        },
        "id": "_QIFtuwvfxIc"
      },
      "outputs": [],
      "source": [
        "# Extract query_data_train, intent_data_train, slot_data_train,\n",
        "#    query_data_test, intent_data_test, slot_data_test from the train and test dataframes\n",
        "query_data_train = df_train['query'].values\n",
        "intent_data_train = df_train['intent'].values\n",
        "slot_data_train = df_train['slot filling'].values\n",
        "\n",
        "query_data_test = df_test['query'].values\n",
        "intent_data_test = df_test['intent'].values\n",
        "slot_data_test = df_test['slot filling'].values"
      ]
    },
    {
      "cell_type": "code",
      "execution_count": 19,
      "metadata": {
        "deletable": false,
        "editable": false,
        "id": "vJM7m-ej_n8F",
        "nbgrader": {
          "checksum": "c933891a91e5832ae59cf7345992bc72",
          "grade": true,
          "grade_id": "cell-0d22c7509f5c87f9",
          "locked": true,
          "points": 1,
          "schema_version": 1,
          "solution": false
        }
      },
      "outputs": [],
      "source": []
    },
    {
      "cell_type": "markdown",
      "metadata": {
        "deletable": false,
        "editable": false,
        "id": "bfAICLPgQym1",
        "nbgrader": {
          "checksum": "e0fe9de775f659e14dffb4e5854fcbc4",
          "grade": false,
          "grade_id": "cell-aee586687bc114c9",
          "locked": true,
          "schema_version": 1,
          "solution": false
        }
      },
      "source": [
        "We briefly mentioned what the difference were between slot filling and intent in the introduction, but is worth going into more detail.\n",
        "\n",
        "As an example, let’s consider the user query “*i want to fly from boston at 838 am and arrive in denver at 1110 in the morning*”. The model should classify this user query as “**flight**” intent. It should also parse the query, identify and fill all slots necessary for understanding the query. Although the words “I”, “want”, “to”, “fly”, “from”, “at”, “and”, “arrive”, “in”, “the” contribute to understand the context of the intent, the model should correctly label the entities needed to fulfill user’s goal in its intention to take a flight. These are “boston” as departure city (B-fromloc.city), “8:38 am” as departure time (B-depart_time.time), “denver” as destination city (B-toloc.city_name), “11:10” as arrival time (B-arrive_time.time) and “morning” as arrival period of day (B-arrive_time.period_of_day). The 123 slot categories are shown below."
      ]
    },
    {
      "cell_type": "code",
      "execution_count": 20,
      "metadata": {
        "deletable": false,
        "nbgrader": {
          "checksum": "dea6fc77ec9cc9c06b87f6d1f0f7f86e",
          "grade": false,
          "grade_id": "cell-53f178f13453634f",
          "locked": false,
          "schema_version": 1,
          "solution": true
        },
        "colab": {
          "base_uri": "https://localhost:8080/"
        },
        "id": "7iMxbwV9fxIn",
        "outputId": "658abc1e-b42b-4335-c205-2451c88296fd"
      },
      "outputs": [
        {
          "output_type": "execute_result",
          "data": {
            "text/plain": [
              "{'B-aircraft_code',\n",
              " 'B-airline_code',\n",
              " 'B-airline_name',\n",
              " 'B-airport_code',\n",
              " 'B-airport_name',\n",
              " 'B-arrive_date.date_relative',\n",
              " 'B-arrive_date.day_name',\n",
              " 'B-arrive_date.day_number',\n",
              " 'B-arrive_date.month_name',\n",
              " 'B-arrive_date.today_relative',\n",
              " 'B-arrive_time.end_time',\n",
              " 'B-arrive_time.period_mod',\n",
              " 'B-arrive_time.period_of_day',\n",
              " 'B-arrive_time.start_time',\n",
              " 'B-arrive_time.time',\n",
              " 'B-arrive_time.time_relative',\n",
              " 'B-city_name',\n",
              " 'B-class_type',\n",
              " 'B-connect',\n",
              " 'B-cost_relative',\n",
              " 'B-day_name',\n",
              " 'B-day_number',\n",
              " 'B-days_code',\n",
              " 'B-depart_date.date_relative',\n",
              " 'B-depart_date.day_name',\n",
              " 'B-depart_date.day_number',\n",
              " 'B-depart_date.month_name',\n",
              " 'B-depart_date.today_relative',\n",
              " 'B-depart_date.year',\n",
              " 'B-depart_time.end_time',\n",
              " 'B-depart_time.period_mod',\n",
              " 'B-depart_time.period_of_day',\n",
              " 'B-depart_time.start_time',\n",
              " 'B-depart_time.time',\n",
              " 'B-depart_time.time_relative',\n",
              " 'B-economy',\n",
              " 'B-fare_amount',\n",
              " 'B-fare_basis_code',\n",
              " 'B-flight_days',\n",
              " 'B-flight_mod',\n",
              " 'B-flight_number',\n",
              " 'B-flight_stop',\n",
              " 'B-flight_time',\n",
              " 'B-fromloc.airport_code',\n",
              " 'B-fromloc.airport_name',\n",
              " 'B-fromloc.city_name',\n",
              " 'B-fromloc.state_code',\n",
              " 'B-fromloc.state_name',\n",
              " 'B-meal',\n",
              " 'B-meal_code',\n",
              " 'B-meal_description',\n",
              " 'B-mod',\n",
              " 'B-month_name',\n",
              " 'B-or',\n",
              " 'B-period_of_day',\n",
              " 'B-restriction_code',\n",
              " 'B-return_date.date_relative',\n",
              " 'B-return_date.day_name',\n",
              " 'B-return_date.day_number',\n",
              " 'B-return_date.month_name',\n",
              " 'B-return_date.today_relative',\n",
              " 'B-return_time.period_mod',\n",
              " 'B-return_time.period_of_day',\n",
              " 'B-round_trip',\n",
              " 'B-state_code',\n",
              " 'B-state_name',\n",
              " 'B-stoploc.airport_name',\n",
              " 'B-stoploc.city_name',\n",
              " 'B-stoploc.state_code',\n",
              " 'B-time',\n",
              " 'B-time_relative',\n",
              " 'B-today_relative',\n",
              " 'B-toloc.airport_code',\n",
              " 'B-toloc.airport_name',\n",
              " 'B-toloc.city_name',\n",
              " 'B-toloc.country_name',\n",
              " 'B-toloc.state_code',\n",
              " 'B-toloc.state_name',\n",
              " 'B-transport_type',\n",
              " 'I-airline_name',\n",
              " 'I-airport_name',\n",
              " 'I-arrive_date.day_number',\n",
              " 'I-arrive_time.end_time',\n",
              " 'I-arrive_time.period_of_day',\n",
              " 'I-arrive_time.start_time',\n",
              " 'I-arrive_time.time',\n",
              " 'I-arrive_time.time_relative',\n",
              " 'I-city_name',\n",
              " 'I-class_type',\n",
              " 'I-cost_relative',\n",
              " 'I-depart_date.day_name',\n",
              " 'I-depart_date.day_number',\n",
              " 'I-depart_date.today_relative',\n",
              " 'I-depart_time.end_time',\n",
              " 'I-depart_time.period_of_day',\n",
              " 'I-depart_time.start_time',\n",
              " 'I-depart_time.time',\n",
              " 'I-depart_time.time_relative',\n",
              " 'I-economy',\n",
              " 'I-fare_amount',\n",
              " 'I-fare_basis_code',\n",
              " 'I-flight_mod',\n",
              " 'I-flight_stop',\n",
              " 'I-flight_time',\n",
              " 'I-fromloc.airport_name',\n",
              " 'I-fromloc.city_name',\n",
              " 'I-fromloc.state_name',\n",
              " 'I-meal_code',\n",
              " 'I-meal_description',\n",
              " 'I-mod',\n",
              " 'I-restriction_code',\n",
              " 'I-return_date.date_relative',\n",
              " 'I-return_date.day_number',\n",
              " 'I-return_date.today_relative',\n",
              " 'I-round_trip',\n",
              " 'I-stoploc.city_name',\n",
              " 'I-time',\n",
              " 'I-today_relative',\n",
              " 'I-toloc.airport_name',\n",
              " 'I-toloc.city_name',\n",
              " 'I-toloc.state_name',\n",
              " 'I-transport_type',\n",
              " 'O'}"
            ]
          },
          "metadata": {},
          "execution_count": 20
        }
      ],
      "source": [
        "# Gather all the unique slots and put them in the set called \"unique_slots\"\n",
        "unique_slots = set()\n",
        "for s in slot_data_train:\n",
        "  unique_slots = unique_slots.union(set(s.split()))\n",
        "unique_slots"
      ]
    },
    {
      "cell_type": "code",
      "execution_count": 20,
      "metadata": {
        "deletable": false,
        "editable": false,
        "id": "14lT-eE-6i3j",
        "nbgrader": {
          "checksum": "9c67981578955d3ab5990188af0c26df",
          "grade": true,
          "grade_id": "cell-bbf8c29bfccf00fa",
          "locked": true,
          "points": 1,
          "schema_version": 1,
          "solution": false
        }
      },
      "outputs": [],
      "source": []
    },
    {
      "cell_type": "code",
      "execution_count": 21,
      "metadata": {
        "colab": {
          "base_uri": "https://localhost:8080/"
        },
        "deletable": false,
        "editable": false,
        "id": "Nzi6TzChDYDX",
        "nbgrader": {
          "checksum": "11d0ac8e936b9d950d8548104ea46474",
          "grade": false,
          "grade_id": "cell-e28afa0a2f2d10db",
          "locked": true,
          "schema_version": 1,
          "solution": false
        },
        "outputId": "42aa86b9-f9bd-4419-c1bf-ae57731fd5eb"
      },
      "outputs": [
        {
          "output_type": "execute_result",
          "data": {
            "text/plain": [
              "123"
            ]
          },
          "metadata": {},
          "execution_count": 21
        }
      ],
      "source": [
        "len(unique_slots)"
      ]
    },
    {
      "cell_type": "markdown",
      "metadata": {
        "deletable": false,
        "editable": false,
        "id": "khtDWvcGwTeJ",
        "nbgrader": {
          "checksum": "ace784ea61a403d741c8f45bbfccf24f",
          "grade": false,
          "grade_id": "cell-0afa3dd085ac82ac",
          "locked": true,
          "schema_version": 1,
          "solution": false
        }
      },
      "source": [
        "**123 slot categories!!**"
      ]
    },
    {
      "cell_type": "markdown",
      "metadata": {
        "deletable": false,
        "editable": false,
        "id": "YcAtzt_annnq",
        "nbgrader": {
          "checksum": "dbd3faeb8c086144a000a67ece113622",
          "grade": false,
          "grade_id": "cell-5901108729959a19",
          "locked": true,
          "schema_version": 1,
          "solution": false
        }
      },
      "source": [
        "## Transformers\n",
        "\n",
        "\n",
        "\n"
      ]
    },
    {
      "cell_type": "markdown",
      "metadata": {
        "deletable": false,
        "editable": false,
        "id": "TAoHWpgsn5oX",
        "nbgrader": {
          "checksum": "f2e1e08b923cb640e1c15931535b9c40",
          "grade": false,
          "grade_id": "cell-56146bbf5765c58a",
          "locked": true,
          "schema_version": 1,
          "solution": false
        }
      },
      "source": [
        "### Explain the attention mechanism\n",
        "\n"
      ]
    },
    {
      "cell_type": "markdown",
      "metadata": {
        "deletable": false,
        "editable": false,
        "id": "_NQeCvTbcAAN",
        "nbgrader": {
          "checksum": "d7a361bacdf013369daeb95ca1527be7",
          "grade": false,
          "grade_id": "cell-a2141985b8dedfd1",
          "locked": true,
          "schema_version": 1,
          "solution": false
        }
      },
      "source": [
        "### Encoder Model\n",
        "\n"
      ]
    },
    {
      "cell_type": "markdown",
      "metadata": {
        "deletable": false,
        "editable": false,
        "id": "qTU22oQnpo6p",
        "nbgrader": {
          "checksum": "400d7fd2379dbbfa3b7dfcaa58743266",
          "grade": false,
          "grade_id": "cell-eb1d97281cde61eb",
          "locked": true,
          "schema_version": 1,
          "solution": false
        }
      },
      "source": [
        "Because the code for transformer encoder architecture is a bit complicated to write, we have decided to package it. This means that you can import it directly from our own \"library\" (in the same way you do it for Keras layers).\n",
        "\n",
        "Import `TransformerEncoder`, and `PositionalEmbedding` from 'HODL' file present in the current file directory.\n",
        "\n",
        "Hint: Take a look at the `HODL.py` file on the left-sidebar menu."
      ]
    },
    {
      "cell_type": "code",
      "execution_count": 22,
      "metadata": {
        "deletable": false,
        "id": "Bms2Np84XkZw",
        "nbgrader": {
          "checksum": "67ad41d91a3209b087b27e973f992356",
          "grade": false,
          "grade_id": "cell-2dd0ad2cc870b1d0",
          "locked": false,
          "schema_version": 1,
          "solution": true
        }
      },
      "outputs": [],
      "source": [
        "# Import the transformer encoder and the positional embedding\n",
        "from sample_data.HODL import TransformerEncoder, PositionalEmbedding"
      ]
    },
    {
      "cell_type": "code",
      "execution_count": 23,
      "metadata": {
        "colab": {
          "base_uri": "https://localhost:8080/"
        },
        "deletable": false,
        "editable": false,
        "id": "oWYzkeuVy56d",
        "nbgrader": {
          "checksum": "513d011114b49e44516ea14763ed7ba6",
          "grade": false,
          "grade_id": "cell-03b8d7aacc60e938",
          "locked": true,
          "schema_version": 1,
          "solution": false
        },
        "outputId": "434bdc35-bea3-44cf-95f7-29068a032801"
      },
      "outputs": [
        {
          "output_type": "execute_result",
          "data": {
            "text/plain": [
              "array([' i want to fly from boston at 838 am and arrive in denver at 1110 in the morning ',\n",
              "       ' what flights are available from pittsburgh to baltimore on thursday morning ',\n",
              "       ' what is the arrival time in san francisco for the 755 am flight leaving washington ',\n",
              "       ' cheapest airfare from tacoma to orlando ',\n",
              "       ' round trip fares from pittsburgh to philadelphia under 1000 dollars '],\n",
              "      dtype=object)"
            ]
          },
          "metadata": {},
          "execution_count": 23
        }
      ],
      "source": [
        "query_data_train[:5]"
      ]
    },
    {
      "cell_type": "code",
      "execution_count": 24,
      "metadata": {
        "colab": {
          "base_uri": "https://localhost:8080/"
        },
        "deletable": false,
        "editable": false,
        "id": "tUiQlh2ty2Qc",
        "nbgrader": {
          "checksum": "8e8e983eb3b0189be33f7df260e27b32",
          "grade": false,
          "grade_id": "cell-5ec1952576374293",
          "locked": true,
          "schema_version": 1,
          "solution": false
        },
        "outputId": "ba5f2406-78b7-4450-b43e-25d4c3106589"
      },
      "outputs": [
        {
          "output_type": "execute_result",
          "data": {
            "text/plain": [
              "array([' O O O O O B-fromloc.city_name O B-depart_time.time I-depart_time.time O O O B-toloc.city_name O B-arrive_time.time O O B-arrive_time.period_of_day ',\n",
              "       ' O O O O O B-fromloc.city_name O B-toloc.city_name O B-depart_date.day_name B-depart_time.period_of_day ',\n",
              "       ' O O O B-flight_time I-flight_time O B-fromloc.city_name I-fromloc.city_name O O B-depart_time.time I-depart_time.time O O B-fromloc.city_name ',\n",
              "       ' B-cost_relative O O B-fromloc.city_name O B-toloc.city_name ',\n",
              "       ' B-round_trip I-round_trip O O B-fromloc.city_name O B-toloc.city_name B-cost_relative B-fare_amount I-fare_amount '],\n",
              "      dtype=object)"
            ]
          },
          "metadata": {},
          "execution_count": 24
        }
      ],
      "source": [
        "slot_data_train[:5]"
      ]
    },
    {
      "cell_type": "code",
      "execution_count": 25,
      "metadata": {
        "deletable": false,
        "id": "ma9COj0675XG",
        "nbgrader": {
          "checksum": "b7534ff5bb3207a91a5562e799caf96a",
          "grade": false,
          "grade_id": "cell-3e4cec4d2c2d3fcd",
          "locked": false,
          "schema_version": 1,
          "solution": true
        }
      },
      "outputs": [],
      "source": [
        "# Set the max_query_length to 30 to start\n",
        "max_query_length=30\n",
        "\n",
        "# Textvec of slots. Assign this to \"text_vectorization_slots\"\n",
        "text_vectorization_slots = keras.layers.TextVectorization(\n",
        "    output_sequence_length=max_query_length,\n",
        "    standardize=None\n",
        ")\n",
        "\n",
        "# Adapt the slot training data\n",
        "text_vectorization_slots.adapt(slot_data_train)\n",
        "\n",
        "# Assign the number of slots to slot_vocab_size\n",
        "slot_vocab_size = text_vectorization_slots.vocabulary_size()\n",
        "\n",
        "# Get the \"target_train\" and \"target_test\" data\n",
        "target_train = text_vectorization_slots(slot_data_train)\n",
        "target_test = text_vectorization_slots(slot_data_test)\n",
        "\n",
        "# Get the text_vectorization_query\n",
        "text_vectorization_query = keras.layers.TextVectorization(\n",
        "    output_sequence_length=max_query_length\n",
        ")\n",
        "\n",
        "# Adapt the query train data\n",
        "text_vectorization_query.adapt(query_data_train)\n",
        "\n",
        "# Assign the number of unique query words\n",
        "# Words vectorization\n",
        "query_vocab_size = text_vectorization_query.vocabulary_size()\n",
        "\n",
        "# Create source_train and source_test\n",
        "source_train = text_vectorization_query(query_data_train)\n",
        "source_test = text_vectorization_query(query_data_test)\n"
      ]
    },
    {
      "cell_type": "code",
      "execution_count": 25,
      "metadata": {
        "deletable": false,
        "editable": false,
        "nbgrader": {
          "checksum": "ca751300b2d167fd0841ba446d6fcffe",
          "grade": true,
          "grade_id": "cell-ed3694f941fd29cc",
          "locked": true,
          "points": 2,
          "schema_version": 1,
          "solution": false
        },
        "id": "UKVhNPgTfxIp"
      },
      "outputs": [],
      "source": []
    },
    {
      "cell_type": "code",
      "execution_count": 26,
      "metadata": {
        "colab": {
          "base_uri": "https://localhost:8080/"
        },
        "deletable": false,
        "id": "w5lT0qaD7wB1",
        "nbgrader": {
          "checksum": "42d43bd4f89205be29929be8f3f37325",
          "grade": false,
          "grade_id": "cell-d533ff53322b2204",
          "locked": false,
          "schema_version": 1,
          "solution": true
        },
        "outputId": "2fd1ef2c-89ce-4f9f-a389-699d0154ed0f"
      },
      "outputs": [
        {
          "output_type": "stream",
          "name": "stdout",
          "text": [
            "Model: \"model\"\n",
            "_________________________________________________________________\n",
            " Layer (type)                Output Shape              Param #   \n",
            "=================================================================\n",
            " input_1 (InputLayer)        [(None, 30)]              0         \n",
            "                                                                 \n",
            " positional_embedding (Posi  (None, 30, 512)           470016    \n",
            " tionalEmbedding)                                                \n",
            "                                                                 \n",
            " transformer_encoder (Trans  (None, 30, 512)           8469568   \n",
            " formerEncoder)                                                  \n",
            "                                                                 \n",
            " dense_2 (Dense)             (None, 30, 128)           65664     \n",
            "                                                                 \n",
            " dropout (Dropout)           (None, 30, 128)           0         \n",
            "                                                                 \n",
            " dense_3 (Dense)             (None, 30, 125)           16125     \n",
            "                                                                 \n",
            "=================================================================\n",
            "Total params: 9021373 (34.41 MB)\n",
            "Trainable params: 9021373 (34.41 MB)\n",
            "Non-trainable params: 0 (0.00 Byte)\n",
            "_________________________________________________________________\n"
          ]
        }
      ],
      "source": [
        "# Create the 4 model params\n",
        "embedding_dim = 512\n",
        "encoder_units = 64\n",
        "units = 128\n",
        "num_heads = 8\n",
        "\n",
        "# Embedding and Masking\n",
        "# Create the inputs, embedding, and x\n",
        "inputs = keras.Input(shape=(max_query_length,))\n",
        "embedding = PositionalEmbedding(max_query_length, query_vocab_size, embedding_dim)\n",
        "x = embedding(inputs)\n",
        "\n",
        "# Transformer Encoding\n",
        "# Create encoder_out\n",
        "encoder_out = TransformerEncoder(embedding_dim, encoder_units, num_heads)(x)\n",
        "\n",
        "# Classifier\n",
        "# add layers to x and define the outputs\n",
        "x = keras.layers.Dense(units, activation='relu')(encoder_out)\n",
        "x = keras.layers.Dropout(0.5)(x)\n",
        "outputs = keras.layers.Dense(slot_vocab_size, activation=\"softmax\")(x)\n",
        "\n",
        "### finally apply the inputs and outputs to your model\n",
        "model = keras.Model(inputs, outputs)\n",
        "model.summary()"
      ]
    },
    {
      "cell_type": "code",
      "execution_count": 26,
      "metadata": {
        "deletable": false,
        "editable": false,
        "nbgrader": {
          "checksum": "74365467eec13fb49bca4a3ecbf2a672",
          "grade": true,
          "grade_id": "cell-a8cb48ca1abf9926",
          "locked": true,
          "points": 2,
          "schema_version": 1,
          "solution": false
        },
        "id": "B6YfwD2BfxIq"
      },
      "outputs": [],
      "source": []
    },
    {
      "cell_type": "code",
      "execution_count": 27,
      "metadata": {
        "deletable": false,
        "id": "fuDpwFcb8Diz",
        "nbgrader": {
          "checksum": "c3f0543c6b5f984468895a2342ff8ab3",
          "grade": false,
          "grade_id": "cell-6dda9bc3e6ac9ca9",
          "locked": false,
          "schema_version": 1,
          "solution": true
        }
      },
      "outputs": [],
      "source": [
        "# Compile your model\n",
        "model.compile(optimizer=\"adam\",\n",
        "              loss=\"sparse_categorical_crossentropy\",\n",
        "              metrics=[\"sparse_categorical_accuracy\"])"
      ]
    },
    {
      "cell_type": "code",
      "execution_count": 28,
      "metadata": {
        "colab": {
          "base_uri": "https://localhost:8080/"
        },
        "deletable": false,
        "id": "XtC7kzdDdMqG",
        "nbgrader": {
          "checksum": "7f5c3be91c824600dbba65bf43128871",
          "grade": false,
          "grade_id": "cell-0ce7e14d9abad00b",
          "locked": false,
          "schema_version": 1,
          "solution": true
        },
        "outputId": "c9ed7789-55d6-49c3-8521-f19b99425ef2"
      },
      "outputs": [
        {
          "output_type": "stream",
          "name": "stdout",
          "text": [
            "Epoch 1/10\n",
            "156/156 [==============================] - 15s 50ms/step - loss: 0.3861 - sparse_categorical_accuracy: 0.9198\n",
            "Epoch 2/10\n",
            "156/156 [==============================] - 4s 26ms/step - loss: 0.1160 - sparse_categorical_accuracy: 0.9645\n",
            "Epoch 3/10\n",
            "156/156 [==============================] - 4s 26ms/step - loss: 0.0742 - sparse_categorical_accuracy: 0.9774\n",
            "Epoch 4/10\n",
            "156/156 [==============================] - 4s 26ms/step - loss: 0.0501 - sparse_categorical_accuracy: 0.9858\n",
            "Epoch 5/10\n",
            "156/156 [==============================] - 4s 23ms/step - loss: 0.0366 - sparse_categorical_accuracy: 0.9896\n",
            "Epoch 6/10\n",
            "156/156 [==============================] - 4s 26ms/step - loss: 0.0288 - sparse_categorical_accuracy: 0.9915\n",
            "Epoch 7/10\n",
            "156/156 [==============================] - 4s 28ms/step - loss: 0.0242 - sparse_categorical_accuracy: 0.9927\n",
            "Epoch 8/10\n",
            "156/156 [==============================] - 4s 23ms/step - loss: 0.0223 - sparse_categorical_accuracy: 0.9935\n",
            "Epoch 9/10\n",
            "156/156 [==============================] - 4s 23ms/step - loss: 0.0196 - sparse_categorical_accuracy: 0.9942\n",
            "Epoch 10/10\n",
            "156/156 [==============================] - 4s 25ms/step - loss: 0.0186 - sparse_categorical_accuracy: 0.9944\n"
          ]
        },
        {
          "output_type": "execute_result",
          "data": {
            "text/plain": [
              "<keras.src.callbacks.History at 0x7e4c0179ca60>"
            ]
          },
          "metadata": {},
          "execution_count": 28
        }
      ],
      "source": [
        "# Set the batch size to 64 and epochs to 10 to start\n",
        "batch_size = 64\n",
        "epochs = 10\n",
        "\n",
        "# Fit the model\n",
        "model.fit(x=source_train,\n",
        "          y=target_train,\n",
        "          epochs=epochs\n",
        "          )"
      ]
    },
    {
      "cell_type": "code",
      "execution_count": 29,
      "metadata": {
        "colab": {
          "base_uri": "https://localhost:8080/"
        },
        "deletable": false,
        "id": "epn7rEY2Qgih",
        "nbgrader": {
          "checksum": "20aba08ab307a680ff81005006afc12d",
          "grade": false,
          "grade_id": "cell-9b2a7e3c1bc3fde7",
          "locked": false,
          "schema_version": 1,
          "solution": true
        },
        "outputId": "d40f7830-010b-46eb-c1ce-1ef92e64ceb0"
      },
      "outputs": [
        {
          "output_type": "stream",
          "name": "stdout",
          "text": [
            "28/28 [==============================] - 1s 11ms/step\n",
            "Accuracy = 0.969\n",
            "Accuracy on slots = 0.928\n"
          ]
        }
      ],
      "source": [
        "# define slot_filling_accuracy function\n",
        "from sklearn.metrics import accuracy_score\n",
        "def slot_filling_accuracy(actual, predicted, only_slots=True):\n",
        "    not_padding = np.not_equal(actual, 0)\n",
        "    if only_slots:\n",
        "        non_slot_token = text_vectorization_slots(['O']).numpy()[0, 0]\n",
        "        slots = np.not_equal(actual, non_slot_token)\n",
        "        correct_predictions = np.equal(actual, predicted)[not_padding * slots]\n",
        "    else:\n",
        "        correct_predictions = np.equal(actual, predicted)[not_padding]\n",
        "\n",
        "    sample_length = len(correct_predictions)\n",
        "    weights = np.ones(sample_length)\n",
        "    return np.dot(correct_predictions, weights) / sample_length\n",
        "\n",
        "\n",
        "# Get the predicted data\n",
        "predicted = np.argmax(model.predict(source_test), axis=-1).reshape(-1)\n",
        "\n",
        "# Get the actual data\n",
        "actual = target_test.numpy().reshape(-1)\n",
        "\n",
        "# Now get the accuracy \"acc\" and slot accuracy \"acc_slots\"\n",
        "acc = slot_filling_accuracy(actual, predicted, only_slots=False)\n",
        "acc_slots = slot_filling_accuracy(actual, predicted, only_slots=True)\n",
        "\n",
        "print(f'Accuracy = {acc:.3f}')\n",
        "print(f'Accuracy on slots = {acc_slots:.3f}')"
      ]
    },
    {
      "cell_type": "code",
      "execution_count": 29,
      "metadata": {
        "deletable": false,
        "editable": false,
        "nbgrader": {
          "checksum": "7d14f355f49f5d0aaf68eac30b86b2a9",
          "grade": true,
          "grade_id": "cell-434ffbd20384aa4f",
          "locked": true,
          "points": 2,
          "schema_version": 1,
          "solution": false
        },
        "id": "JCaG8sk7fxIr"
      },
      "outputs": [],
      "source": []
    },
    {
      "cell_type": "markdown",
      "metadata": {
        "deletable": false,
        "editable": false,
        "id": "RbKQV0LGhI__",
        "nbgrader": {
          "checksum": "06fbf6505e2b12475c74848f15ea5d34",
          "grade": false,
          "grade_id": "cell-952c3b22f89bebce",
          "locked": true,
          "schema_version": 1,
          "solution": false
        }
      },
      "source": [
        "Now we get 92% accuracy on the slots and 97% accuracy in general. This is so much better!!\n",
        "\n",
        "Let's see some examples:"
      ]
    },
    {
      "cell_type": "code",
      "execution_count": 32,
      "metadata": {
        "colab": {
          "base_uri": "https://localhost:8080/"
        },
        "deletable": false,
        "id": "WuWqtUjXP6FM",
        "nbgrader": {
          "checksum": "949d550b6ac66d6db3a8140caf4abc80",
          "grade": false,
          "grade_id": "cell-e0cbcee42c1da9ca",
          "locked": false,
          "schema_version": 1,
          "solution": true
        },
        "outputId": "af4afa12-0878-4605-9e37-1dcdda3e1ccc"
      },
      "outputs": [
        {
          "output_type": "stream",
          "name": "stdout",
          "text": [
            "1/1 [==============================] - 0s 19ms/step\n",
            "from los angeles \n",
            " O B-fromloc.city_name I-fromloc.city_name                            \n",
            "\n",
            "1/1 [==============================] - 0s 19ms/step\n",
            "to los angeles \n",
            " O B-toloc.city_name I-toloc.city_name                            \n",
            "\n",
            "1/1 [==============================] - 0s 21ms/step\n",
            "from boston \n",
            " O B-fromloc.city_name                             \n",
            "\n",
            "1/1 [==============================] - 0s 21ms/step\n",
            "to boston \n",
            " O B-toloc.city_name                             \n",
            "\n",
            "1/1 [==============================] - 0s 32ms/step\n",
            "cheapest flight from boston to los angeles tomorrow \n",
            " B-cost_relative O O B-fromloc.city_name O B-toloc.city_name I-toloc.city_name B-depart_date.today_relative                       \n",
            "\n",
            "1/1 [==============================] - 0s 32ms/step\n",
            "what is the airport at orlando \n",
            " O O O O O B-toloc.city_name                         \n",
            "\n",
            "1/1 [==============================] - 0s 36ms/step\n",
            "what are the air restrictions on flights from pittsburgh to atlanta for the airfare of 416 dollars \n",
            " O O O O O O O O B-fromloc.city_name O B-toloc.city_name O O O O B-fare_amount I-fare_amount              \n",
            "\n",
            "1/1 [==============================] - 0s 37ms/step\n",
            "flight from boston to santiago \n",
            " O O B-fromloc.city_name O B-toloc.city_name                          \n",
            "\n",
            "1/1 [==============================] - 0s 28ms/step\n",
            "flight boston to santiago \n",
            " O B-fromloc.city_name O B-toloc.city_name                           \n",
            "\n"
          ]
        }
      ],
      "source": [
        "# Define the predict_slots_query() function which takes in a query\n",
        "def predict_slots_query(query):\n",
        "    sentence = text_vectorization_query([query])\n",
        "    prediction = np.argmax(model.predict(sentence), axis=-1)[0]\n",
        "    inverse_vocab = dict(enumerate(text_vectorization_slots.get_vocabulary()))\n",
        "    return \" \".join(inverse_vocab[int(i)] for i in prediction)\n",
        "\n",
        "examples = [\n",
        "            'from los angeles',\n",
        "            'to los angeles',\n",
        "            'from boston',\n",
        "            'to boston',\n",
        "            'cheapest flight from boston to los angeles tomorrow',\n",
        "            'what is the airport at orlando',\n",
        "            'what are the air restrictions on flights from pittsburgh to atlanta for the airfare of 416 dollars',\n",
        "            'flight from boston to santiago',\n",
        "            'flight boston to santiago'\n",
        "]\n",
        "\n",
        "for e in examples:\n",
        "    print(e,\"\\n\",predict_slots_query(e),\"\\n\")"
      ]
    },
    {
      "cell_type": "markdown",
      "metadata": {
        "deletable": false,
        "editable": false,
        "id": "XTN8GEychT4o",
        "nbgrader": {
          "checksum": "4068bdcff602a94b234350f1be566797",
          "grade": false,
          "grade_id": "cell-83816d28128c7473",
          "locked": true,
          "schema_version": 1,
          "solution": false
        }
      },
      "source": [
        "Even though 'Santiago' is not a city that is present in the training data set, it is still capable of recognizing it as a destination city name just by context! This is the power of the attention mechanism of transformers."
      ]
    },
    {
      "cell_type": "markdown",
      "metadata": {
        "deletable": false,
        "editable": false,
        "id": "uacN-EI_iJC3",
        "nbgrader": {
          "checksum": "41ba40dc1144a304d989d34a539d53a7",
          "grade": false,
          "grade_id": "cell-248a5a2b92e619a3",
          "locked": true,
          "schema_version": 1,
          "solution": false
        }
      },
      "source": [
        "Can we get even better accuracy if we train for longer? Let's try!"
      ]
    },
    {
      "cell_type": "code",
      "execution_count": 33,
      "metadata": {
        "colab": {
          "base_uri": "https://localhost:8080/"
        },
        "deletable": false,
        "id": "vNYEbhK5Q9pR",
        "nbgrader": {
          "checksum": "be9b7668382ead4b685a05a6d95f50f9",
          "grade": false,
          "grade_id": "cell-7c252040d4b941fd",
          "locked": false,
          "schema_version": 1,
          "solution": true
        },
        "outputId": "675221ac-5b19-42c0-ca87-ef28be7035b5"
      },
      "outputs": [
        {
          "output_type": "stream",
          "name": "stdout",
          "text": [
            "Epoch 1/30\n",
            "156/156 [==============================] - 4s 24ms/step - loss: 0.0174 - sparse_categorical_accuracy: 0.9946\n",
            "Epoch 2/30\n",
            "156/156 [==============================] - 4s 24ms/step - loss: 0.0157 - sparse_categorical_accuracy: 0.9952\n",
            "Epoch 3/30\n",
            "156/156 [==============================] - 4s 26ms/step - loss: 0.0181 - sparse_categorical_accuracy: 0.9946\n",
            "Epoch 4/30\n",
            "156/156 [==============================] - 4s 24ms/step - loss: 0.0155 - sparse_categorical_accuracy: 0.9956\n",
            "Epoch 5/30\n",
            "156/156 [==============================] - 4s 24ms/step - loss: 0.0154 - sparse_categorical_accuracy: 0.9952\n",
            "Epoch 6/30\n",
            "156/156 [==============================] - 4s 26ms/step - loss: 0.0155 - sparse_categorical_accuracy: 0.9956\n",
            "Epoch 7/30\n",
            "156/156 [==============================] - 4s 24ms/step - loss: 0.0144 - sparse_categorical_accuracy: 0.9958\n",
            "Epoch 8/30\n",
            "156/156 [==============================] - 4s 25ms/step - loss: 0.0138 - sparse_categorical_accuracy: 0.9959\n",
            "Epoch 9/30\n",
            "156/156 [==============================] - 4s 26ms/step - loss: 0.0147 - sparse_categorical_accuracy: 0.9958\n",
            "Epoch 10/30\n",
            "156/156 [==============================] - 4s 25ms/step - loss: 0.0133 - sparse_categorical_accuracy: 0.9961\n",
            "Epoch 11/30\n",
            "156/156 [==============================] - 4s 25ms/step - loss: 0.0130 - sparse_categorical_accuracy: 0.9963\n",
            "Epoch 12/30\n",
            "156/156 [==============================] - 4s 27ms/step - loss: 0.0130 - sparse_categorical_accuracy: 0.9963\n",
            "Epoch 13/30\n",
            "156/156 [==============================] - 4s 25ms/step - loss: 0.0118 - sparse_categorical_accuracy: 0.9967\n",
            "Epoch 14/30\n",
            "156/156 [==============================] - 4s 24ms/step - loss: 0.0108 - sparse_categorical_accuracy: 0.9970\n",
            "Epoch 15/30\n",
            "156/156 [==============================] - 4s 25ms/step - loss: 0.0314 - sparse_categorical_accuracy: 0.9928\n",
            "Epoch 16/30\n",
            "156/156 [==============================] - 4s 25ms/step - loss: 0.0232 - sparse_categorical_accuracy: 0.9940\n",
            "Epoch 17/30\n",
            "156/156 [==============================] - 4s 24ms/step - loss: 0.0094 - sparse_categorical_accuracy: 0.9975\n",
            "Epoch 18/30\n",
            "156/156 [==============================] - 4s 24ms/step - loss: 0.0056 - sparse_categorical_accuracy: 0.9983\n",
            "Epoch 19/30\n",
            "156/156 [==============================] - 4s 26ms/step - loss: 0.0075 - sparse_categorical_accuracy: 0.9980\n",
            "Epoch 20/30\n",
            "156/156 [==============================] - 4s 24ms/step - loss: 0.0064 - sparse_categorical_accuracy: 0.9981\n",
            "Epoch 21/30\n",
            "156/156 [==============================] - 4s 24ms/step - loss: 0.0066 - sparse_categorical_accuracy: 0.9982\n",
            "Epoch 22/30\n",
            "156/156 [==============================] - 4s 26ms/step - loss: 0.0058 - sparse_categorical_accuracy: 0.9983\n",
            "Epoch 23/30\n",
            "156/156 [==============================] - 4s 26ms/step - loss: 0.0061 - sparse_categorical_accuracy: 0.9982\n",
            "Epoch 24/30\n",
            "156/156 [==============================] - 4s 25ms/step - loss: 0.0066 - sparse_categorical_accuracy: 0.9981\n",
            "Epoch 25/30\n",
            "156/156 [==============================] - 4s 26ms/step - loss: 0.0069 - sparse_categorical_accuracy: 0.9980\n",
            "Epoch 26/30\n",
            "156/156 [==============================] - 4s 25ms/step - loss: 0.0076 - sparse_categorical_accuracy: 0.9979\n",
            "Epoch 27/30\n",
            "156/156 [==============================] - 4s 24ms/step - loss: 0.0068 - sparse_categorical_accuracy: 0.9982\n",
            "Epoch 28/30\n",
            "156/156 [==============================] - 4s 27ms/step - loss: 0.0073 - sparse_categorical_accuracy: 0.9981\n",
            "Epoch 29/30\n",
            "156/156 [==============================] - 4s 25ms/step - loss: 0.0054 - sparse_categorical_accuracy: 0.9985\n",
            "Epoch 30/30\n",
            "156/156 [==============================] - 4s 24ms/step - loss: 0.0065 - sparse_categorical_accuracy: 0.9982\n"
          ]
        },
        {
          "output_type": "execute_result",
          "data": {
            "text/plain": [
              "<keras.src.callbacks.History at 0x7e4b688cc400>"
            ]
          },
          "metadata": {},
          "execution_count": 33
        }
      ],
      "source": [
        "# Try to change parameters to get your accuracy up\n",
        "batch_size = 128\n",
        "epochs = 30\n",
        "\n",
        "# Fit your model\n",
        "model.fit(x=source_train,\n",
        "          y=target_train,\n",
        "          epochs=epochs\n",
        "          )"
      ]
    },
    {
      "cell_type": "code",
      "execution_count": 34,
      "metadata": {
        "colab": {
          "base_uri": "https://localhost:8080/"
        },
        "deletable": false,
        "id": "afcttyPQe1U8",
        "nbgrader": {
          "checksum": "7f28c48f8c0715b86fcda17518c7b5e2",
          "grade": false,
          "grade_id": "cell-f037dbc7269abfb2",
          "locked": false,
          "schema_version": 1,
          "solution": true
        },
        "outputId": "917b9b6b-7d0e-46ae-f455-34f1699cee7f"
      },
      "outputs": [
        {
          "output_type": "stream",
          "name": "stdout",
          "text": [
            "28/28 [==============================] - 0s 11ms/step\n",
            "Accuracy = 0.972\n",
            "Accuracy on slots = 0.937\n"
          ]
        }
      ],
      "source": [
        "# Define slot_filling_accuracy\n",
        "def slot_filling_accuracy_(actual, predicted, only_slots=True):\n",
        "    not_padding = np.not_equal(actual, 0)\n",
        "    if only_slots:\n",
        "        non_slot_token = text_vectorization_slots(['O']).numpy()[0, 0]\n",
        "        slots = np.not_equal(actual, non_slot_token)\n",
        "        correct_predictions = np.equal(actual, predicted)[slots*not_padding]\n",
        "    else:\n",
        "        correct_predictions = np.equal(actual, predicted)[not_padding]\n",
        "    sample_length = len(correct_predictions)\n",
        "    return np.sum(correct_predictions) / sample_length\n",
        "\n",
        "predicted = np.argmax(model.predict(source_test), axis=-1).reshape(-1)\n",
        "actual = target_test.numpy().reshape(-1)\n",
        "\n",
        "acc = slot_filling_accuracy(actual, predicted, only_slots=False)\n",
        "acc_slots = slot_filling_accuracy(actual, predicted, only_slots=True)\n",
        "\n",
        "print(f'Accuracy = {acc:.3f}')\n",
        "print(f'Accuracy on slots = {acc_slots:.3f}')\n"
      ]
    },
    {
      "cell_type": "code",
      "execution_count": null,
      "metadata": {
        "deletable": false,
        "editable": false,
        "nbgrader": {
          "checksum": "97439715061696340cf8b1be61012194",
          "grade": true,
          "grade_id": "cell-34a89d92db7598b3",
          "locked": true,
          "points": 2,
          "schema_version": 1,
          "solution": false
        },
        "id": "iuYYEYPMfxIw"
      },
      "outputs": [],
      "source": []
    }
  ],
  "metadata": {
    "accelerator": "GPU",
    "colab": {
      "collapsed_sections": [
        "XmxYrFl9m1hM",
        "IzNTx1rf--xQ",
        "a-PxWKVAZ7Pt",
        "TAoHWpgsn5oX"
      ],
      "machine_shape": "hm",
      "provenance": []
    },
    "kernelspec": {
      "display_name": "Python 3",
      "language": "python",
      "name": "python3"
    },
    "language_info": {
      "codemirror_mode": {
        "name": "ipython",
        "version": 3
      },
      "file_extension": ".py",
      "mimetype": "text/x-python",
      "name": "python",
      "nbconvert_exporter": "python",
      "pygments_lexer": "ipython3",
      "version": "3.6.9"
    }
  },
  "nbformat": 4,
  "nbformat_minor": 0
}