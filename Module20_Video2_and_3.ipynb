{
  "cells": [
    {
      "cell_type": "markdown",
      "metadata": {
        "id": "b93jEdOFcWCb"
      },
      "source": [
        "## Retrieving and preparing the Data\n"
      ]
    },
    {
      "cell_type": "markdown",
      "metadata": {
        "id": "R1iJXt4acWt3"
      },
      "source": [
        "\n",
        "We will work with a dataset that contains the lyrics of almost 90K different songs and its corresponding main genre.\n",
        "\n",
        "You can find the data in the file `lyric_genre.csv` after downloading it.\n",
        "\n",
        "Let's inspect it first!\n"
      ]
    },
    {
      "cell_type": "code",
      "execution_count": 1,
      "metadata": {
        "id": "q9ZTPCywcRRf"
      },
      "outputs": [],
      "source": [
        "import tensorflow as tf\n",
        "from tensorflow import keras\n",
        "import numpy as np\n",
        "import pandas as pd\n",
        "import matplotlib.pyplot as plt\n",
        "from google.colab import drive\n",
        "\n",
        "keras.utils.set_random_seed(42)"
      ]
    },
    {
      "cell_type": "code",
      "execution_count": 5,
      "metadata": {
        "id": "ZH-Rm_Soce0s",
        "colab": {
          "base_uri": "https://localhost:8080/"
        },
        "outputId": "8b842f36-9190-478f-86a3-2734f741f64d"
      },
      "outputs": [
        {
          "output_type": "stream",
          "name": "stdout",
          "text": [
            "\n",
            "Train samples: 48991\n",
            "Validation samples: 16331\n",
            "Test samples: 21774\n",
            "\n"
          ]
        }
      ],
      "source": [
        "#drive.mount('/content/drive')\n",
        "\n",
        "\n",
        "# Read data from URL\n",
        "# Note:\n",
        "# Create a XPro subfolder in google drive\n",
        "# In that folder add the three .csv files.\n",
        "\n",
        "train_df = pd.read_csv('/content/lyric_genre_train.csv', index_col=0).astype(str)\n",
        "test_df = pd.read_csv('/content/lyric_genre_test.csv', index_col=0).astype(str)\n",
        "val_df = pd.read_csv('/content/lyric_genre_val.csv', index_col=0).astype(str)\n",
        "\n",
        "print(f\"\"\"\n",
        "Train samples: {train_df.shape[0]}\n",
        "Validation samples: {val_df.shape[0]}\n",
        "Test samples: {test_df.shape[0]}\n",
        "\"\"\")"
      ]
    },
    {
      "cell_type": "code",
      "execution_count": 6,
      "metadata": {
        "id": "b0LMtt6CchSC",
        "colab": {
          "base_uri": "https://localhost:8080/",
          "height": 206
        },
        "outputId": "bbab05f5-8b02-4b07-a563-2b4dd372aad2"
      },
      "outputs": [
        {
          "output_type": "execute_result",
          "data": {
            "text/plain": [
              "                                               Lyric Genre\n",
              "0  Oh, girl. I can't get ready (Can't get ready f...   Pop\n",
              "1  We met on a rainy evening in the summertime. D...   Pop\n",
              "2  We carried you in our arms. On Independence Da...  Rock\n",
              "3  I know he loved you. A long time ago. I ain't ...   Pop\n",
              "4  Paralysis through analysis. Yellow moral uncle...  Rock"
            ],
            "text/html": [
              "\n",
              "  <div id=\"df-422bf69e-303d-40ec-919c-b7eb6b777961\" class=\"colab-df-container\">\n",
              "    <div>\n",
              "<style scoped>\n",
              "    .dataframe tbody tr th:only-of-type {\n",
              "        vertical-align: middle;\n",
              "    }\n",
              "\n",
              "    .dataframe tbody tr th {\n",
              "        vertical-align: top;\n",
              "    }\n",
              "\n",
              "    .dataframe thead th {\n",
              "        text-align: right;\n",
              "    }\n",
              "</style>\n",
              "<table border=\"1\" class=\"dataframe\">\n",
              "  <thead>\n",
              "    <tr style=\"text-align: right;\">\n",
              "      <th></th>\n",
              "      <th>Lyric</th>\n",
              "      <th>Genre</th>\n",
              "    </tr>\n",
              "  </thead>\n",
              "  <tbody>\n",
              "    <tr>\n",
              "      <th>0</th>\n",
              "      <td>Oh, girl. I can't get ready (Can't get ready f...</td>\n",
              "      <td>Pop</td>\n",
              "    </tr>\n",
              "    <tr>\n",
              "      <th>1</th>\n",
              "      <td>We met on a rainy evening in the summertime. D...</td>\n",
              "      <td>Pop</td>\n",
              "    </tr>\n",
              "    <tr>\n",
              "      <th>2</th>\n",
              "      <td>We carried you in our arms. On Independence Da...</td>\n",
              "      <td>Rock</td>\n",
              "    </tr>\n",
              "    <tr>\n",
              "      <th>3</th>\n",
              "      <td>I know he loved you. A long time ago. I ain't ...</td>\n",
              "      <td>Pop</td>\n",
              "    </tr>\n",
              "    <tr>\n",
              "      <th>4</th>\n",
              "      <td>Paralysis through analysis. Yellow moral uncle...</td>\n",
              "      <td>Rock</td>\n",
              "    </tr>\n",
              "  </tbody>\n",
              "</table>\n",
              "</div>\n",
              "    <div class=\"colab-df-buttons\">\n",
              "\n",
              "  <div class=\"colab-df-container\">\n",
              "    <button class=\"colab-df-convert\" onclick=\"convertToInteractive('df-422bf69e-303d-40ec-919c-b7eb6b777961')\"\n",
              "            title=\"Convert this dataframe to an interactive table.\"\n",
              "            style=\"display:none;\">\n",
              "\n",
              "  <svg xmlns=\"http://www.w3.org/2000/svg\" height=\"24px\" viewBox=\"0 -960 960 960\">\n",
              "    <path d=\"M120-120v-720h720v720H120Zm60-500h600v-160H180v160Zm220 220h160v-160H400v160Zm0 220h160v-160H400v160ZM180-400h160v-160H180v160Zm440 0h160v-160H620v160ZM180-180h160v-160H180v160Zm440 0h160v-160H620v160Z\"/>\n",
              "  </svg>\n",
              "    </button>\n",
              "\n",
              "  <style>\n",
              "    .colab-df-container {\n",
              "      display:flex;\n",
              "      gap: 12px;\n",
              "    }\n",
              "\n",
              "    .colab-df-convert {\n",
              "      background-color: #E8F0FE;\n",
              "      border: none;\n",
              "      border-radius: 50%;\n",
              "      cursor: pointer;\n",
              "      display: none;\n",
              "      fill: #1967D2;\n",
              "      height: 32px;\n",
              "      padding: 0 0 0 0;\n",
              "      width: 32px;\n",
              "    }\n",
              "\n",
              "    .colab-df-convert:hover {\n",
              "      background-color: #E2EBFA;\n",
              "      box-shadow: 0px 1px 2px rgba(60, 64, 67, 0.3), 0px 1px 3px 1px rgba(60, 64, 67, 0.15);\n",
              "      fill: #174EA6;\n",
              "    }\n",
              "\n",
              "    .colab-df-buttons div {\n",
              "      margin-bottom: 4px;\n",
              "    }\n",
              "\n",
              "    [theme=dark] .colab-df-convert {\n",
              "      background-color: #3B4455;\n",
              "      fill: #D2E3FC;\n",
              "    }\n",
              "\n",
              "    [theme=dark] .colab-df-convert:hover {\n",
              "      background-color: #434B5C;\n",
              "      box-shadow: 0px 1px 3px 1px rgba(0, 0, 0, 0.15);\n",
              "      filter: drop-shadow(0px 1px 2px rgba(0, 0, 0, 0.3));\n",
              "      fill: #FFFFFF;\n",
              "    }\n",
              "  </style>\n",
              "\n",
              "    <script>\n",
              "      const buttonEl =\n",
              "        document.querySelector('#df-422bf69e-303d-40ec-919c-b7eb6b777961 button.colab-df-convert');\n",
              "      buttonEl.style.display =\n",
              "        google.colab.kernel.accessAllowed ? 'block' : 'none';\n",
              "\n",
              "      async function convertToInteractive(key) {\n",
              "        const element = document.querySelector('#df-422bf69e-303d-40ec-919c-b7eb6b777961');\n",
              "        const dataTable =\n",
              "          await google.colab.kernel.invokeFunction('convertToInteractive',\n",
              "                                                    [key], {});\n",
              "        if (!dataTable) return;\n",
              "\n",
              "        const docLinkHtml = 'Like what you see? Visit the ' +\n",
              "          '<a target=\"_blank\" href=https://colab.research.google.com/notebooks/data_table.ipynb>data table notebook</a>'\n",
              "          + ' to learn more about interactive tables.';\n",
              "        element.innerHTML = '';\n",
              "        dataTable['output_type'] = 'display_data';\n",
              "        await google.colab.output.renderOutput(dataTable, element);\n",
              "        const docLink = document.createElement('div');\n",
              "        docLink.innerHTML = docLinkHtml;\n",
              "        element.appendChild(docLink);\n",
              "      }\n",
              "    </script>\n",
              "  </div>\n",
              "\n",
              "\n",
              "<div id=\"df-a141bbfa-76c7-4811-ba16-82c89d209839\">\n",
              "  <button class=\"colab-df-quickchart\" onclick=\"quickchart('df-a141bbfa-76c7-4811-ba16-82c89d209839')\"\n",
              "            title=\"Suggest charts\"\n",
              "            style=\"display:none;\">\n",
              "\n",
              "<svg xmlns=\"http://www.w3.org/2000/svg\" height=\"24px\"viewBox=\"0 0 24 24\"\n",
              "     width=\"24px\">\n",
              "    <g>\n",
              "        <path d=\"M19 3H5c-1.1 0-2 .9-2 2v14c0 1.1.9 2 2 2h14c1.1 0 2-.9 2-2V5c0-1.1-.9-2-2-2zM9 17H7v-7h2v7zm4 0h-2V7h2v10zm4 0h-2v-4h2v4z\"/>\n",
              "    </g>\n",
              "</svg>\n",
              "  </button>\n",
              "\n",
              "<style>\n",
              "  .colab-df-quickchart {\n",
              "      --bg-color: #E8F0FE;\n",
              "      --fill-color: #1967D2;\n",
              "      --hover-bg-color: #E2EBFA;\n",
              "      --hover-fill-color: #174EA6;\n",
              "      --disabled-fill-color: #AAA;\n",
              "      --disabled-bg-color: #DDD;\n",
              "  }\n",
              "\n",
              "  [theme=dark] .colab-df-quickchart {\n",
              "      --bg-color: #3B4455;\n",
              "      --fill-color: #D2E3FC;\n",
              "      --hover-bg-color: #434B5C;\n",
              "      --hover-fill-color: #FFFFFF;\n",
              "      --disabled-bg-color: #3B4455;\n",
              "      --disabled-fill-color: #666;\n",
              "  }\n",
              "\n",
              "  .colab-df-quickchart {\n",
              "    background-color: var(--bg-color);\n",
              "    border: none;\n",
              "    border-radius: 50%;\n",
              "    cursor: pointer;\n",
              "    display: none;\n",
              "    fill: var(--fill-color);\n",
              "    height: 32px;\n",
              "    padding: 0;\n",
              "    width: 32px;\n",
              "  }\n",
              "\n",
              "  .colab-df-quickchart:hover {\n",
              "    background-color: var(--hover-bg-color);\n",
              "    box-shadow: 0 1px 2px rgba(60, 64, 67, 0.3), 0 1px 3px 1px rgba(60, 64, 67, 0.15);\n",
              "    fill: var(--button-hover-fill-color);\n",
              "  }\n",
              "\n",
              "  .colab-df-quickchart-complete:disabled,\n",
              "  .colab-df-quickchart-complete:disabled:hover {\n",
              "    background-color: var(--disabled-bg-color);\n",
              "    fill: var(--disabled-fill-color);\n",
              "    box-shadow: none;\n",
              "  }\n",
              "\n",
              "  .colab-df-spinner {\n",
              "    border: 2px solid var(--fill-color);\n",
              "    border-color: transparent;\n",
              "    border-bottom-color: var(--fill-color);\n",
              "    animation:\n",
              "      spin 1s steps(1) infinite;\n",
              "  }\n",
              "\n",
              "  @keyframes spin {\n",
              "    0% {\n",
              "      border-color: transparent;\n",
              "      border-bottom-color: var(--fill-color);\n",
              "      border-left-color: var(--fill-color);\n",
              "    }\n",
              "    20% {\n",
              "      border-color: transparent;\n",
              "      border-left-color: var(--fill-color);\n",
              "      border-top-color: var(--fill-color);\n",
              "    }\n",
              "    30% {\n",
              "      border-color: transparent;\n",
              "      border-left-color: var(--fill-color);\n",
              "      border-top-color: var(--fill-color);\n",
              "      border-right-color: var(--fill-color);\n",
              "    }\n",
              "    40% {\n",
              "      border-color: transparent;\n",
              "      border-right-color: var(--fill-color);\n",
              "      border-top-color: var(--fill-color);\n",
              "    }\n",
              "    60% {\n",
              "      border-color: transparent;\n",
              "      border-right-color: var(--fill-color);\n",
              "    }\n",
              "    80% {\n",
              "      border-color: transparent;\n",
              "      border-right-color: var(--fill-color);\n",
              "      border-bottom-color: var(--fill-color);\n",
              "    }\n",
              "    90% {\n",
              "      border-color: transparent;\n",
              "      border-bottom-color: var(--fill-color);\n",
              "    }\n",
              "  }\n",
              "</style>\n",
              "\n",
              "  <script>\n",
              "    async function quickchart(key) {\n",
              "      const quickchartButtonEl =\n",
              "        document.querySelector('#' + key + ' button');\n",
              "      quickchartButtonEl.disabled = true;  // To prevent multiple clicks.\n",
              "      quickchartButtonEl.classList.add('colab-df-spinner');\n",
              "      try {\n",
              "        const charts = await google.colab.kernel.invokeFunction(\n",
              "            'suggestCharts', [key], {});\n",
              "      } catch (error) {\n",
              "        console.error('Error during call to suggestCharts:', error);\n",
              "      }\n",
              "      quickchartButtonEl.classList.remove('colab-df-spinner');\n",
              "      quickchartButtonEl.classList.add('colab-df-quickchart-complete');\n",
              "    }\n",
              "    (() => {\n",
              "      let quickchartButtonEl =\n",
              "        document.querySelector('#df-a141bbfa-76c7-4811-ba16-82c89d209839 button');\n",
              "      quickchartButtonEl.style.display =\n",
              "        google.colab.kernel.accessAllowed ? 'block' : 'none';\n",
              "    })();\n",
              "  </script>\n",
              "</div>\n",
              "\n",
              "    </div>\n",
              "  </div>\n"
            ],
            "application/vnd.google.colaboratory.intrinsic+json": {
              "type": "dataframe",
              "variable_name": "train_df",
              "summary": "{\n  \"name\": \"train_df\",\n  \"rows\": 48991,\n  \"fields\": [\n    {\n      \"column\": \"Lyric\",\n      \"properties\": {\n        \"dtype\": \"string\",\n        \"num_unique_values\": 48752,\n        \"samples\": [\n          \"Change your heart. Look around you. Change your heart. It will astound you. I need your lovin'. Like the sunshine. Everybody's gotta learn sometime. Everybody's gotta learn sometime. Everybody's gotta learn sometime. Change your heart. Look around you. Change your heart. Will astound you. I need your lovin'. Like the sunshine. Everybody's gotta learn sometime. Everybody's gotta learn sometime. Everybody's gotta learn sometime. I need your lovin'. Like the sunshine. Everybody's gotta learn sometime. Everybody's gotta learn sometime. Everybody's gotta learn sometime. Everybody's gotta learn sometime. Everybody's gotta learn sometime. Everybody's gotta learn sometime. Everybody's gotta learn sometime. Everybody's gotta learn sometime\",\n          \"Light comes in, I watch you wake. Wanting you so much my heart could break. To touch your skin, to feel your hair. I'd follow you anywhere. Light goes out, I watch you sleep. Never imagined love so deep. I close my eyes to breathe the air. I'd follow you anywhere. And the waves that wash over me, wash over you. Follow me, I'll follow you. Through your dreams to secret places. Here's my hand, just take it. Do as I do, I'll follow you. Nobody knows who made the stars. Baby the whole world is ours. From Liverpool to Leicester Square. I'd follow you anywhere. The angels that watch over me, watch over you. Follow me, I'll follow you. Through your dreams to secret places. Where nobody can trace us. We'll make it through, I'll follow you. And the waves that wash over me, wash over you. Follow me, I'll follow you. When nobody can find you. I'll be right behind you. You'll make it through (I'll follow you). Follow me (follow me), I'll follow you. Through your dreams to secret places. Here's my hand, just take it. Do as I do, I'll follow you\",\n          \"I visualize the first time we're together. I close my eyes and for a moment all I see is you. Turn off the lights, don't look outside, the world's gone crazy. But it's perfect here with you. Chorus:. I\\u2019ve never felt so alive. Like I feel right now in this moment. I\\u2019ve never felt so alive. Like I feel right here standing next to you. I\\u2019ve never felt so alive. I know what you're thinking. You think that we're different. In my reputation, in the stories. Well, at least you know it won't get boring. Like all the ones who came before me. Just let go as I crash into you. Chorus (1x). Heaven's heard me calling. The stars involve a light. Your touch is so electric. I'm looking in your eyes. I\\u2019ve never felt so alive. It's so surreal, the way you feel. How fast my heart is beating. And we're breathing together now. As we fall down, above the clouds. I swear I\\u2019ll never let you down. Chorus (1x). Heaven's heard me calling. The stars involve a light. Your touch is so electric. I'm looking in your eyes. I\\u2019ve never felt so alive (3x)\"\n        ],\n        \"semantic_type\": \"\",\n        \"description\": \"\"\n      }\n    },\n    {\n      \"column\": \"Genre\",\n      \"properties\": {\n        \"dtype\": \"category\",\n        \"num_unique_values\": 3,\n        \"samples\": [\n          \"Pop\",\n          \"Rock\",\n          \"Hip Hop\"\n        ],\n        \"semantic_type\": \"\",\n        \"description\": \"\"\n      }\n    }\n  ]\n}"
            }
          },
          "metadata": {},
          "execution_count": 6
        }
      ],
      "source": [
        "train_df.head()"
      ]
    },
    {
      "cell_type": "code",
      "execution_count": 7,
      "metadata": {
        "id": "zNbDNplucjFo",
        "colab": {
          "base_uri": "https://localhost:8080/",
          "height": 206
        },
        "outputId": "4a4aab62-d314-4e3b-89e5-db99325f2c28"
      },
      "outputs": [
        {
          "output_type": "execute_result",
          "data": {
            "text/plain": [
              "                                                   Lyric    Genre\n",
              "48986  [Hook]. Beamer, Benz, Or Bentley. Beamer, Benz...  Hip Hop\n",
              "48987  You never listen to me. I know I'm better off ...      Pop\n",
              "48988  Things have come to a pretty pass. Our romance...      Pop\n",
              "48989  Little baby, on my shoulder. I could fall into...      Pop\n",
              "48990  Music : Rudolf Schenker. Lyrics: Klaus Meine. ...     Rock"
            ],
            "text/html": [
              "\n",
              "  <div id=\"df-5160ff02-074c-4b4e-91ed-19b9cb473d92\" class=\"colab-df-container\">\n",
              "    <div>\n",
              "<style scoped>\n",
              "    .dataframe tbody tr th:only-of-type {\n",
              "        vertical-align: middle;\n",
              "    }\n",
              "\n",
              "    .dataframe tbody tr th {\n",
              "        vertical-align: top;\n",
              "    }\n",
              "\n",
              "    .dataframe thead th {\n",
              "        text-align: right;\n",
              "    }\n",
              "</style>\n",
              "<table border=\"1\" class=\"dataframe\">\n",
              "  <thead>\n",
              "    <tr style=\"text-align: right;\">\n",
              "      <th></th>\n",
              "      <th>Lyric</th>\n",
              "      <th>Genre</th>\n",
              "    </tr>\n",
              "  </thead>\n",
              "  <tbody>\n",
              "    <tr>\n",
              "      <th>48986</th>\n",
              "      <td>[Hook]. Beamer, Benz, Or Bentley. Beamer, Benz...</td>\n",
              "      <td>Hip Hop</td>\n",
              "    </tr>\n",
              "    <tr>\n",
              "      <th>48987</th>\n",
              "      <td>You never listen to me. I know I'm better off ...</td>\n",
              "      <td>Pop</td>\n",
              "    </tr>\n",
              "    <tr>\n",
              "      <th>48988</th>\n",
              "      <td>Things have come to a pretty pass. Our romance...</td>\n",
              "      <td>Pop</td>\n",
              "    </tr>\n",
              "    <tr>\n",
              "      <th>48989</th>\n",
              "      <td>Little baby, on my shoulder. I could fall into...</td>\n",
              "      <td>Pop</td>\n",
              "    </tr>\n",
              "    <tr>\n",
              "      <th>48990</th>\n",
              "      <td>Music : Rudolf Schenker. Lyrics: Klaus Meine. ...</td>\n",
              "      <td>Rock</td>\n",
              "    </tr>\n",
              "  </tbody>\n",
              "</table>\n",
              "</div>\n",
              "    <div class=\"colab-df-buttons\">\n",
              "\n",
              "  <div class=\"colab-df-container\">\n",
              "    <button class=\"colab-df-convert\" onclick=\"convertToInteractive('df-5160ff02-074c-4b4e-91ed-19b9cb473d92')\"\n",
              "            title=\"Convert this dataframe to an interactive table.\"\n",
              "            style=\"display:none;\">\n",
              "\n",
              "  <svg xmlns=\"http://www.w3.org/2000/svg\" height=\"24px\" viewBox=\"0 -960 960 960\">\n",
              "    <path d=\"M120-120v-720h720v720H120Zm60-500h600v-160H180v160Zm220 220h160v-160H400v160Zm0 220h160v-160H400v160ZM180-400h160v-160H180v160Zm440 0h160v-160H620v160ZM180-180h160v-160H180v160Zm440 0h160v-160H620v160Z\"/>\n",
              "  </svg>\n",
              "    </button>\n",
              "\n",
              "  <style>\n",
              "    .colab-df-container {\n",
              "      display:flex;\n",
              "      gap: 12px;\n",
              "    }\n",
              "\n",
              "    .colab-df-convert {\n",
              "      background-color: #E8F0FE;\n",
              "      border: none;\n",
              "      border-radius: 50%;\n",
              "      cursor: pointer;\n",
              "      display: none;\n",
              "      fill: #1967D2;\n",
              "      height: 32px;\n",
              "      padding: 0 0 0 0;\n",
              "      width: 32px;\n",
              "    }\n",
              "\n",
              "    .colab-df-convert:hover {\n",
              "      background-color: #E2EBFA;\n",
              "      box-shadow: 0px 1px 2px rgba(60, 64, 67, 0.3), 0px 1px 3px 1px rgba(60, 64, 67, 0.15);\n",
              "      fill: #174EA6;\n",
              "    }\n",
              "\n",
              "    .colab-df-buttons div {\n",
              "      margin-bottom: 4px;\n",
              "    }\n",
              "\n",
              "    [theme=dark] .colab-df-convert {\n",
              "      background-color: #3B4455;\n",
              "      fill: #D2E3FC;\n",
              "    }\n",
              "\n",
              "    [theme=dark] .colab-df-convert:hover {\n",
              "      background-color: #434B5C;\n",
              "      box-shadow: 0px 1px 3px 1px rgba(0, 0, 0, 0.15);\n",
              "      filter: drop-shadow(0px 1px 2px rgba(0, 0, 0, 0.3));\n",
              "      fill: #FFFFFF;\n",
              "    }\n",
              "  </style>\n",
              "\n",
              "    <script>\n",
              "      const buttonEl =\n",
              "        document.querySelector('#df-5160ff02-074c-4b4e-91ed-19b9cb473d92 button.colab-df-convert');\n",
              "      buttonEl.style.display =\n",
              "        google.colab.kernel.accessAllowed ? 'block' : 'none';\n",
              "\n",
              "      async function convertToInteractive(key) {\n",
              "        const element = document.querySelector('#df-5160ff02-074c-4b4e-91ed-19b9cb473d92');\n",
              "        const dataTable =\n",
              "          await google.colab.kernel.invokeFunction('convertToInteractive',\n",
              "                                                    [key], {});\n",
              "        if (!dataTable) return;\n",
              "\n",
              "        const docLinkHtml = 'Like what you see? Visit the ' +\n",
              "          '<a target=\"_blank\" href=https://colab.research.google.com/notebooks/data_table.ipynb>data table notebook</a>'\n",
              "          + ' to learn more about interactive tables.';\n",
              "        element.innerHTML = '';\n",
              "        dataTable['output_type'] = 'display_data';\n",
              "        await google.colab.output.renderOutput(dataTable, element);\n",
              "        const docLink = document.createElement('div');\n",
              "        docLink.innerHTML = docLinkHtml;\n",
              "        element.appendChild(docLink);\n",
              "      }\n",
              "    </script>\n",
              "  </div>\n",
              "\n",
              "\n",
              "<div id=\"df-672e4611-bee2-4882-9c8c-2930a9243f7c\">\n",
              "  <button class=\"colab-df-quickchart\" onclick=\"quickchart('df-672e4611-bee2-4882-9c8c-2930a9243f7c')\"\n",
              "            title=\"Suggest charts\"\n",
              "            style=\"display:none;\">\n",
              "\n",
              "<svg xmlns=\"http://www.w3.org/2000/svg\" height=\"24px\"viewBox=\"0 0 24 24\"\n",
              "     width=\"24px\">\n",
              "    <g>\n",
              "        <path d=\"M19 3H5c-1.1 0-2 .9-2 2v14c0 1.1.9 2 2 2h14c1.1 0 2-.9 2-2V5c0-1.1-.9-2-2-2zM9 17H7v-7h2v7zm4 0h-2V7h2v10zm4 0h-2v-4h2v4z\"/>\n",
              "    </g>\n",
              "</svg>\n",
              "  </button>\n",
              "\n",
              "<style>\n",
              "  .colab-df-quickchart {\n",
              "      --bg-color: #E8F0FE;\n",
              "      --fill-color: #1967D2;\n",
              "      --hover-bg-color: #E2EBFA;\n",
              "      --hover-fill-color: #174EA6;\n",
              "      --disabled-fill-color: #AAA;\n",
              "      --disabled-bg-color: #DDD;\n",
              "  }\n",
              "\n",
              "  [theme=dark] .colab-df-quickchart {\n",
              "      --bg-color: #3B4455;\n",
              "      --fill-color: #D2E3FC;\n",
              "      --hover-bg-color: #434B5C;\n",
              "      --hover-fill-color: #FFFFFF;\n",
              "      --disabled-bg-color: #3B4455;\n",
              "      --disabled-fill-color: #666;\n",
              "  }\n",
              "\n",
              "  .colab-df-quickchart {\n",
              "    background-color: var(--bg-color);\n",
              "    border: none;\n",
              "    border-radius: 50%;\n",
              "    cursor: pointer;\n",
              "    display: none;\n",
              "    fill: var(--fill-color);\n",
              "    height: 32px;\n",
              "    padding: 0;\n",
              "    width: 32px;\n",
              "  }\n",
              "\n",
              "  .colab-df-quickchart:hover {\n",
              "    background-color: var(--hover-bg-color);\n",
              "    box-shadow: 0 1px 2px rgba(60, 64, 67, 0.3), 0 1px 3px 1px rgba(60, 64, 67, 0.15);\n",
              "    fill: var(--button-hover-fill-color);\n",
              "  }\n",
              "\n",
              "  .colab-df-quickchart-complete:disabled,\n",
              "  .colab-df-quickchart-complete:disabled:hover {\n",
              "    background-color: var(--disabled-bg-color);\n",
              "    fill: var(--disabled-fill-color);\n",
              "    box-shadow: none;\n",
              "  }\n",
              "\n",
              "  .colab-df-spinner {\n",
              "    border: 2px solid var(--fill-color);\n",
              "    border-color: transparent;\n",
              "    border-bottom-color: var(--fill-color);\n",
              "    animation:\n",
              "      spin 1s steps(1) infinite;\n",
              "  }\n",
              "\n",
              "  @keyframes spin {\n",
              "    0% {\n",
              "      border-color: transparent;\n",
              "      border-bottom-color: var(--fill-color);\n",
              "      border-left-color: var(--fill-color);\n",
              "    }\n",
              "    20% {\n",
              "      border-color: transparent;\n",
              "      border-left-color: var(--fill-color);\n",
              "      border-top-color: var(--fill-color);\n",
              "    }\n",
              "    30% {\n",
              "      border-color: transparent;\n",
              "      border-left-color: var(--fill-color);\n",
              "      border-top-color: var(--fill-color);\n",
              "      border-right-color: var(--fill-color);\n",
              "    }\n",
              "    40% {\n",
              "      border-color: transparent;\n",
              "      border-right-color: var(--fill-color);\n",
              "      border-top-color: var(--fill-color);\n",
              "    }\n",
              "    60% {\n",
              "      border-color: transparent;\n",
              "      border-right-color: var(--fill-color);\n",
              "    }\n",
              "    80% {\n",
              "      border-color: transparent;\n",
              "      border-right-color: var(--fill-color);\n",
              "      border-bottom-color: var(--fill-color);\n",
              "    }\n",
              "    90% {\n",
              "      border-color: transparent;\n",
              "      border-bottom-color: var(--fill-color);\n",
              "    }\n",
              "  }\n",
              "</style>\n",
              "\n",
              "  <script>\n",
              "    async function quickchart(key) {\n",
              "      const quickchartButtonEl =\n",
              "        document.querySelector('#' + key + ' button');\n",
              "      quickchartButtonEl.disabled = true;  // To prevent multiple clicks.\n",
              "      quickchartButtonEl.classList.add('colab-df-spinner');\n",
              "      try {\n",
              "        const charts = await google.colab.kernel.invokeFunction(\n",
              "            'suggestCharts', [key], {});\n",
              "      } catch (error) {\n",
              "        console.error('Error during call to suggestCharts:', error);\n",
              "      }\n",
              "      quickchartButtonEl.classList.remove('colab-df-spinner');\n",
              "      quickchartButtonEl.classList.add('colab-df-quickchart-complete');\n",
              "    }\n",
              "    (() => {\n",
              "      let quickchartButtonEl =\n",
              "        document.querySelector('#df-672e4611-bee2-4882-9c8c-2930a9243f7c button');\n",
              "      quickchartButtonEl.style.display =\n",
              "        google.colab.kernel.accessAllowed ? 'block' : 'none';\n",
              "    })();\n",
              "  </script>\n",
              "</div>\n",
              "\n",
              "    </div>\n",
              "  </div>\n"
            ],
            "application/vnd.google.colaboratory.intrinsic+json": {
              "type": "dataframe",
              "summary": "{\n  \"name\": \"train_df\",\n  \"rows\": 5,\n  \"fields\": [\n    {\n      \"column\": \"Lyric\",\n      \"properties\": {\n        \"dtype\": \"string\",\n        \"num_unique_values\": 5,\n        \"samples\": [\n          \"You never listen to me. I know I'm better off alone. Everybody knows it's true. Yeah, we all see through you. You know it won't be hard to do. Throw away my stuff from you. (Chorus). And I'll wait for her, to come. She won't break my heart. Cause' I know, she'll be. From Australia. She's so, beautiful. She's my dream girl. lalala, lalala, lalala. she's my dream girl. You were the one I thought I. needed, I'm better off alone. Everybody knows it's true. They know all your secrets. the only thing you knew was true. has just walked out of your life. How does it feel?. (Chorus). So I'll wait for her, to come. She won't break my heart. 'Cause I know, she'll be. From Australia. She's so, beautiful. She's my dream girl. lalala, lalala. she's my dream girl. She will be there. to love and to care. I know there's no need to worry. the girl of my dreams. the one that will be. there to hold me when I'm down. 'Till she is around. (Chorus). I'll just wait for her, to come. She won't break my heart. 'Cause I know, she'll be. From Australia. She's so, beautiful. She's my dream girl. lalala, lalala. she's my dream girl. So I'll just wait for her, to come. She won't break my heart. 'Cause I know, she'll be. From Australia. She's so, beautiful. She's my dream girl. lalala, lalala. she's my dream girl. (dream girl)\",\n          \"Music : Rudolf Schenker. Lyrics: Klaus Meine. She likes it hot, she likes it humid. She likes my cake, and she's not stupid. She likes my sugar, she likes my bread. I'm ready to attack. She comes at night, when I'm asleep. Without a sound, just like a thief. She comes to crawl, under my bed. I'm ready to attack. Priscilla oh Priscilla. You last resistant chiller. Priscilla oh Priscilla. Tonight I'm going to kill ya. She lives in my kitchen. Down in the shade. She likes leftovers. And throwaways. I'm on a diet. And she is fat. I'm ready to attack. Priscilla oh Priscilla. You last resistant chiller. Priscilla oh Priscilla. Tonight I'm going to kill ya. I can't do it I can't do it at all. She turns a man into killer. This cockroach named Priscilla. This cockroach named Priscilla. You're gonna be here. You're gonna be there. You're gonna be everywhere. I'm coming after you. I'm coming after you. You're gonna be now. You're gonna be then. You're gonna be out and in. I'm coming after you. I'm coming after you. You're gonna be saint. You're gonna be sin. You're gonna lose and win. I'm coming after you. I'm coming after you. Priscilla oh Priscilla.\",\n          \"Things have come to a pretty pass. Our romance is growing flat. For you like this and the other. While I go for this and that. Goodness knows what the end will be. Oh, I don't know where I'm at. It looks as if we two will never be one. Something must be done. (Chorus). You say eether and I say eyether. You say neether and I say nyther. Eether, eyether, neether, nyther. Let's call the whole thing off!. You like potato and I like potahto. You like tomato and I like tomahto. Potato, potahto, tomato, tomahto!. Let's call the whole thing off!. But oh! If we call the whole thing off. Then we must part. And oh! If we ever part. Then that might break my heart!. So, if you like pajamas and I like pajahmas. I'll wear pajamas and give up pajahmas. For we know we need each other. So we better call the calling off off. Let's call the whole thing on!. You say laughter and I say lawfter. You say after and I say awfter. Laughter, lawfter, after, awfter. Let's call the whole thing off!. You like vanilla and I like vanella. You, sa's'parilla and I sa's'parella. Vanilla, vanella, Choc'late, strawb'ry!. Let's call the whole thing off!. But oh! If we call the whole thing off. Then we must part. And oh! If we ever part. Then that might break my heart!. So, if you go for oysters and I go for ersters. I'll order oysters and cancel the ersters. For we know we need each other. So we better call the calling off off!. Let's call the whole thing on\"\n        ],\n        \"semantic_type\": \"\",\n        \"description\": \"\"\n      }\n    },\n    {\n      \"column\": \"Genre\",\n      \"properties\": {\n        \"dtype\": \"string\",\n        \"num_unique_values\": 3,\n        \"samples\": [\n          \"Hip Hop\",\n          \"Pop\",\n          \"Rock\"\n        ],\n        \"semantic_type\": \"\",\n        \"description\": \"\"\n      }\n    }\n  ]\n}"
            }
          },
          "metadata": {},
          "execution_count": 7
        }
      ],
      "source": [
        "train_df.tail()"
      ]
    },
    {
      "cell_type": "code",
      "execution_count": 8,
      "metadata": {
        "id": "_E6nt-Emcko0",
        "colab": {
          "base_uri": "https://localhost:8080/"
        },
        "outputId": "a5e51f3c-e249-4fc6-8ea1-bc966aa0a376"
      },
      "outputs": [
        {
          "output_type": "execute_result",
          "data": {
            "text/plain": [
              "Genre\n",
              "Rock       0.549448\n",
              "Pop        0.295136\n",
              "Hip Hop    0.155416\n",
              "Name: count, dtype: float64"
            ]
          },
          "metadata": {},
          "execution_count": 8
        }
      ],
      "source": [
        "# Let's check the proportion of each label on training\n",
        "\n",
        "train_df['Genre'].value_counts() / train_df.shape[0]"
      ]
    },
    {
      "cell_type": "markdown",
      "metadata": {
        "id": "ozBBwDFacmaV"
      },
      "source": [
        "One thing we need to do before is to convert the `Genre` column into a dummy variable (one-hot encoding). This is because our task will try to predict to which of the 3 categories the song belongs to, and we have to encode this in a way that can be understood by the Neural Network."
      ]
    },
    {
      "cell_type": "code",
      "execution_count": 9,
      "metadata": {
        "id": "0lWXWlXMcn6j"
      },
      "outputs": [],
      "source": [
        "# Let's turn the target into a dummy vector\n",
        "\n",
        "y_train = pd.get_dummies(train_df['Genre']).to_numpy()\n",
        "y_val = pd.get_dummies(val_df['Genre']).to_numpy()\n",
        "y_test = pd.get_dummies(test_df['Genre']).to_numpy()"
      ]
    },
    {
      "cell_type": "code",
      "execution_count": 10,
      "metadata": {
        "id": "Xf1WOFqacprR",
        "colab": {
          "base_uri": "https://localhost:8080/"
        },
        "outputId": "0185f2f7-1736-4a62-d056-394a7a80a421"
      },
      "outputs": [
        {
          "output_type": "execute_result",
          "data": {
            "text/plain": [
              "array([[False,  True, False],\n",
              "       [False,  True, False],\n",
              "       [False, False,  True],\n",
              "       ...,\n",
              "       [False,  True, False],\n",
              "       [False,  True, False],\n",
              "       [False, False,  True]])"
            ]
          },
          "metadata": {},
          "execution_count": 10
        }
      ],
      "source": [
        "y_train"
      ]
    },
    {
      "cell_type": "markdown",
      "metadata": {
        "id": "DJrdGGlIcuar"
      },
      "source": [
        "Let us build now a model that distinguishes the genre from the lyric!"
      ]
    },
    {
      "cell_type": "markdown",
      "metadata": {
        "id": "GideM6kGcyRQ"
      },
      "source": [
        "## Baseline Model (Bag of Words)\n"
      ]
    },
    {
      "cell_type": "markdown",
      "metadata": {
        "id": "SduhD7O2cyUF"
      },
      "source": [
        "\n",
        "\n",
        "We will begin by building the simplest model we could come up with:\n",
        "- We will tokenize at a word level, and each token will be exactly one word (unigram)\n",
        "- We will use the one-hot encoding that converts each token into a binary vector indicating the presence of the token. Note that when we tokenize at a word level and use a one-hot encoding to indicate the presence (or as we will see later, the count of the word), the model is called **bag of words**.\n",
        "- `max_tokens` defines the size of the vocabulary the layer is allowed to construct. If the number of tokens in the `adapt` dataset exceeds this number, the layer will choose the `max_tokens` most frequent tokens and ignore the rest."
      ]
    },
    {
      "cell_type": "code",
      "execution_count": 11,
      "metadata": {
        "id": "UZuRrUc4ctl7"
      },
      "outputs": [],
      "source": [
        "# First, we set up our Text Vectorization layer using multi-hot encoding\n",
        "\n",
        "max_tokens = 5000\n",
        "text_vectorization = keras.layers.TextVectorization(\n",
        "    max_tokens=max_tokens,\n",
        "    output_mode=\"multi_hot\")\n"
      ]
    },
    {
      "cell_type": "code",
      "execution_count": 12,
      "metadata": {
        "id": "9dODoUKQc3lA"
      },
      "outputs": [],
      "source": [
        "# The vocabulary that will be indexed is given by the text corpus on our train dataset\n",
        "text_vectorization.adapt(train_df['Lyric'])"
      ]
    },
    {
      "cell_type": "markdown",
      "metadata": {
        "id": "GesLPPHVc5Rg"
      },
      "source": [
        "Let's look at the 20 least common words in our vectorization."
      ]
    },
    {
      "cell_type": "code",
      "execution_count": 13,
      "metadata": {
        "id": "oM18enVpc7GR",
        "colab": {
          "base_uri": "https://localhost:8080/"
        },
        "outputId": "eaaf4b44-7164-4451-dfa1-073c1dd1590b"
      },
      "outputs": [
        {
          "output_type": "execute_result",
          "data": {
            "text/plain": [
              "['eden',\n",
              " 'dagger',\n",
              " 'curve',\n",
              " 'cheddar',\n",
              " 'brew',\n",
              " 'appears',\n",
              " 'vacant',\n",
              " 'universal',\n",
              " 'unholy',\n",
              " 'terrified',\n",
              " 'stickin',\n",
              " 'rumble',\n",
              " 'rug',\n",
              " 'pam',\n",
              " 'os',\n",
              " 'ooohh',\n",
              " 'motto',\n",
              " 'marshall',\n",
              " 'loyalty',\n",
              " 'legacy']"
            ]
          },
          "metadata": {},
          "execution_count": 13
        }
      ],
      "source": [
        "text_vectorization.get_vocabulary()[-20:]"
      ]
    },
    {
      "cell_type": "code",
      "execution_count": 14,
      "metadata": {
        "id": "r0H-FOJAc9rC"
      },
      "outputs": [],
      "source": [
        "# We vectorize our input\n",
        "\n",
        "X_train = text_vectorization(train_df['Lyric'])\n",
        "X_val = text_vectorization(val_df['Lyric'])\n",
        "X_test = text_vectorization(test_df['Lyric'])"
      ]
    },
    {
      "cell_type": "markdown",
      "metadata": {
        "id": "z_0qCy8Cc_qg"
      },
      "source": [
        "**Question:**\n",
        "\n",
        "Each phrase is now a vector. How long is this vector?\n",
        "\n",
        "<pre>\n",
        "\n",
        "\n",
        "\n",
        "\n",
        "\n",
        "\n",
        "\n",
        "\n",
        "</pre>\n",
        "\n",
        "Answer: It is `max_tokens` long i.e., 5000."
      ]
    },
    {
      "cell_type": "code",
      "execution_count": 15,
      "metadata": {
        "id": "j_ZmsCGfdBoj",
        "colab": {
          "base_uri": "https://localhost:8080/"
        },
        "outputId": "dd3c89b9-6afe-4455-d27d-7b6c5b8d0e50"
      },
      "outputs": [
        {
          "output_type": "execute_result",
          "data": {
            "text/plain": [
              "<tf.Tensor: shape=(48991, 5000), dtype=float32, numpy=\n",
              "array([[1., 1., 1., ..., 0., 0., 0.],\n",
              "       [1., 1., 1., ..., 0., 0., 0.],\n",
              "       [1., 1., 1., ..., 0., 0., 0.],\n",
              "       ...,\n",
              "       [1., 1., 1., ..., 0., 0., 0.],\n",
              "       [1., 1., 1., ..., 0., 0., 0.],\n",
              "       [1., 1., 1., ..., 0., 0., 0.]], dtype=float32)>"
            ]
          },
          "metadata": {},
          "execution_count": 15
        }
      ],
      "source": [
        "X_train"
      ]
    },
    {
      "cell_type": "markdown",
      "metadata": {
        "id": "ft-exi6UdGPx"
      },
      "source": [
        "We can think of this matrix as a sequence of row vectors. Each row vector is one of the ~49K songs in our training data, and each entry of this vector indicates the presence of the word that is indexed in that position. For example, the second entry in all the vectors corresponds to the word 'the' and a 1 indicates the presence of that word in the song."
      ]
    },
    {
      "cell_type": "markdown",
      "metadata": {
        "id": "ECVyvfXYdJxP"
      },
      "source": [
        "Let's try a simple 1-hidden layer NN with just 8 neurons in the hidden layer."
      ]
    },
    {
      "cell_type": "code",
      "execution_count": 16,
      "metadata": {
        "id": "XkapBRj1dFLF",
        "colab": {
          "base_uri": "https://localhost:8080/"
        },
        "outputId": "9f011e45-c0a1-46db-ed7f-0b7f282460e9"
      },
      "outputs": [
        {
          "output_type": "stream",
          "name": "stdout",
          "text": [
            "Model: \"model\"\n",
            "_________________________________________________________________\n",
            " Layer (type)                Output Shape              Param #   \n",
            "=================================================================\n",
            " input_1 (InputLayer)        [(None, 5000)]            0         \n",
            "                                                                 \n",
            " dense (Dense)               (None, 8)                 40008     \n",
            "                                                                 \n",
            " dense_1 (Dense)             (None, 3)                 27        \n",
            "                                                                 \n",
            "=================================================================\n",
            "Total params: 40035 (156.39 KB)\n",
            "Trainable params: 40035 (156.39 KB)\n",
            "Non-trainable params: 0 (0.00 Byte)\n",
            "_________________________________________________________________\n"
          ]
        }
      ],
      "source": [
        "inputs = keras.Input(shape=(max_tokens, ))\n",
        "x = keras.layers.Dense(8, activation=\"relu\")(inputs)\n",
        "outputs = keras.layers.Dense(3, activation=\"softmax\")(x)\n",
        "\n",
        "model = keras.Model(inputs, outputs)\n",
        "\n",
        "model.summary()"
      ]
    },
    {
      "cell_type": "code",
      "execution_count": 17,
      "metadata": {
        "id": "PDWK2EMqdMy9"
      },
      "outputs": [],
      "source": [
        "model.compile(optimizer=\"adam\",\n",
        "              loss=\"categorical_crossentropy\",\n",
        "              metrics=[\"accuracy\"])"
      ]
    },
    {
      "cell_type": "code",
      "execution_count": 18,
      "metadata": {
        "id": "8YFRRUJ1dOI6",
        "colab": {
          "base_uri": "https://localhost:8080/"
        },
        "outputId": "7672c57a-b2f9-4d8e-eb29-211a53842e70"
      },
      "outputs": [
        {
          "output_type": "stream",
          "name": "stdout",
          "text": [
            "Epoch 1/10\n",
            "1531/1531 [==============================] - 10s 6ms/step - loss: 0.6167 - accuracy: 0.7311 - val_loss: 0.5701 - val_accuracy: 0.7529\n",
            "Epoch 2/10\n",
            "1531/1531 [==============================] - 7s 4ms/step - loss: 0.5200 - accuracy: 0.7765 - val_loss: 0.5730 - val_accuracy: 0.7497\n",
            "Epoch 3/10\n",
            "1531/1531 [==============================] - 9s 6ms/step - loss: 0.4820 - accuracy: 0.7919 - val_loss: 0.5849 - val_accuracy: 0.7434\n",
            "Epoch 4/10\n",
            "1531/1531 [==============================] - 7s 5ms/step - loss: 0.4509 - accuracy: 0.8067 - val_loss: 0.6015 - val_accuracy: 0.7415\n",
            "Epoch 5/10\n",
            "1531/1531 [==============================] - 9s 6ms/step - loss: 0.4227 - accuracy: 0.8207 - val_loss: 0.6270 - val_accuracy: 0.7407\n",
            "Epoch 6/10\n",
            "1531/1531 [==============================] - 8s 5ms/step - loss: 0.3987 - accuracy: 0.8324 - val_loss: 0.6586 - val_accuracy: 0.7382\n",
            "Epoch 7/10\n",
            "1531/1531 [==============================] - 7s 5ms/step - loss: 0.3766 - accuracy: 0.8433 - val_loss: 0.6785 - val_accuracy: 0.7365\n",
            "Epoch 8/10\n",
            "1531/1531 [==============================] - 9s 6ms/step - loss: 0.3561 - accuracy: 0.8523 - val_loss: 0.7291 - val_accuracy: 0.7314\n",
            "Epoch 9/10\n",
            "1531/1531 [==============================] - 7s 4ms/step - loss: 0.3384 - accuracy: 0.8603 - val_loss: 0.7527 - val_accuracy: 0.7244\n",
            "Epoch 10/10\n",
            "1531/1531 [==============================] - 10s 6ms/step - loss: 0.3201 - accuracy: 0.8687 - val_loss: 0.8052 - val_accuracy: 0.7249\n"
          ]
        },
        {
          "output_type": "execute_result",
          "data": {
            "text/plain": [
              "<keras.src.callbacks.History at 0x7fe4badb9db0>"
            ]
          },
          "metadata": {},
          "execution_count": 18
        }
      ],
      "source": [
        "# Fit model\n",
        "model.fit(x=X_train, y=y_train,\n",
        "          validation_data=(X_val, y_val),\n",
        "          epochs=10,\n",
        "          batch_size=32)"
      ]
    },
    {
      "cell_type": "code",
      "execution_count": 19,
      "metadata": {
        "id": "tiCC-JBddQL7",
        "colab": {
          "base_uri": "https://localhost:8080/"
        },
        "outputId": "3ef31665-03c2-4d8e-a64a-85c7f9126799"
      },
      "outputs": [
        {
          "output_type": "stream",
          "name": "stdout",
          "text": [
            "681/681 [==============================] - 2s 3ms/step - loss: 0.8323 - accuracy: 0.7203\n"
          ]
        },
        {
          "output_type": "execute_result",
          "data": {
            "text/plain": [
              "[0.8323413133621216, 0.7202627062797546]"
            ]
          },
          "metadata": {},
          "execution_count": 19
        }
      ],
      "source": [
        "model.evaluate(x=X_test, y=y_test)"
      ]
    },
    {
      "cell_type": "markdown",
      "metadata": {
        "id": "uw8NUJG3t_in"
      },
      "source": [
        "### END Screencast: NLP Coding Walk-Through: Part Two"
      ]
    },
    {
      "cell_type": "markdown",
      "metadata": {
        "id": "DtTufawYdUSY"
      },
      "source": [
        "Note that the largest class is Rock, with around 58%, so a dummy predictor that outputs the most common class would get 58% accuracy.\n",
        "\n",
        "Our simple 1-hidden layer NN using unigrams and multi-hot encoding improves on that nicely!!\n"
      ]
    },
    {
      "cell_type": "markdown",
      "metadata": {
        "id": "A1low0G7g5Ul"
      },
      "source": [
        "## Word Embeddings\n",
        "\n"
      ]
    },
    {
      "cell_type": "markdown",
      "metadata": {
        "id": "-NlovA6Zg5Y2"
      },
      "source": [
        "\n",
        "It seems that adding the count of words didn't help us that much.\n",
        "\n",
        "Crucially, when you encode something via one-hot encoding, you’re making a feature-engineering decision that assummes that the different tokens you’re encoding are all independent from each other: indeed, one-hot vectors are all orthogonal to one another.\n",
        "\n",
        "In the case of words, that assumption is clearly wrong. Words form a structured space: they share information with each other. The words \"movie\" and \"film\" are interchangeable in most sentences, so the vector that represents \"movie\" should not be orthogonal to the vector that represents \"film\"—they should be the same vector, or close enough.\n",
        "\n",
        "Word embeddings are **vector representations** of words that achieve exactly this: they map human language into a structured geometric space.\n"
      ]
    },
    {
      "cell_type": "markdown",
      "metadata": {
        "id": "Nm4tRYXbg-EI"
      },
      "source": [
        "![image.png](data:image/png;base64,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)"
      ]
    },
    {
      "cell_type": "markdown",
      "metadata": {
        "id": "0kYqccuqg-Hb"
      },
      "source": [
        "Ideally, word embeddings will try to convey meaning within the geometric space in which the words are represented. For example, a potential representation could have the following structure:\n",
        "\n",
        "![image.png](data:image/png;base64,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)\n",
        "\n",
        "You see the relation between Dog and Wolf with Cat and Tiger? A good embedding should be able to capture these type of semantic meaning.\n",
        "\n",
        "In real-world word-embedding spaces, common examples of meaningful geometric transformations are \"gender\" vectors and \"plural\" vectors. For instance, by adding a \"female\" vector to the vector \"king,\" we obtain the vector \"queen.\" By adding a \"plural\" vector, we obtain \"kings.\" Word-embedding spaces typically feature thousands of such interpretable and potentially useful vectors."
      ]
    },
    {
      "cell_type": "markdown",
      "metadata": {
        "id": "OdcoV62thHQa"
      },
      "source": [
        "Where do we get these word embeddings from? We have two options: we can learn them from our data, or insert a previously trained embedding into our model.\n",
        "\n",
        "Let's now take the second route and use an **already trained word embedding**. This can be useful if you don't have enough data to learn a task-specific embedding of your vocabulary.\n",
        "\n",
        "It has the drawback that this embedding will not be customized to your data, but they capture generic aspects of language structure. This is not necessarily bad since one would expect that in most cases word features to be fairly generic.\n",
        "\n",
        "There are a couple of popular word embeddings that you can download and use in a Keras `Embedding` layer (Word2Vec, GloVe).\n",
        "\n",
        "Let's look at an example using GloVe which was precomputed on the 2014 English Wikipedia dataset.\n",
        "\n",
        "We first begin by downloading the GloVe word embedding  that contains 100-dimensional embedding vectors of 400,000 words."
      ]
    },
    {
      "cell_type": "code",
      "execution_count": 20,
      "metadata": {
        "id": "ai5klYkzg4nl",
        "colab": {
          "base_uri": "https://localhost:8080/"
        },
        "outputId": "becb7484-e560-4c4b-f839-6253dff409f1"
      },
      "outputs": [
        {
          "output_type": "stream",
          "name": "stdout",
          "text": [
            "--2024-07-05 02:38:11--  http://nlp.stanford.edu/data/glove.6B.zip\n",
            "Resolving nlp.stanford.edu (nlp.stanford.edu)... 171.64.67.140\n",
            "Connecting to nlp.stanford.edu (nlp.stanford.edu)|171.64.67.140|:80... connected.\n",
            "HTTP request sent, awaiting response... 302 Found\n",
            "Location: https://nlp.stanford.edu/data/glove.6B.zip [following]\n",
            "--2024-07-05 02:38:11--  https://nlp.stanford.edu/data/glove.6B.zip\n",
            "Connecting to nlp.stanford.edu (nlp.stanford.edu)|171.64.67.140|:443... connected.\n",
            "HTTP request sent, awaiting response... 301 Moved Permanently\n",
            "Location: https://downloads.cs.stanford.edu/nlp/data/glove.6B.zip [following]\n",
            "--2024-07-05 02:38:11--  https://downloads.cs.stanford.edu/nlp/data/glove.6B.zip\n",
            "Resolving downloads.cs.stanford.edu (downloads.cs.stanford.edu)... 171.64.64.22\n",
            "Connecting to downloads.cs.stanford.edu (downloads.cs.stanford.edu)|171.64.64.22|:443... connected.\n",
            "HTTP request sent, awaiting response... 200 OK\n",
            "Length: 862182613 (822M) [application/zip]\n",
            "Saving to: ‘glove.6B.zip’\n",
            "\n",
            "glove.6B.zip        100%[===================>] 822.24M  5.02MB/s    in 2m 39s  \n",
            "\n",
            "2024-07-05 02:40:50 (5.18 MB/s) - ‘glove.6B.zip’ saved [862182613/862182613]\n",
            "\n"
          ]
        }
      ],
      "source": [
        "!wget http://nlp.stanford.edu/data/glove.6B.zip\n",
        "!unzip -q glove.6B.zip"
      ]
    },
    {
      "cell_type": "code",
      "execution_count": 21,
      "metadata": {
        "id": "PnvSOo9JhO7t",
        "colab": {
          "base_uri": "https://localhost:8080/"
        },
        "outputId": "52aeacfe-1262-4e62-be68-2c7cfe011674"
      },
      "outputs": [
        {
          "output_type": "stream",
          "name": "stdout",
          "text": [
            "Found 400000 word vectors.\n"
          ]
        }
      ],
      "source": [
        "embedding_dim = 100\n",
        "path_to_glove_file = f\"glove.6B.{embedding_dim}d.txt\"\n",
        "\n",
        "embeddings_index = {}\n",
        "with open(path_to_glove_file) as f:\n",
        "    for line in f:\n",
        "        word, coefs = line.split(maxsplit=1)\n",
        "        coefs = np.fromstring(coefs, \"f\", sep=\" \")\n",
        "        embeddings_index[word] = coefs\n",
        "\n",
        "print(f\"Found {len(embeddings_index)} word vectors.\")"
      ]
    },
    {
      "cell_type": "markdown",
      "metadata": {
        "id": "cPwovCCthSSh"
      },
      "source": [
        "Let's take a look at some word vectors."
      ]
    },
    {
      "cell_type": "code",
      "execution_count": 22,
      "metadata": {
        "id": "gjpLMLJGhUgr",
        "colab": {
          "base_uri": "https://localhost:8080/"
        },
        "outputId": "4aa4067a-e1db-478e-d5d9-363342c85ce5"
      },
      "outputs": [
        {
          "output_type": "execute_result",
          "data": {
            "text/plain": [
              "array([ 0.38251  ,  0.14821  ,  0.60601  , -0.51533  ,  0.43992  ,\n",
              "        0.061053 , -0.62716  , -0.025385 ,  0.1643   , -0.22101  ,\n",
              "        0.14423  , -0.37213  , -0.21683  , -0.08895  ,  0.097904 ,\n",
              "        0.6561   ,  0.64455  ,  0.47698  ,  0.83849  ,  1.6486   ,\n",
              "        0.88922  , -0.1181   , -0.012465 , -0.52082  ,  0.77854  ,\n",
              "        0.48723  , -0.014991 , -0.14127  , -0.34747  , -0.29595  ,\n",
              "        0.1028   ,  0.57191  , -0.045594 ,  0.026443 ,  0.53816  ,\n",
              "        0.32257  ,  0.40788  , -0.043599 , -0.146    , -0.48346  ,\n",
              "        0.32036  ,  0.55086  , -0.76259  ,  0.43269  ,  0.61753  ,\n",
              "       -0.36503  , -0.60599  , -0.79615  ,  0.3929   , -0.23668  ,\n",
              "       -0.34719  , -0.61201  ,  0.54747  ,  0.94812  ,  0.20941  ,\n",
              "       -2.7771   , -0.6022   ,  0.8495   ,  1.2549   ,  0.017893 ,\n",
              "       -0.041901 ,  2.1147   , -0.026618 , -0.28104  ,  0.68124  ,\n",
              "       -0.14165  ,  0.99249  ,  0.49879  , -0.67538  ,  0.6417   ,\n",
              "        0.42303  , -0.27913  ,  0.063403 ,  0.68909  , -0.36183  ,\n",
              "        0.053709 , -0.16806  ,  0.19422  , -0.47073  , -0.14803  ,\n",
              "       -0.58986  , -0.2797   ,  0.16792  ,  0.10568  , -1.7601   ,\n",
              "        0.0088254, -0.83326  , -0.5836   , -0.37079  , -0.56591  ,\n",
              "        0.20699  ,  0.071315 ,  0.055586 , -0.29757  , -0.072659 ,\n",
              "       -0.25596  ,  0.42688  ,  0.058921 ,  0.091112 ,  0.47283  ],\n",
              "      dtype=float32)"
            ]
          },
          "metadata": {},
          "execution_count": 22
        }
      ],
      "source": [
        "embeddings_index[\"movie\"]"
      ]
    },
    {
      "cell_type": "code",
      "execution_count": 23,
      "metadata": {
        "id": "YnHXW1LPhWQ6",
        "colab": {
          "base_uri": "https://localhost:8080/"
        },
        "outputId": "f5b95891-89b6-4ab3-d0db-873c2c342264"
      },
      "outputs": [
        {
          "output_type": "execute_result",
          "data": {
            "text/plain": [
              "array([ 0.19916 , -0.049702,  0.24579 , -0.32281 ,  0.89768 , -0.1278  ,\n",
              "       -0.49506 ,  0.20814 , -0.20046 , -0.20604 ,  0.038292, -0.67277 ,\n",
              "       -0.12689 , -0.18766 , -0.10277 ,  0.73128 ,  0.82408 ,  0.087288,\n",
              "        0.69255 ,  1.3107  ,  0.49113 , -0.38097 ,  0.24338 , -0.27813 ,\n",
              "        0.62506 ,  0.35978 ,  0.42041 , -0.24529 ,  0.14861 , -0.26726 ,\n",
              "       -0.56262 ,  0.63843 , -0.54153 ,  0.36537 ,  0.20545 , -0.16604 ,\n",
              "        0.72434 ,  0.29961 , -0.42501 , -0.35932 , -0.089288,  0.48752 ,\n",
              "       -1.0927  ,  0.88818 ,  0.89941 , -0.7541  , -0.35492 , -0.76396 ,\n",
              "        0.27468 ,  0.2757  , -0.48152 , -0.41399 ,  0.64489 ,  1.148   ,\n",
              "       -0.29131 , -2.9387  , -0.83162 ,  0.95586 ,  1.1623  , -0.42502 ,\n",
              "        0.15486 ,  2.2326  , -0.31339 , -0.030228,  0.79802 , -0.41302 ,\n",
              "        0.72885 ,  0.7296  , -0.31909 ,  0.8956  ,  0.34625 ,  0.2923  ,\n",
              "        0.40056 ,  0.78985 , -0.43999 ,  0.24698 , -0.46548 ,  0.055886,\n",
              "       -0.62603 , -0.036487, -0.65429 ,  0.10563 ,  0.17435 ,  0.35466 ,\n",
              "       -1.9403  , -0.022502, -0.7302  , -0.63042 , -0.032799, -0.43953 ,\n",
              "       -0.07239 , -0.44875 , -0.074689, -0.14426 ,  0.19252 ,  0.27108 ,\n",
              "        0.20325 , -0.068109,  0.017651,  0.06455 ], dtype=float32)"
            ]
          },
          "metadata": {},
          "execution_count": 23
        }
      ],
      "source": [
        "embeddings_index[\"film\"]"
      ]
    },
    {
      "cell_type": "markdown",
      "metadata": {
        "id": "AmQe_yfAhXqD"
      },
      "source": [
        "Let's now load the GloVe embeddings into the model and train it!"
      ]
    },
    {
      "cell_type": "code",
      "execution_count": 24,
      "metadata": {
        "id": "UaKyS05rhZLb"
      },
      "outputs": [],
      "source": [
        "max_length = 300 #90% of songs\n",
        "max_tokens = 5000\n",
        "\n",
        "text_vectorization = keras.layers.TextVectorization(\n",
        "    max_tokens=max_tokens,\n",
        "    output_mode=\"int\",\n",
        "    output_sequence_length=max_length,\n",
        ")"
      ]
    },
    {
      "cell_type": "markdown",
      "metadata": {
        "id": "dAjyXQwvhbVl"
      },
      "source": [
        "We haven't seen the `output_sequence_length` argument before. This basically truncates any doc to the length specified by the argument. If the document is shorter it is padded with the empty tokens (i.e. tokens that index to 0)"
      ]
    },
    {
      "cell_type": "code",
      "execution_count": 25,
      "metadata": {
        "id": "koMXQgzAhe7I"
      },
      "outputs": [],
      "source": [
        "text_vectorization.adapt(train_df['Lyric'])"
      ]
    },
    {
      "cell_type": "code",
      "execution_count": 26,
      "metadata": {
        "id": "HtlJGJ1Vhe_u"
      },
      "outputs": [],
      "source": [
        "X_train = text_vectorization(train_df['Lyric'])\n",
        "X_val = text_vectorization(val_df['Lyric'])\n",
        "X_test = text_vectorization(test_df['Lyric'])"
      ]
    },
    {
      "cell_type": "code",
      "execution_count": 27,
      "metadata": {
        "id": "5KcuvB_JhhmQ",
        "colab": {
          "base_uri": "https://localhost:8080/"
        },
        "outputId": "8429e056-4998-457a-d00b-072da0a10e0b"
      },
      "outputs": [
        {
          "output_type": "execute_result",
          "data": {
            "text/plain": [
              "<tf.Tensor: shape=(48991, 300), dtype=int64, numpy=\n",
              "array([[  40,   83,    4, ...,   22,  729,    3],\n",
              "       [  20,  649,   13, ...,    0,    0,    0],\n",
              "       [  20, 2872,    3, ...,    0,    0,    0],\n",
              "       ...,\n",
              "       [ 153,   66,   62, ...,    0,    0,    0],\n",
              "       [ 119,   51,   13, ...,    0,    0,    0],\n",
              "       [ 358,    1,    1, ...,    0,    0,    0]])>"
            ]
          },
          "metadata": {},
          "execution_count": 27
        }
      ],
      "source": [
        "X_train"
      ]
    },
    {
      "cell_type": "markdown",
      "metadata": {
        "id": "WYh6mS1bhiB3"
      },
      "source": [
        "To add a word embedding to our model, we can use a Keras layer called `Embedding` and incorporate it as an extra layer of our Neural Network.\n",
        "\n",
        "The Embedding layer is best understood as a dictionary that maps integer indices (which stand for specific words) to dense vectors. It takes integers as input, looks up these integers in an internal dictionary, and returns the associated vectors. It’s effectively a dictionary lookup.\n",
        "\n",
        "The Embedding layer takes as input a rank-2 tensor of integers, of shape (batch_size, sequence_length), where each entry is a sequence of integers. The layer then returns a 3D floating-point tensor of shape (batch_size, sequence_length, embedding_ dimensionality).\n",
        "\n",
        "When you instantiate an Embedding layer, its weights (its internal dictionary of token vectors) are initially random, just as with any other layer. During training, these word vectors are gradually adjusted via gradient descent (i.e., backpropagation).\n",
        "\n",
        "Since we want to use the downloaded GLoVE embeddings, we will first build a matrix of shape `(max_words, embedding_dim)` and fix it as the embeddings of the `Embedding` layer.\n",
        "\n",
        "We will add an extra argument `trainable=False` to freeze the layer to avoid disrupting these pretrained GLoVE embeddings during training."
      ]
    },
    {
      "cell_type": "markdown",
      "metadata": {
        "id": "6odrpQNlhl-O"
      },
      "source": [
        "vocabulary = text_vectorization.get_vocabulary()\n",
        "word_index = dict(zip(vocabulary, range(len(vocabulary))))\n",
        "\n",
        "counter = 0\n",
        "embedding_matrix = np.zeros((max_tokens, embedding_dim))\n",
        "for word, i in word_index.items():\n",
        "    if i < max_tokens:\n",
        "        embedding_vector = embeddings_index.get(word)\n",
        "    if embedding_vector is not None:\n",
        "        embedding_matrix[i] = embedding_vector\n",
        "    else:\n",
        "        counter += 1\n"
      ]
    },
    {
      "cell_type": "markdown",
      "metadata": {
        "id": "_YpPv7BNhnlP"
      },
      "source": [
        "The above code creates a lookup table that maps integers to the corresponding word vectors"
      ]
    },
    {
      "cell_type": "code",
      "execution_count": 29,
      "metadata": {
        "id": "yvPpWcoLhpEm",
        "colab": {
          "base_uri": "https://localhost:8080/"
        },
        "outputId": "6d06caf2-24ae-4709-efda-3de414e5bf97"
      },
      "outputs": [
        {
          "output_type": "execute_result",
          "data": {
            "text/plain": [
              "(5000, 100)"
            ]
          },
          "metadata": {},
          "execution_count": 29
        }
      ],
      "source": [
        "vocabulary = text_vectorization.get_vocabulary()\n",
        "word_index = dict(zip(vocabulary, range(len(vocabulary))))\n",
        "\n",
        "counter = 0\n",
        "embedding_matrix = np.zeros((max_tokens, embedding_dim))\n",
        "for word, i in word_index.items():\n",
        "  if i < max_tokens:\n",
        "    embedding_vector = embeddings_index.get(word)\n",
        "    if embedding_vector is not None:\n",
        "      embedding_matrix[i] = embedding_vector\n",
        "    else:\n",
        "      counter += 1\n",
        "embedding_matrix.shape"
      ]
    },
    {
      "cell_type": "markdown",
      "metadata": {
        "id": "MFjhxEHYkUNU"
      },
      "source": [
        "We can now feed this matrix as the initial weights of the `Embedding` layer.\n",
        "\n",
        "\n",
        "The first argument of the method corresponds to the number of possible tokens, and the second is the dimension of the geometrical space where we will represent our words."
      ]
    },
    {
      "cell_type": "code",
      "execution_count": 30,
      "metadata": {
        "id": "AhujWb6VkpwZ"
      },
      "outputs": [],
      "source": [
        "embedding_layer = keras.layers.Embedding(\n",
        "    max_tokens,\n",
        "    embedding_dim,\n",
        "    embeddings_initializer= keras.initializers.Constant(embedding_matrix),\n",
        "    trainable=False,\n",
        ")"
      ]
    },
    {
      "cell_type": "code",
      "execution_count": 31,
      "metadata": {
        "id": "3DY3e-FNuvhr",
        "colab": {
          "base_uri": "https://localhost:8080/"
        },
        "outputId": "112711c3-2852-4305-96fb-3fc3a894dc40"
      },
      "outputs": [
        {
          "output_type": "stream",
          "name": "stdout",
          "text": [
            "There are 155 words on our vocabulary not present in the Glove embedding\n",
            "This is roughly 3.10% of the vocabulary\n",
            "These words will be represented by a vector of 0 in all entries in the embedding\n"
          ]
        }
      ],
      "source": [
        "print(f'There are {counter} words on our vocabulary not present in the Glove embedding')\n",
        "print(f'This is roughly {counter / max_tokens * 100:.2f}% of the vocabulary')\n",
        "print('These words will be represented by a vector of 0 in all entries in the embedding')"
      ]
    },
    {
      "cell_type": "markdown",
      "metadata": {
        "id": "23yyiZhpuxe6"
      },
      "source": [
        "We can now build a Neural Network with an embedding layer after its input layer. This layer will use the already computed Glove embeddings to convert each word in the document into a dense vector. Thus, each text will be represented by a matrix.\n",
        "\n",
        "How do we convert this matrix in something that can be used as a vector that can be fed to the next Dense layer of the network? There are actually many answers to this, but the approach we will take will be to take the average of the vectors of each word in the text, and that will be the representation of the review in the embedded space. We  use the `GlobalAveragePooling1D` layer ([link](https://keras.io/api/layers/pooling_layers/global_average_pooling1d/)) layer for this purpose.\n",
        "\n",
        "**SWITCH TO IPAD TO EXPLAIN VISUALLY HOW THIS WORKS**\n",
        "\n",
        "\n",
        "\n",
        "\n"
      ]
    },
    {
      "cell_type": "code",
      "execution_count": 32,
      "metadata": {
        "id": "zSXUDYK4uy_f",
        "colab": {
          "base_uri": "https://localhost:8080/"
        },
        "outputId": "6bf7655d-8483-4c81-d018-693658f4880f"
      },
      "outputs": [
        {
          "output_type": "stream",
          "name": "stdout",
          "text": [
            "Model: \"model_1\"\n",
            "_________________________________________________________________\n",
            " Layer (type)                Output Shape              Param #   \n",
            "=================================================================\n",
            " input_2 (InputLayer)        [(None, 300)]             0         \n",
            "                                                                 \n",
            " embedding (Embedding)       (None, 300, 100)          500000    \n",
            "                                                                 \n",
            " global_average_pooling1d (  (None, 100)               0         \n",
            " GlobalAveragePooling1D)                                         \n",
            "                                                                 \n",
            " dense_2 (Dense)             (None, 8)                 808       \n",
            "                                                                 \n",
            " dropout (Dropout)           (None, 8)                 0         \n",
            "                                                                 \n",
            " dense_3 (Dense)             (None, 3)                 27        \n",
            "                                                                 \n",
            "=================================================================\n",
            "Total params: 500835 (1.91 MB)\n",
            "Trainable params: 835 (3.26 KB)\n",
            "Non-trainable params: 500000 (1.91 MB)\n",
            "_________________________________________________________________\n"
          ]
        }
      ],
      "source": [
        "inputs = keras.Input(shape=(max_length,))\n",
        "embedded = embedding_layer(inputs) # 300 x 100 table comes out\n",
        "embedded = keras.layers.GlobalAveragePooling1D()(embedded) # 100-element vector\n",
        "x = keras.layers.Dense(8)(embedded)\n",
        "x = keras.layers.Dropout(0.5)(x)\n",
        "outputs = keras.layers.Dense(3, activation=\"softmax\")(x)\n",
        "\n",
        "model = keras.Model(inputs, outputs)\n",
        "\n",
        "model.summary()"
      ]
    },
    {
      "cell_type": "code",
      "execution_count": 33,
      "metadata": {
        "id": "rYr0JM0ou0ac"
      },
      "outputs": [],
      "source": [
        "model.compile(optimizer=\"adam\",\n",
        "              loss=\"categorical_crossentropy\",\n",
        "              metrics=[\"accuracy\"])"
      ]
    },
    {
      "cell_type": "code",
      "execution_count": 35,
      "metadata": {
        "id": "wNZFwF4Mu1eF",
        "colab": {
          "base_uri": "https://localhost:8080/"
        },
        "outputId": "a0fb18c9-acff-452d-c8b6-f005ca024bb4"
      },
      "outputs": [
        {
          "output_type": "stream",
          "name": "stdout",
          "text": [
            "Epoch 1/10\n",
            "1531/1531 [==============================] - 15s 10ms/step - loss: 0.7796 - accuracy: 0.6574 - val_loss: 0.7395 - val_accuracy: 0.6820\n",
            "Epoch 2/10\n",
            "1531/1531 [==============================] - 12s 8ms/step - loss: 0.7796 - accuracy: 0.6572 - val_loss: 0.7422 - val_accuracy: 0.6791\n",
            "Epoch 3/10\n",
            "1531/1531 [==============================] - 8s 6ms/step - loss: 0.7770 - accuracy: 0.6581 - val_loss: 0.7352 - val_accuracy: 0.6823\n",
            "Epoch 4/10\n",
            "1531/1531 [==============================] - 13s 8ms/step - loss: 0.7765 - accuracy: 0.6589 - val_loss: 0.7371 - val_accuracy: 0.6758\n",
            "Epoch 5/10\n",
            "1531/1531 [==============================] - 11s 7ms/step - loss: 0.7752 - accuracy: 0.6588 - val_loss: 0.7434 - val_accuracy: 0.6690\n",
            "Epoch 6/10\n",
            "1531/1531 [==============================] - 9s 6ms/step - loss: 0.7753 - accuracy: 0.6620 - val_loss: 0.7375 - val_accuracy: 0.6731\n",
            "Epoch 7/10\n",
            "1531/1531 [==============================] - 12s 8ms/step - loss: 0.7744 - accuracy: 0.6587 - val_loss: 0.7394 - val_accuracy: 0.6732\n",
            "Epoch 8/10\n",
            "1531/1531 [==============================] - 9s 6ms/step - loss: 0.7732 - accuracy: 0.6602 - val_loss: 0.7320 - val_accuracy: 0.6843\n",
            "Epoch 9/10\n",
            "1531/1531 [==============================] - 8s 5ms/step - loss: 0.7779 - accuracy: 0.6579 - val_loss: 0.7333 - val_accuracy: 0.6853\n",
            "Epoch 10/10\n",
            "1531/1531 [==============================] - 13s 8ms/step - loss: 0.7712 - accuracy: 0.6633 - val_loss: 0.7388 - val_accuracy: 0.6793\n"
          ]
        },
        {
          "output_type": "execute_result",
          "data": {
            "text/plain": [
              "<keras.src.callbacks.History at 0x7fe49f91a830>"
            ]
          },
          "metadata": {},
          "execution_count": 35
        }
      ],
      "source": [
        "# Fit model\n",
        "model.fit(x=X_train, y=y_train,\n",
        "          validation_data=(X_val, y_val),\n",
        "          epochs=10,\n",
        "          batch_size=32,)"
      ]
    },
    {
      "cell_type": "markdown",
      "metadata": {
        "id": "O7mzdEzvu3Jq"
      },
      "source": [
        "You’ll find that on this particular task, pretrained embeddings aren’t very helpful, because the dataset contains enough samples that it is possible to learn a pretty enough specialized embedding space from scratch. However, leveraging pretrained embeddings can be very helpful when you’re working with a smaller dataset.\n",
        "\n",
        "Remember how we had set the `trainable` parameter to `False` when setting the embedding layer? What would happen if we change this?\n",
        "\n",
        "One can think in the Embedding layer as taking the vectorized representation of words and adding weights to each component to form a new vector in a lower dimensional space. These weights are fixed and come from the Glove embedding. But since the Embedding layer is just another layer in our Neural Network, we could update those weights with gradient descent.\n",
        "\n",
        "Let's try that out!\n"
      ]
    },
    {
      "cell_type": "code",
      "execution_count": 36,
      "metadata": {
        "id": "UHH8y6Sju4yu",
        "colab": {
          "base_uri": "https://localhost:8080/"
        },
        "outputId": "d24cc3ce-a311-423d-9f63-bebce155a543"
      },
      "outputs": [
        {
          "output_type": "stream",
          "name": "stdout",
          "text": [
            "Model: \"model_2\"\n",
            "_________________________________________________________________\n",
            " Layer (type)                Output Shape              Param #   \n",
            "=================================================================\n",
            " input_3 (InputLayer)        [(None, 300)]             0         \n",
            "                                                                 \n",
            " embedding_1 (Embedding)     (None, 300, 100)          500000    \n",
            "                                                                 \n",
            " global_average_pooling1d_1  (None, 100)               0         \n",
            "  (GlobalAveragePooling1D)                                       \n",
            "                                                                 \n",
            " dense_4 (Dense)             (None, 8)                 808       \n",
            "                                                                 \n",
            " dropout_1 (Dropout)         (None, 8)                 0         \n",
            "                                                                 \n",
            " dense_5 (Dense)             (None, 3)                 27        \n",
            "                                                                 \n",
            "=================================================================\n",
            "Total params: 500835 (1.91 MB)\n",
            "Trainable params: 500835 (1.91 MB)\n",
            "Non-trainable params: 0 (0.00 Byte)\n",
            "_________________________________________________________________\n"
          ]
        }
      ],
      "source": [
        "embedding_layer = keras.layers.Embedding(\n",
        "    max_tokens,\n",
        "    embedding_dim,\n",
        "    embeddings_initializer=keras.initializers.Constant(embedding_matrix),\n",
        "    trainable=True,\n",
        ")\n",
        "\n",
        "inputs = keras.Input(shape=(max_length,))\n",
        "embedded = embedding_layer(inputs)\n",
        "embedded = keras.layers.GlobalAveragePooling1D()(embedded)\n",
        "x = keras.layers.Dense(8)(embedded)\n",
        "x = keras.layers.Dropout(0.5)(x)\n",
        "outputs = keras.layers.Dense(3, activation=\"softmax\")(x)\n",
        "\n",
        "model = keras.Model(inputs, outputs)\n",
        "model.summary()"
      ]
    },
    {
      "cell_type": "code",
      "execution_count": 37,
      "metadata": {
        "id": "d64aLxCwu6Ik"
      },
      "outputs": [],
      "source": [
        "model.compile(optimizer=\"adam\",\n",
        "              loss=\"categorical_crossentropy\",\n",
        "              metrics=[\"accuracy\"])\n"
      ]
    },
    {
      "cell_type": "code",
      "execution_count": 38,
      "metadata": {
        "id": "rZ5YVI4Ju7IE",
        "colab": {
          "base_uri": "https://localhost:8080/"
        },
        "outputId": "8da306e6-7858-421a-aed8-157c0c59f445"
      },
      "outputs": [
        {
          "output_type": "stream",
          "name": "stdout",
          "text": [
            "Epoch 1/10\n",
            "1531/1531 [==============================] - 31s 20ms/step - loss: 0.7847 - accuracy: 0.6632 - val_loss: 0.6572 - val_accuracy: 0.7216\n",
            "Epoch 2/10\n",
            "1531/1531 [==============================] - 25s 16ms/step - loss: 0.6763 - accuracy: 0.7114 - val_loss: 0.6253 - val_accuracy: 0.7305\n",
            "Epoch 3/10\n",
            "1531/1531 [==============================] - 25s 16ms/step - loss: 0.6445 - accuracy: 0.7255 - val_loss: 0.6119 - val_accuracy: 0.7371\n",
            "Epoch 4/10\n",
            "1531/1531 [==============================] - 27s 18ms/step - loss: 0.6275 - accuracy: 0.7344 - val_loss: 0.6126 - val_accuracy: 0.7386\n",
            "Epoch 5/10\n",
            "1531/1531 [==============================] - 30s 19ms/step - loss: 0.6132 - accuracy: 0.7398 - val_loss: 0.6184 - val_accuracy: 0.7317\n",
            "Epoch 6/10\n",
            "1531/1531 [==============================] - 29s 19ms/step - loss: 0.6016 - accuracy: 0.7457 - val_loss: 0.6119 - val_accuracy: 0.7370\n",
            "Epoch 7/10\n",
            "1531/1531 [==============================] - 24s 16ms/step - loss: 0.5893 - accuracy: 0.7482 - val_loss: 0.6178 - val_accuracy: 0.7351\n",
            "Epoch 8/10\n",
            "1531/1531 [==============================] - 25s 16ms/step - loss: 0.5834 - accuracy: 0.7519 - val_loss: 0.6177 - val_accuracy: 0.7379\n",
            "Epoch 9/10\n",
            "1531/1531 [==============================] - 28s 18ms/step - loss: 0.5750 - accuracy: 0.7566 - val_loss: 0.6201 - val_accuracy: 0.7346\n",
            "Epoch 10/10\n",
            "1531/1531 [==============================] - 28s 18ms/step - loss: 0.5706 - accuracy: 0.7593 - val_loss: 0.6297 - val_accuracy: 0.7345\n"
          ]
        },
        {
          "output_type": "execute_result",
          "data": {
            "text/plain": [
              "<keras.src.callbacks.History at 0x7fe49f97f9a0>"
            ]
          },
          "metadata": {},
          "execution_count": 38
        }
      ],
      "source": [
        "# Fit model\n",
        "model.fit(x=X_train, y=y_train,\n",
        "          validation_data=(X_val, y_val),\n",
        "          epochs=10,\n",
        "          batch_size=32,)"
      ]
    },
    {
      "cell_type": "code",
      "execution_count": 39,
      "metadata": {
        "id": "hJde9OXTu8S3",
        "colab": {
          "base_uri": "https://localhost:8080/"
        },
        "outputId": "9fa43e43-8910-4f57-905a-31ff85259ef4"
      },
      "outputs": [
        {
          "output_type": "stream",
          "name": "stdout",
          "text": [
            "681/681 [==============================] - 3s 4ms/step - loss: 0.6440 - accuracy: 0.7328\n"
          ]
        },
        {
          "output_type": "execute_result",
          "data": {
            "text/plain": [
              "[0.6440224051475525, 0.7328006029129028]"
            ]
          },
          "metadata": {},
          "execution_count": 39
        }
      ],
      "source": [
        "model.evaluate(x=X_test, y=y_test)"
      ]
    },
    {
      "cell_type": "markdown",
      "metadata": {
        "id": "E5fQ3BMTu-E5"
      },
      "source": [
        "Nice improvement!\n",
        "\n",
        "Let's run the model on a lyric fragment and see what it predicts. We will create a little helper function to make life easier."
      ]
    },
    {
      "cell_type": "code",
      "execution_count": 40,
      "metadata": {
        "id": "DNMZCmNnu_ud"
      },
      "outputs": [],
      "source": [
        "def lyric_predict(phrase):\n",
        "    raw_text_data = tf.convert_to_tensor([[phrase],])\n",
        "\n",
        "    vect_data = text_vectorization(raw_text_data)\n",
        "    predictions = model.predict(vect_data)\n",
        "    predictions\n",
        "    print(f\"{float(predictions[0,0] * 100):.2f} % Hip-Hop\")\n",
        "    print(f\"{float(predictions[0,1] * 100):.2f} % Pop\")\n",
        "    print(f\"{float(predictions[0,2] * 100):.2f} % Rock\")"
      ]
    },
    {
      "cell_type": "code",
      "execution_count": 41,
      "metadata": {
        "id": "4GCnz-VWvAqC",
        "colab": {
          "base_uri": "https://localhost:8080/"
        },
        "outputId": "a3bb95d3-0178-4452-e533-a747ecb7ce48"
      },
      "outputs": [
        {
          "output_type": "stream",
          "name": "stdout",
          "text": [
            "1/1 [==============================] - 0s 224ms/step\n",
            "63.13 % Hip-Hop\n",
            "14.28 % Pop\n",
            "22.59 % Rock\n"
          ]
        }
      ],
      "source": [
        "phrase = '''I grew up on the crime side, the New York Times side\n",
        "Stayin' alive was no jive\n",
        "Had secondhands, Mom's bounced on old man\n",
        "So then we moved to Shaolin land\n",
        "A young youth, yo, rockin' the gold tooth, 'Lo goose\n",
        "Only way I begin the G off was drug loot\n",
        "And let's start it like this, son\n",
        "Rollin' with this one and that one, pullin' out gats for fun\n",
        "But it was just a dream for the teen\n",
        "Who was a fiend, started smokin' woolies at 16\n",
        "And runnin' up in gates and doin' hits for high stakes\n",
        "Makin' my way on fire escapes\n",
        "No question, I would speed for cracks and weed\n",
        "The combination made my eyes bleed\n",
        "No question, I would flow off and try to get the dough all\n",
        "Stickin' up white boys in ball courts\n",
        "My life got no better, same damn 'Lo sweater\n",
        "Times is rough and tough like leather\n",
        "Figured out I went the wrong route\n",
        "So I got with a sick-ass clique and went all out\n",
        "Catchin' keys from 'cross seas\n",
        "Rollin' in MPV's, every week we made forty G's\n",
        "Yo, ****, respect mine, or here go the TEC-9\n",
        "Ch-chick-pow! Move from the gate now'''\n",
        "\n",
        "lyric_predict(phrase)"
      ]
    },
    {
      "cell_type": "code",
      "execution_count": 42,
      "metadata": {
        "id": "hzoxg1GuvB2F",
        "colab": {
          "base_uri": "https://localhost:8080/"
        },
        "outputId": "b6d78dfc-52ec-4fb5-c96d-1bbb14f578d1"
      },
      "outputs": [
        {
          "output_type": "stream",
          "name": "stdout",
          "text": [
            "1/1 [==============================] - 0s 38ms/step\n",
            "3.82 % Hip-Hop\n",
            "49.45 % Pop\n",
            "46.73 % Rock\n"
          ]
        }
      ],
      "source": [
        "phrase = '''I walked through the door with you\n",
        "The air was cold\n",
        "But something about it felt like home somehow\n",
        "And I, left my scarf there at your sister's house\n",
        "And you've still got it in your drawer even now\n",
        "Oh, your sweet disposition\n",
        "And my wide-eyed gaze\n",
        "We're singing in the car, getting lost upstate\n",
        "Autumn leaves falling down like pieces into place\n",
        "And I can picture it after all these days\n",
        "And I know it's long gone and that magic's not here no more\n",
        "And I might be okay but I'm not fine at all\n",
        "'Cause there we are again on that little town street\n",
        "You almost ran the red 'cause you were lookin' over at me\n",
        "Wind in my hair, I was there\n",
        "I remember it all too well\n",
        "Photo album on the counter\n",
        "Your cheeks were turning red\n",
        "You used to be a little kid with glasses in a twin-sized bed\n",
        "And your mother's telling stories 'bout you on the tee-ball team\n",
        "You told me 'bout your past thinking your future was me\n",
        "And I know it's long gone and there was nothing else I could do\n",
        "And I forget about you long enough to forget why I needed to\n",
        "'Cause there we are again in the middle of the night\n",
        "We're dancing 'round the kitchen in the refrigerator light\n",
        "Down the stairs, I was there\n",
        "I remember it all too well, yeah\n",
        "And maybe we got lost in translation\n",
        "Maybe I asked for too much\n",
        "But maybe this thing was a masterpiece 'til you tore it all up\n",
        "Running scared, I was there\n",
        "I remember it all too well\n",
        "And you call me up again just to break me like a promise\n",
        "So casually cruel in the name of being honest\n",
        "I'm a crumpled up piece of paper lying here\n",
        "'Cause I remember it all, all, all\n",
        "Too well'''\n",
        "\n",
        "lyric_predict(phrase)"
      ]
    },
    {
      "cell_type": "markdown",
      "metadata": {
        "id": "Qb9NnWA1vFBG"
      },
      "source": [
        "## Adding Context with Bigrams\n"
      ]
    },
    {
      "cell_type": "markdown",
      "metadata": {
        "id": "OW8MtCnbvGIX"
      },
      "source": [
        "\n",
        "We're basically at 73% accuracy at this point!\n",
        "\n",
        "Can we do any better? Is there any aspect of the text that we're failing to capture with all the models we've seen so far?\n",
        "\n",
        "Suppose we're trying to predict the sentiment of a movie review that looks something like this:\n",
        "\n",
        "\"Kate Winslet's performance as a detective trying to solve a terrible crime in a small Pennsylvania town is anything but dissapointing.\"\n",
        "\n",
        "How would this be interpreted by our models that look at each word *separately*? Notice the words \"terrible\" and \"dissapointing\". These are words that carry a negative sentiment if looked out of context. However, by looking at the words sorrounding them (\"terrible crime\", \"anything but dissapointing\"), one can immediately notice that the first one is not a description of the quality of the movie, and the second one is actually a positive review.\n",
        "\n",
        "Although is easy for us to realize this, how can we make our models more context aware? As the example above suggests, we can look at words as groups instead of single entities. One way to do this is to change the way we do the Tokenization, and instead of picking words one by one, we can also pick pairs or more consecutive words.\n",
        "\n",
        "Let's start using bigrams, which will use pair of *consecutive* words as the level of tokenization to add more context to our models.\n",
        "\n",
        "The reason why we would like to do this is that discarding word order is very reductive, and because even atomic concepts can be expressed via multiple words: the term \"United States\" conveys a concept that is quite distinct from the meaning of the words \"states\" and \"united\" taken separately. For this reason, you will usually end up re-injecting local order information into your bag-of-words representation by looking at N-grams rather than single words (most commonly, bigrams).\n",
        "\n"
      ]
    },
    {
      "cell_type": "code",
      "execution_count": 43,
      "metadata": {
        "id": "-ft358PYvIEu"
      },
      "outputs": [],
      "source": [
        "# Text Vectorization layer using bigrams\n",
        "text_vectorization = keras.layers.TextVectorization(\n",
        "    ngrams=2,\n",
        "    output_mode=\"multi_hot\")"
      ]
    },
    {
      "cell_type": "code",
      "execution_count": 44,
      "metadata": {
        "id": "DcN6JsAdvI_g"
      },
      "outputs": [],
      "source": [
        "text_vectorization.adapt([\"the cat sat on a mat.\"])"
      ]
    },
    {
      "cell_type": "code",
      "execution_count": 45,
      "metadata": {
        "id": "aVBuF0i4vJ9q",
        "colab": {
          "base_uri": "https://localhost:8080/"
        },
        "outputId": "0c96fcdb-0613-4f97-abf3-2df32d001d31"
      },
      "outputs": [
        {
          "output_type": "execute_result",
          "data": {
            "text/plain": [
              "['[UNK]',\n",
              " 'the cat',\n",
              " 'the',\n",
              " 'sat on',\n",
              " 'sat',\n",
              " 'on a',\n",
              " 'on',\n",
              " 'mat',\n",
              " 'cat sat',\n",
              " 'cat',\n",
              " 'a mat',\n",
              " 'a']"
            ]
          },
          "metadata": {},
          "execution_count": 45
        }
      ],
      "source": [
        "text_vectorization.get_vocabulary()"
      ]
    }
  ],
  "metadata": {
    "colab": {
      "provenance": []
    },
    "kernelspec": {
      "display_name": "Python 3",
      "language": "python",
      "name": "python3"
    },
    "language_info": {
      "codemirror_mode": {
        "name": "ipython",
        "version": 3
      },
      "file_extension": ".py",
      "mimetype": "text/x-python",
      "name": "python",
      "nbconvert_exporter": "python",
      "pygments_lexer": "ipython3",
      "version": "3.6.9"
    }
  },
  "nbformat": 4,
  "nbformat_minor": 0
}