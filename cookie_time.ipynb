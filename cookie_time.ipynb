{
  "nbformat": 4,
  "nbformat_minor": 0,
  "metadata": {
    "colab": {
      "provenance": [],
      "authorship_tag": "ABX9TyM7od/xzgVSpiOnKBisX6E4"
    },
    "kernelspec": {
      "name": "python3",
      "display_name": "Python 3"
    },
    "language_info": {
      "name": "python"
    }
  },
  "cells": [
    {
      "cell_type": "code",
      "execution_count": 15,
      "metadata": {
        "colab": {
          "base_uri": "https://localhost:8080/"
        },
        "id": "J_qrBsjI0zmS",
        "outputId": "b34be7a0-3c65-4f7d-9283-c4f7c6757a3e"
      },
      "outputs": [
        {
          "output_type": "stream",
          "name": "stdout",
          "text": [
            "Requirement already satisfied: bs4 in /usr/local/lib/python3.10/dist-packages (0.0.2)\n",
            "Requirement already satisfied: beautifulsoup4 in /usr/local/lib/python3.10/dist-packages (from bs4) (4.12.3)\n",
            "Requirement already satisfied: soupsieve>1.2 in /usr/local/lib/python3.10/dist-packages (from beautifulsoup4->bs4) (2.6)\n",
            "Requirement already satisfied: crypto in /usr/local/lib/python3.10/dist-packages (1.4.1)\n",
            "Requirement already satisfied: Naked in /usr/local/lib/python3.10/dist-packages (from crypto) (0.1.32)\n",
            "Requirement already satisfied: shellescape in /usr/local/lib/python3.10/dist-packages (from crypto) (3.8.1)\n",
            "Requirement already satisfied: requests in /usr/local/lib/python3.10/dist-packages (from Naked->crypto) (2.32.3)\n",
            "Requirement already satisfied: pyyaml in /usr/local/lib/python3.10/dist-packages (from Naked->crypto) (6.0.2)\n",
            "Requirement already satisfied: charset-normalizer<4,>=2 in /usr/local/lib/python3.10/dist-packages (from requests->Naked->crypto) (3.3.2)\n",
            "Requirement already satisfied: idna<4,>=2.5 in /usr/local/lib/python3.10/dist-packages (from requests->Naked->crypto) (3.7)\n",
            "Requirement already satisfied: urllib3<3,>=1.21.1 in /usr/local/lib/python3.10/dist-packages (from requests->Naked->crypto) (2.0.7)\n",
            "Requirement already satisfied: certifi>=2017.4.17 in /usr/local/lib/python3.10/dist-packages (from requests->Naked->crypto) (2024.7.4)\n",
            "Requirement already satisfied: pycryptodome in /usr/local/lib/python3.10/dist-packages (3.20.0)\n",
            "Requirement already satisfied: pycryptodomex in /usr/local/lib/python3.10/dist-packages (3.20.0)\n"
          ]
        }
      ],
      "source": [
        "!pip install bs4\n",
        "!pip install crypto\n",
        "!pip install pycryptodome\n",
        "!pip install pycryptodomex"
      ]
    },
    {
      "cell_type": "code",
      "execution_count": 16,
      "metadata": {
        "colab": {
          "base_uri": "https://localhost:8080/"
        },
        "id": "RWSJpsyKqHjH",
        "outputId": "a979f064-06a8-41fd-cbf4-b964f3521295"
      },
      "outputs": [
        {
          "output_type": "stream",
          "name": "stdout",
          "text": [
            "Drive already mounted at /content/drive; to attempt to forcibly remount, call drive.mount(\"/content/drive\", force_remount=True).\n"
          ]
        }
      ],
      "source": [
        "from google.colab import drive\n",
        "drive.mount('/content/drive')"
      ]
    },
    {
      "cell_type": "code",
      "source": [
        "import datetime\n",
        "from Cryptodome.Cipher.AES import new, MODE_GCM, MODE_CBC\n",
        "from Crypto.Protocol.KDF import PBKDF2\n",
        "from urllib.parse import unquote, unquote_to_bytes\n",
        "from bs4 import BeautifulSoup\n",
        "import sqlite3\n",
        "import secretstorage\n",
        "\"\"\"\n",
        "bus = secretstorage.dbus_init()\n",
        "collection = secretstorage.get_default_collection(bus)\n",
        "for item in collection.get_all_items():\n",
        "    if item.get_label() == 'Chrome Safe Storage':\n",
        "        my_pass = item.get_secret()\n",
        "        break\n",
        "\"\"\"\n",
        "\n",
        "# Default values used by both Chrome browsers under Linux\n",
        "salt = b'saltysalt'\n",
        "iv = b' ' * 16\n",
        "length = 16\n",
        "my_pass = 'peanuts'.encode('utf8')\n",
        "iterations = 1\n",
        "\n",
        "\n",
        "def get_time(ticks):\n",
        "  t = datetime.datetime.now() + datetime.timedelta(microseconds = ticks/10)\n",
        "  return t.strftime(\"%Y-%m-%d %H:%M:%S.%f\")[:-3]\n",
        "\n",
        "# Function to get rid of padding\n",
        "def clean(x):\n",
        "    return x[:-x[-1]].decode('utf8')\n",
        "\n",
        "def linux_decrypt_value(value, encrypted_value):\n",
        "    if value or (encrypted_value[:3] not in (b'v10',b'v11')):\n",
        "      return value\n",
        "    keyit=encrypted_value[:3]\n",
        "    if keyit==b'v10':  # peanuts flavor\n",
        "      # Encrypted cookies prefixed with 'v10' according to the\n",
        "      # Chromium code. Strip it off.\n",
        "      my_pass='peanuts'.encode('utf8')\n",
        "    else:  # keyring flavor\n",
        "      # the key is on the keyring\n",
        "      my_pass=b't1KGF0OfYUO/x5r0gg0hXw=='\n",
        "    encrypted_value = encrypted_value[3:]\n",
        "    key = PBKDF2(my_pass, salt, length, iterations)\n",
        "    cipher = new(key, MODE_CBC, IV=iv)\n",
        "    decrypted = cipher.decrypt(encrypted_value)\n",
        "    return clean(decrypted)"
      ],
      "metadata": {
        "id": "s-hb5Qnz4cUr"
      },
      "execution_count": 17,
      "outputs": []
    },
    {
      "cell_type": "code",
      "source": [
        "\n",
        "bools = ['FALSE', 'TRUE']\n",
        "sql_ = \"\"\"SELECT\n",
        "  host_key,\n",
        "  is_httponly httponly,\n",
        "  path,\n",
        "  is_secure secure,\n",
        "  expires_utc/10000000 exp_utc,\n",
        "  name,\n",
        "  value val_,\n",
        "  encrypted_value eval_\n",
        "FROM\n",
        "  cookies;\n",
        "  \"\"\"\n",
        "\n",
        "filename='/content/drive/My Drive/Cookies'\n",
        "lstat='/content/drive/My Drive/lstat'\n",
        "\n",
        "with sqlite3.connect(filename) as conn:\n",
        "  #conn.enable_load_extension(True)\n",
        "  curs =  conn.cursor()\n",
        "  curs.execute(sql_)\n",
        "  results = curs.fetchall()\n",
        "\n",
        "  key = PBKDF2(my_pass, salt, length, iterations)\n",
        "\n",
        "  for r in results:\n",
        "    # only the MIT entries\n",
        "    if 'emeritus' in r[0].lower():\n",
        "      host_key, httponly, path, secure, exp_utc, cookie_name, val, enc_val = r\n",
        "      if enc_val is None or len(enc_val) == 0:\n",
        "        continue\n",
        "      httponly = bools[httponly]\n",
        "      secure = bools[secure]\n",
        "      \"\"\"\n",
        "      data = enc_val\n",
        "      nonce = data[3:15]\n",
        "      ciphertext = data[15:-16]\n",
        "      tag = data[-16:]\n",
        "      decrypted = ''\n",
        "      \"\"\"\n",
        "      try:\n",
        "        #cipher = new(key, MODE_GCM,  nonce=nonce)\n",
        "        #plaintext = cipher.decrypt_and_verify(ciphertext, tag)\n",
        "        #decrypted = plaintext.decode('utf8')\n",
        "        decrypted=linux_decrypt_value(val, enc_val)\n",
        "      except Exception as e:\n",
        "        print('ERR:',e)\n",
        "        continue\n",
        "      tt = get_time(exp_utc)\n",
        "      print(f'''--header \"{cookie_name}: {decrypted}; \" \\\\''')\n",
        "\n",
        "  curs.close()\n"
      ],
      "metadata": {
        "colab": {
          "base_uri": "https://localhost:8080/"
        },
        "id": "bKZbsGFEx-ca",
        "outputId": "56754a68-fca0-402b-9a52-c2f7c82fe0c7"
      },
      "execution_count": 18,
      "outputs": [
        {
          "output_type": "stream",
          "name": "stdout",
          "text": [
            "--header \"user_uuid: 5babbcdd-33a1-4cb1-a006-fec80cc23615; \" \\\n",
            "--header \"rce.htmleditor: RAW; \" \\\n",
            "--header \"_zendesk_shared_session: -R0g4eWxQZzhMajhZTjZ0RDJxRlhGUWZsR25Tb0JRaUw4NzRodDVRa1FDamtDRUF6dEFlajNkcWNyd1BybjcwN0FHc3BwNzVWM0VTN2c4dG1KbDBZcldUZVNqWWc3M3BIVjhib0I1eU1wQytUSURNUkQrWWUwY3BBYTBjMTZTcWw5azIwNWt1Mlh0a1JYSWdmWVFaWVRnPT0tLXYzU2FzdndKS0I3bW91QmpGT0Zrb1E9PQ%3D%3D--e8598e40e49af78f620295745160193413bd239e; \" \\\n",
            "--header \"preferences|{}: {\"global\":{\"playbackRate\":1,\"volume\":1,\"cc_lang\":\"en\"},\"videos\":{\"d9e5f124-0ea4-44eb-a2f0-949420604743\":{\"lastKnownTime\":499.053817},\"f1296a32-0f8c-4f0d-be74-042123c8b6f5\":{\"lastKnownTime\":772.88531},\"d46affc0-9359-484c-8571-433878803d74\":{\"lastKnownTime\":197.017842},\"ca7397c0-8ef6-4c79-9357-38b4fcd15c92\":{\"lastKnownTime\":196.707582},\"bb91c845-7e96-4af4-96c1-9644d75edc72\":{\"lastKnownTime\":76.701518},\"7fc0135f-4e2d-48f2-bc49-fa4a2e0a1131\":{\"lastKnownTime\":108.974752},\"bce62182-634c-4465-a1de-63639c0f9e08\":{\"lastKnownTime\":10.65858},\"1cf26270-baff-4c25-a1d6-e40590ecd33a\":{\"lastKnownTime\":9.688503},\"0a33762b-2e4b-4ecc-ac1f-532bd9683075\":{\"lastKnownTime\":9.369095},\"86ac27c5-6e05-48b8-b605-8ef5a91b4bd4\":{\"lastKnownTime\":5.074822}}}; \" \\\n",
            "--header \"_zendesk_session: cOZc0TezDC%2Fy7T1qcs98kg%2BvvDYpztTA4N%2BLUQOlhychLOfMFwnXLKgWkc9wJw2eqfru5e1c3XXaTKuPWPJk43xCcJthOuBoqFFilJcrfPcBLJSkpbab5J7ErxS84W0TXeMaQ9tgaKF7xo6kQ54XDBjqrjHbW4TEaV5yA5esueM6ggITLhNQVFn9RRLU2vx59rZrtntoy%2Fsx7lH7s5R%2BcTnhzjJEg5rLnKlPqRIB3%2B3S%2B%2Bckr12AOFdQN6fb%2Blf38otZdAYoizau%2F7al%2BvxVeZtz6APb7MGoLJGRHhJqIFiVAwX%2BHsAupSsf3ERy4bVM5MeEQy8h%2Fr9jqkQCQJc%2FsE2Vx14I40UF3wwngk73EB4lV0qgNgglPzrNaG1Ahuuj--gy0RTlpMbEviR2vM--xUtl1IGf0RaueJIciyCBvA%3D%3D; \" \\\n",
            "--header \"cf_clearance: 5YOQdBwWwutsaotahhW4DppbPncWkmIfxoxXgqPMMXo-1723057908-1.0.1.1-2haSe8Ra6mQWr7sDNqkLNv95JMDIlcdSriJUSbXgMJv72.ZJdwUB_Ex9y.C3kiqdXfNajPHn1h1jj.Qa65Qayw; \" \\\n",
            "--header \"JSESSIONID: C37095522AC1C664418A1DB162CAAEDD; \" \\\n",
            "--header \"JSESSIONID-legacy: C37095522AC1C664418A1DB162CAAEDD; \" \\\n",
            "--header \"JSESSIONID: D26E0D33649B727BDA2B5E076746CEDF; \" \\\n",
            "--header \"JSESSIONID-legacy: D26E0D33649B727BDA2B5E076746CEDF; \" \\\n",
            "--header \"SsoRedirectPathAndQuery: /Account/Login?ReturnUrl=%2fevents%2f30006101198701; \" \\\n",
            "--header \".ASPXAUTH.Shared: CfDJ8FG9angeMxpAiSTs0-PDs_KqUAeTJ6QfxywznwYqVKctFwznWKMnsWIFcXnd3aTUw2xL8PlLCo-ISAtdpGRa6EXFhv-Cq2G3vO0iDWXL4xxMakR57PnVXkfPnrvsHaLBLkMR8aO7U50HWfHd6O85DUTBHMA2SJGGoeLwLRSWdKeXfAgbc33SzDlAs2BcF00Va3J0lwzA4OWk_SgvU_E7dhBpXHTtTWZdifWI9G74ZT6ZCTEDe07hFzDkk7eLzIgwA6_qL9Zf1YG87V406ChUbVgf-ZJTOwAQdZig4904bSdu-2k_zIeDM4HjyMXpHKk2B3sdlHY6ao6qs3Y9gq_azcK3-xRJFQmKLuC33YA6uHtzP99yQ_7GTpix72N4Q2D9uup9Xlyq5KAldhy9HlvLL86YAGB4QkfYChKRCkqgKdzNV_iQ7GcvkMREDCygGea7U6AsFojkdrb-0Dfm1OgM1a2gSN_isrOIVVt0cO9_ODZ-3BA3W5eYJCQWtu-18fnjiZydm-a7TkM_XzF_9IU1UtBE5D8bHsRhpWC27Ut4SLGir0a6-x6D5_tX7CfAgKWF_Ft4vFGRVadu-5_QOIe7rhqT1X5vnMa9_5t4s1GCW_diC4zjr5i5F7Zw3Holl9aWviUqvQUuuXwfVYFQc8afjZHd6zK53OhNXbWj3ZH5Y5GuDRrr9IfBgI1pSzQK-nEM60gARzBSFVke6unez1d-gklv0kFjtQ7kbCmXo5k-Mw_hp2rfr9BbPdgHScnA3cYdvstj4rbWQHpBXC6tzSc7fSzOSLeM8SytV5elgDF9mq8ABpzfDnutYUbSGJJAbrcskA; \" \\\n",
            "--header \"ARRAffinity: 4b9215ff31ca74dbe4a4a008a4d3b0496bd8817f3bf49fd65d6e4a9d8e53106c; \" \\\n",
            "--header \"ARRAffinitySameSite: 4b9215ff31ca74dbe4a4a008a4d3b0496bd8817f3bf49fd65d6e4a9d8e53106c; \" \\\n",
            "--header \"__cfruid: 7e2360e54497898b6e3354f3baf3f37efb198f00-1724262602; \" \\\n",
            "--header \"_help_center_session: cHlqME5pREZEcTlLdi9vdDZUWTFsUklkcHIrbTlKb05sWStYRFhxR0QzUlRBVkJMRVIwYmxTK0xSdU5pYVMvSkw0cEM5TVdSZ0krOFRxVE9rZDJmRjdBbG9xOFN1d3NFdHdiNTdUWno0dERaazNNMUJCRDZiSUxvQ05kbWczT2hGVDRGcEt1dzY3dmVMYjY3Yy9vRlovdnFhUjhqK3RUbWMrWCs4OHBWaldxaEwrTWJmbDdGMEJJUkxFM1NjQU45LS04QW1vMDh5cGs0Z1ZlZWR5OHVPQitnPT0%3D--6eb8f24173c39c2894961483dc7c127a9e59acbe; \" \\\n",
            "--header \"split: %7B%22e20210706_checkout_improvements%22%3A%22variant%22%7D; \" \\\n",
            "--header \"_stripe_installment_session: VlpKJwBtqpKRoHe1j%2BdNLWxQwwTixbaVnJVT%2Bxjf2K0g9at%2Fbwsf8aCpFXsbggussYCuvUEN%2FY6k0SYIfHQwVgpXEZfqcqwq6bDchFpX9V%2BfmIx72MO%2FqCzFuC73Gs7dtdcD%2BpQVnIEGXoNTst%2FHYuhrCz7AC%2B10WLbWacjtSPKzWhh3wsuxVE24DQT%2FYaatrUIqwtI4fmXbFS%2Fa09gTC45sECuHvwYSacrmtKxBKJCoSMO28TPcG5YHUB3468pRj4qH8KbcJM2ADPRs%2FXXAXqv3WxSFNGOroXMpqsuBQdIFw96hzbttrQ9geEj0iEgKSWAqsKaGxaYuCxyYSnvlmd1b4UNhhp0gL2ilkBNakWgKmC7rTw3ERjqb5FynQDZG5ZCVIwWLPIc%2F7UbQAAGcsoTldzAmL%2FZb%2Fulbjs8ZWLEDlJBAB0OLh%2FZRKd8poXkiihYEojUWmMSf%2BH%2BNyoAnyCJ%2FGc8Xi5Ze17rrXM3zce2Nfl9%2BOiiHYza7oK1vgkx42UdITdXIRbMqJcfAamjCE4zb4KZLnqMidSy2iqQNW3PDcd%2BX%2F1sSfAbQc8G3Z8U%3D--3wBxACcuIgHZ%2B7ql--SDkV1QnCjBSKaiM2n7Y36w%3D%3D; \" \\\n",
            "--header \"track_event_uuid: 1fce73bd-b4f0-4152-8ae8-98f6fe3e5274; \" \\\n",
            "--header \"JSESSIONID: node0wut5fbqvjm6616pvdl65ew9ti4238168.node0; \" \\\n",
            "--header \"playerSession: 648abed4-8474-459c-93c0-191f30929f25; \" \\\n",
            "--header \"_legacy_normandy_session: xW-t3xELEZoko8v3qq0zjg+RFgo4iXiMdQDqoQAb5u13IrmUaEETtoEnvkToDBxbH1mVoyzVZulh3Lvro9CtINC4SbOUw4fcegCAAF0opaVF9zjnl459qWnzb-VF7-88E2GpjGrveDoN1Wshf5qzEqsNjlnKK6vM9AM2r7wRbIidqXzc_S5hFi_bL2xs-g_ERlsFtTHQqKCzDj5_vIWKTrnPPQYmez9zKFTUxxOLqQ0RmHFHdAh4njuVjOifDh7PC71qxB0cTIOZiCJmHATJBhAedgY7-yacs_bJKLbiN5Z0_xZkGjwRDJTaHX2qUyE2qAaPhhk5bbGRsV71FzFfizkavy_ycPtPZPDm1VLl6xsKVQMKCkrvo7xbkHdBPU_ppJPVpv-9_e1ok78QYWiR07G4QW6frnJ4pO8HkTei7LFNkkR-D_fpnjdePYraK54aSnl-eUMRUjOWXTNkiAhMnes2MxXWN4D_Ql5ISW1bPwwMoXhsELlB9_HAbo2prUxUW2Xz_JArPGgJD8w_6faRn4jCTS0_zae9IL65_cBYyIFwsA0qhmVsw1gj8FMLJfisTvRA4_-N2HVgRe9vaHfpT8Z0f6KIcbFek-zceWcnT8axAM9YuWcuw4PUme4jBLYH9Y.f3PW9TfLf3BnWeXFzJ89luK2i0s.Zste3A; \" \\\n",
            "--header \"_normandy_session: xW-t3xELEZoko8v3qq0zjg+RFgo4iXiMdQDqoQAb5u13IrmUaEETtoEnvkToDBxbH1mVoyzVZulh3Lvro9CtINC4SbOUw4fcegCAAF0opaVF9zjnl459qWnzb-VF7-88E2GpjGrveDoN1Wshf5qzEqsNjlnKK6vM9AM2r7wRbIidqXzc_S5hFi_bL2xs-g_ERlsFtTHQqKCzDj5_vIWKTrnPPQYmez9zKFTUxxOLqQ0RmHFHdAh4njuVjOifDh7PC71qxB0cTIOZiCJmHATJBhAedgY7-yacs_bJKLbiN5Z0_xZkGjwRDJTaHX2qUyE2qAaPhhk5bbGRsV71FzFfizkavy_ycPtPZPDm1VLl6xsKVQMKCkrvo7xbkHdBPU_ppJPVpv-9_e1ok78QYWiR07G4QW6frnJ4pO8HkTei7LFNkkR-D_fpnjdePYraK54aSnl-eUMRUjOWXTNkiAhMnes2MxXWN4D_Ql5ISW1bPwwMoXhsELlB9_HAbo2prUxUW2Xz_JArPGgJD8w_6faRn4jCTS0_zae9IL65_cBYyIFwsA0qhmVsw1gj8FMLJfisTvRA4_-N2HVgRe9vaHfpT8Z0f6KIcbFek-zceWcnT8axAM9YuWcuw4PUme4jBLYH9Y.f3PW9TfLf3BnWeXFzJ89luK2i0s.Zste3A; \" \\\n",
            "--header \"_em_trackpoint_cookie: em66cb468a456ff7.26867263; \" \\\n",
            "--header \"_em_trackpoint_uuid_cookie: em66cb468a457048.49112328; \" \\\n",
            "--header \"__zlcmid: 1K5mSmyF0CHnKrO; \" \\\n",
            "--header \"_csrf_token: iPJXAGh0X0pslTnQhU6%2BelaWXnMnH3V6PvF%2Fr%2FTG8y%2FjsxVhATM0Lgv%2FdaDNIMYLFdoRI25zEStOixjrpY6mdg%3D%3D; \" \\\n",
            "--header \"log_session_id: 8ef5c6bf41c7ce8bec0c33eaade9ad0f; \" \\\n"
          ]
        }
      ]
    }
  ]
}