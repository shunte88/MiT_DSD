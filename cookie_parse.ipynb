{
  "nbformat": 4,
  "nbformat_minor": 0,
  "metadata": {
    "colab": {
      "provenance": [],
      "authorship_tag": "ABX9TyMonRYdV6eQ93ECzf167Bft"
    },
    "kernelspec": {
      "name": "python3",
      "display_name": "Python 3"
    },
    "language_info": {
      "name": "python"
    }
  },
  "cells": [
    {
      "cell_type": "code",
      "execution_count": 50,
      "metadata": {
        "colab": {
          "base_uri": "https://localhost:8080/"
        },
        "id": "J_qrBsjI0zmS",
        "outputId": "42cc171f-9a90-482f-bebc-7879be004e90"
      },
      "outputs": [
        {
          "output_type": "stream",
          "name": "stdout",
          "text": [
            "> 52\n",
            "b'v11\\xb0(\\xcc\\x0bZ\\x81\\xe0\\x9b\\xe4\\xa0W\\xbd\\xc1\\xa5=M\\\\zqR\\x82p6\\xb1\\xf9n\\x0c\\xdeI\\xce$\\xe4TkK\\x88\\xc9\\xc8+\\x87\\xda\\xb1%T\\x97\\x8ajZ===='\n",
            "b'v11ZWMzqRp6nITkK+TjZ'\n",
            "> 20\n",
            "b'v114\\xd5L \\xfd\\x07\"\\xdc\\xea\\xfa\\x84\\xe2\\x1e\\xecA\\x94===='\n",
            "b'v114LA=='\n",
            "\n",
            "\n",
            "\n",
            "z is: b'MUs1bVNteUYwQ0huS3JP'\n",
            "> 20\n",
            "b'MUs1bVNteUYwQ0huS3JP==='\n",
            "b'MUs1bVNteUYwQ0huS3JP'\n",
            "dz is: b'1K5mSmyF0CHnKrO'\n",
            "tz is: None\n",
            "True\n",
            "iz is: b'1K5mSmyF0CHnKrO'\n",
            "> 20\n",
            "b'v11\\x94\\xaf\\x0bI\\x81R\\xfd\\x04I\\xd3\\x81\\x08\\xce\\x96\\xff\\xc0===='\n",
            "b'v11IRA=='\n"
          ]
        }
      ],
      "source": [
        "from base64 import b64decode as decode\n",
        "from base64 import b64encode as encode\n",
        "\n",
        "\n",
        "def foopad(foo):\n",
        "  while (len(foo)%4) != 0:\n",
        "    foo += b'='\n",
        "  print('>',len(foo))\n",
        "  return foo\n",
        "\n",
        "def fufoo(foo):\n",
        "  try:\n",
        "    foo = foopad(foo)\n",
        "    foo += b'==='\n",
        "    d=decode(foo)\n",
        "    print(foo)\n",
        "    print(encode(d))\n",
        "  except Exception as e:\n",
        "    print(e)\n",
        "    print(len(foo))\n",
        "  return\n",
        "\n",
        "fufoo(b'v11\\xb0(\\xcc\\x0bZ\\x81\\xe0\\x9b\\xe4\\xa0W\\xbd\\xc1\\xa5=M\\\\zqR\\x82p6\\xb1\\xf9n\\x0c\\xdeI\\xce$\\xe4TkK\\x88\\xc9\\xc8+\\x87\\xda\\xb1%T\\x97\\x8ajZ')\n",
        "fufoo(b'v114\\xd5L \\xfd\\x07\"\\xdc\\xea\\xfa\\x84\\xe2\\x1e\\xecA\\x94')\n",
        "print(\"\\n\\n\")\n",
        "iz = bytes('1K5mSmyF0CHnKrO','utf-8')\n",
        "z = encode(iz)\n",
        "print('z is:',z)\n",
        "dz = decode(z)\n",
        "tz=fufoo(z)\n",
        "print('dz is:',dz)\n",
        "print('tz is:',tz)\n",
        "print((decode(z)==iz))\n",
        "print('iz is:',iz)\n",
        "\n",
        "fufoo(b'v11\\x94\\xaf\\x0bI\\x81R\\xfd\\x04I\\xd3\\x81\\x08\\xce\\x96\\xff\\xc0=')\n"
      ]
    }
  ]
}