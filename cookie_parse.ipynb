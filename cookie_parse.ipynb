{
  "nbformat": 4,
  "nbformat_minor": 0,
  "metadata": {
    "colab": {
      "provenance": [],
      "authorship_tag": "ABX9TyPkq/E5eEfTZjxKMjCi/Knd"
    },
    "kernelspec": {
      "name": "python3",
      "display_name": "Python 3"
    },
    "language_info": {
      "name": "python"
    }
  },
  "cells": [
    {
      "cell_type": "code",
      "execution_count": 41,
      "metadata": {
        "colab": {
          "base_uri": "https://localhost:8080/",
          "height": 495
        },
        "id": "J_qrBsjI0zmS",
        "outputId": "6eb6aba9-af1b-42f0-db15-021a1b651519"
      },
      "outputs": [
        {
          "output_type": "stream",
          "name": "stdout",
          "text": [
            "b'n\\xfdu\\xc5\\xbd1q\\xcctm\\x9c|\\xd7\\x17\\xb4\\xc7\\xd6\\xf1{\\x8cZ\\xd1l[w\\x175\\xc5\\xae'\n",
            "b'bv11xb0xccx0bZx81xe0x9bxe4xa0Wxbdxc1xa4='\n",
            "b'n\\xfdu\\xe3\\x17y/\\x17\\xdd\\xc7N\\xf1u\\xcc^k\\x17\\xda\\xc7\\xce1{lu{\\x17\\x9c\\x03\\x1fx'\n",
            "b'bv114xd5Lxfdx07xdcxeaxfax84xe2x1execAx94'\n",
            "\n",
            "\n",
            "\n",
            "z is: b'MUs1bVNteUYwQ0huS3JP'\n"
          ]
        },
        {
          "output_type": "error",
          "ename": "Error",
          "evalue": "Invalid base64-encoded string: number of data characters (21) cannot be 1 more than a multiple of 4",
          "traceback": [
            "\u001b[0;31m---------------------------------------------------------------------------\u001b[0m",
            "\u001b[0;31mError\u001b[0m                                     Traceback (most recent call last)",
            "\u001b[0;32m<ipython-input-41-2a4fc4b8274d>\u001b[0m in \u001b[0;36m<cell line: 23>\u001b[0;34m()\u001b[0m\n\u001b[1;32m     21\u001b[0m \u001b[0mprint\u001b[0m\u001b[0;34m(\u001b[0m\u001b[0;34m'z is:'\u001b[0m\u001b[0;34m,\u001b[0m\u001b[0mz\u001b[0m\u001b[0;34m)\u001b[0m\u001b[0;34m\u001b[0m\u001b[0;34m\u001b[0m\u001b[0m\n\u001b[1;32m     22\u001b[0m \u001b[0mdz\u001b[0m \u001b[0;34m=\u001b[0m \u001b[0mdecode\u001b[0m\u001b[0;34m(\u001b[0m\u001b[0mz\u001b[0m\u001b[0;34m)\u001b[0m\u001b[0;34m\u001b[0m\u001b[0;34m\u001b[0m\u001b[0m\n\u001b[0;32m---> 23\u001b[0;31m \u001b[0mtz\u001b[0m\u001b[0;34m=\u001b[0m\u001b[0mfufoo\u001b[0m\u001b[0;34m(\u001b[0m\u001b[0mz\u001b[0m\u001b[0;34m)\u001b[0m\u001b[0;34m\u001b[0m\u001b[0;34m\u001b[0m\u001b[0m\n\u001b[0m\u001b[1;32m     24\u001b[0m \u001b[0mprint\u001b[0m\u001b[0;34m(\u001b[0m\u001b[0;34m'dz is:'\u001b[0m\u001b[0;34m,\u001b[0m\u001b[0mdz\u001b[0m\u001b[0;34m)\u001b[0m\u001b[0;34m\u001b[0m\u001b[0;34m\u001b[0m\u001b[0m\n\u001b[1;32m     25\u001b[0m \u001b[0mprint\u001b[0m\u001b[0;34m(\u001b[0m\u001b[0;34m'tz is:'\u001b[0m\u001b[0;34m,\u001b[0m\u001b[0mtz\u001b[0m\u001b[0;34m)\u001b[0m\u001b[0;34m\u001b[0m\u001b[0;34m\u001b[0m\u001b[0m\n",
            "\u001b[0;32m<ipython-input-41-2a4fc4b8274d>\u001b[0m in \u001b[0;36mfufoo\u001b[0;34m(foo)\u001b[0m\n\u001b[1;32m     10\u001b[0m \u001b[0;32mdef\u001b[0m \u001b[0mfufoo\u001b[0m\u001b[0;34m(\u001b[0m\u001b[0mfoo\u001b[0m\u001b[0;34m)\u001b[0m\u001b[0;34m:\u001b[0m\u001b[0;34m\u001b[0m\u001b[0;34m\u001b[0m\u001b[0m\n\u001b[1;32m     11\u001b[0m   \u001b[0mfoo\u001b[0m\u001b[0;34m=\u001b[0m\u001b[0mfoopad\u001b[0m\u001b[0;34m(\u001b[0m\u001b[0mfoo\u001b[0m\u001b[0;34m)\u001b[0m\u001b[0;34m\u001b[0m\u001b[0;34m\u001b[0m\u001b[0m\n\u001b[0;32m---> 12\u001b[0;31m   \u001b[0md\u001b[0m\u001b[0;34m=\u001b[0m\u001b[0mdecode\u001b[0m\u001b[0;34m(\u001b[0m\u001b[0;34mf'{foo}{\"=\"*(4-r)}'\u001b[0m\u001b[0;34m)\u001b[0m\u001b[0;34m\u001b[0m\u001b[0;34m\u001b[0m\u001b[0m\n\u001b[0m\u001b[1;32m     13\u001b[0m   \u001b[0mprint\u001b[0m\u001b[0;34m(\u001b[0m\u001b[0md\u001b[0m\u001b[0;34m)\u001b[0m\u001b[0;34m\u001b[0m\u001b[0;34m\u001b[0m\u001b[0m\n\u001b[1;32m     14\u001b[0m   \u001b[0mprint\u001b[0m\u001b[0;34m(\u001b[0m\u001b[0mencode\u001b[0m\u001b[0;34m(\u001b[0m\u001b[0md\u001b[0m\u001b[0;34m)\u001b[0m\u001b[0;34m)\u001b[0m\u001b[0;34m\u001b[0m\u001b[0;34m\u001b[0m\u001b[0m\n",
            "\u001b[0;32m/usr/lib/python3.10/base64.py\u001b[0m in \u001b[0;36mb64decode\u001b[0;34m(s, altchars, validate)\u001b[0m\n\u001b[1;32m     85\u001b[0m     \u001b[0;32mif\u001b[0m \u001b[0mvalidate\u001b[0m \u001b[0;32mand\u001b[0m \u001b[0;32mnot\u001b[0m \u001b[0mre\u001b[0m\u001b[0;34m.\u001b[0m\u001b[0mfullmatch\u001b[0m\u001b[0;34m(\u001b[0m\u001b[0;34mb'[A-Za-z0-9+/]*={0,2}'\u001b[0m\u001b[0;34m,\u001b[0m \u001b[0ms\u001b[0m\u001b[0;34m)\u001b[0m\u001b[0;34m:\u001b[0m\u001b[0;34m\u001b[0m\u001b[0;34m\u001b[0m\u001b[0m\n\u001b[1;32m     86\u001b[0m         \u001b[0;32mraise\u001b[0m \u001b[0mbinascii\u001b[0m\u001b[0;34m.\u001b[0m\u001b[0mError\u001b[0m\u001b[0;34m(\u001b[0m\u001b[0;34m'Non-base64 digit found'\u001b[0m\u001b[0;34m)\u001b[0m\u001b[0;34m\u001b[0m\u001b[0;34m\u001b[0m\u001b[0m\n\u001b[0;32m---> 87\u001b[0;31m     \u001b[0;32mreturn\u001b[0m \u001b[0mbinascii\u001b[0m\u001b[0;34m.\u001b[0m\u001b[0ma2b_base64\u001b[0m\u001b[0;34m(\u001b[0m\u001b[0ms\u001b[0m\u001b[0;34m)\u001b[0m\u001b[0;34m\u001b[0m\u001b[0;34m\u001b[0m\u001b[0m\n\u001b[0m\u001b[1;32m     88\u001b[0m \u001b[0;34m\u001b[0m\u001b[0m\n\u001b[1;32m     89\u001b[0m \u001b[0;34m\u001b[0m\u001b[0m\n",
            "\u001b[0;31mError\u001b[0m: Invalid base64-encoded string: number of data characters (21) cannot be 1 more than a multiple of 4"
          ]
        }
      ],
      "source": [
        "from base64 import b64decode as decode\n",
        "from base64 import b64encode as encode\n",
        "\n",
        "\n",
        "def foopad(foo):\n",
        "  while (len(foo)%4) != 0:\n",
        "    foo += b'='\n",
        "  return foo\n",
        "\n",
        "def fufoo(foo):\n",
        "  foo=foopad(foo)\n",
        "  d=decode(f'{foo}{\"=\"*(4-r)}')\n",
        "  print(d)\n",
        "  print(encode(d))\n",
        "\n",
        "fufoo(b'v11\\xb0(\\xcc\\x0bZ\\x81\\xe0\\x9b\\xe4\\xa0W\\xbd\\xc1\\xa5=M\\\\zqR\\x82p6\\xb1\\xf9n\\x0c\\xdeI\\xce$\\xe4TkK\\x88\\xc9\\xc8+\\x87\\xda\\xb1%T\\x97\\x8ajZ')\n",
        "fufoo(b'v114\\xd5L \\xfd\\x07\"\\xdc\\xea\\xfa\\x84\\xe2\\x1e\\xecA\\x94')\n",
        "print(\"\\n\\n\")\n",
        "iz = bytes('1K5mSmyF0CHnKrO','utf-8')\n",
        "z = encode(iz)\n",
        "print('z is:',z)\n",
        "dz = decode(z)\n",
        "tz=fufoo(z)\n",
        "print('dz is:',dz)\n",
        "print('tz is:',tz)\n",
        "print((decode(z)==iz))\n",
        "print('iz is:',iz)\n",
        "\n",
        "fufoo(b'v11\\x94\\xaf\\x0bI\\x81R\\xfd\\x04I\\xd3\\x81\\x08\\xce\\x96\\xff\\xc0=')\n"
      ]
    }
  ]
}